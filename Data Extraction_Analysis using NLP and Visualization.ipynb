{
  "nbformat": 4,
  "nbformat_minor": 0,
  "metadata": {
    "colab": {
      "provenance": [],
      "authorship_tag": "ABX9TyN/laMk2W8Xcrh7mDUDQ7oN",
      "include_colab_link": true
    },
    "kernelspec": {
      "name": "python3",
      "display_name": "Python 3"
    },
    "language_info": {
      "name": "python"
    }
  },
  "cells": [
    {
      "cell_type": "markdown",
      "metadata": {
        "id": "view-in-github",
        "colab_type": "text"
      },
      "source": [
        "<a href=\"https://colab.research.google.com/github/anirudhjaju/Grid-Search-CV-on-Diabetes-dataset/blob/main/Data%20Extraction_Analysis%20using%20NLP%20and%20Visualization.ipynb\" target=\"_parent\"><img src=\"https://colab.research.google.com/assets/colab-badge.svg\" alt=\"Open In Colab\"/></a>"
      ]
    },
    {
      "cell_type": "code",
      "execution_count": null,
      "metadata": {
        "id": "7cJ7f8AwnfrF"
      },
      "outputs": [],
      "source": [
        "import pandas as pd\n",
        "import numpy as np"
      ]
    },
    {
      "cell_type": "markdown",
      "source": [
        "**1.Data from African Development Bank Group**"
      ],
      "metadata": {
        "id": "SVq7_fKfn4tH"
      }
    },
    {
      "cell_type": "code",
      "source": [
        "df=pd.read_csv(\"/content/dataset1.csv\")\n",
        "df.rename(columns={'Project Name':'Project'},inplace=True)\n",
        "df.head()\n"
      ],
      "metadata": {
        "colab": {
          "base_uri": "https://localhost:8080/",
          "height": 206
        },
        "id": "vbe8-N4NpG2H",
        "outputId": "50b58d26-a907-42f0-c86f-59b243a99604"
      },
      "execution_count": null,
      "outputs": [
        {
          "output_type": "execute_result",
          "data": {
            "text/plain": [
              "             ID                                            Project  \\\n",
              "0  P-Z1-DB0-202  MULTINATIONAL NACALA ROAD CORRIDOR DEVELOPMENT...   \n",
              "1  P-LS-E00-007  CLIMATE CHANGE ADAPTATION FOR SUSTAINABLE RURA...   \n",
              "2  P-GA-E00-001  PROGRAMME INTÉGRÉ D'ALIMENTATION EN EAU POTABL...   \n",
              "3  P-UG-EB0-007  PREPARATION OF FEASIBILITY STUDIES AND DETAILE...   \n",
              "4  P-DZ-KF0-003  APPUI GOUVERNANCE ENTREPRISES PUBLIQUES ET DES...   \n",
              "\n",
              "         Country          Status   Approval  \n",
              "0  Multinational  Identification  19-Jun-19  \n",
              "1        Lesotho         Lending  30-May-19  \n",
              "2          Gabon        Approved  10-Jan-19  \n",
              "3         Uganda        Approved  18-Dec-18  \n",
              "4        Algeria        Approved  18-Dec-18  "
            ],
            "text/html": [
              "\n",
              "  <div id=\"df-30cbcc1b-1326-43cb-884c-051a629e28b6\">\n",
              "    <div class=\"colab-df-container\">\n",
              "      <div>\n",
              "<style scoped>\n",
              "    .dataframe tbody tr th:only-of-type {\n",
              "        vertical-align: middle;\n",
              "    }\n",
              "\n",
              "    .dataframe tbody tr th {\n",
              "        vertical-align: top;\n",
              "    }\n",
              "\n",
              "    .dataframe thead th {\n",
              "        text-align: right;\n",
              "    }\n",
              "</style>\n",
              "<table border=\"1\" class=\"dataframe\">\n",
              "  <thead>\n",
              "    <tr style=\"text-align: right;\">\n",
              "      <th></th>\n",
              "      <th>ID</th>\n",
              "      <th>Project</th>\n",
              "      <th>Country</th>\n",
              "      <th>Status</th>\n",
              "      <th>Approval</th>\n",
              "    </tr>\n",
              "  </thead>\n",
              "  <tbody>\n",
              "    <tr>\n",
              "      <th>0</th>\n",
              "      <td>P-Z1-DB0-202</td>\n",
              "      <td>MULTINATIONAL NACALA ROAD CORRIDOR DEVELOPMENT...</td>\n",
              "      <td>Multinational</td>\n",
              "      <td>Identification</td>\n",
              "      <td>19-Jun-19</td>\n",
              "    </tr>\n",
              "    <tr>\n",
              "      <th>1</th>\n",
              "      <td>P-LS-E00-007</td>\n",
              "      <td>CLIMATE CHANGE ADAPTATION FOR SUSTAINABLE RURA...</td>\n",
              "      <td>Lesotho</td>\n",
              "      <td>Lending</td>\n",
              "      <td>30-May-19</td>\n",
              "    </tr>\n",
              "    <tr>\n",
              "      <th>2</th>\n",
              "      <td>P-GA-E00-001</td>\n",
              "      <td>PROGRAMME INTÉGRÉ D'ALIMENTATION EN EAU POTABL...</td>\n",
              "      <td>Gabon</td>\n",
              "      <td>Approved</td>\n",
              "      <td>10-Jan-19</td>\n",
              "    </tr>\n",
              "    <tr>\n",
              "      <th>3</th>\n",
              "      <td>P-UG-EB0-007</td>\n",
              "      <td>PREPARATION OF FEASIBILITY STUDIES AND DETAILE...</td>\n",
              "      <td>Uganda</td>\n",
              "      <td>Approved</td>\n",
              "      <td>18-Dec-18</td>\n",
              "    </tr>\n",
              "    <tr>\n",
              "      <th>4</th>\n",
              "      <td>P-DZ-KF0-003</td>\n",
              "      <td>APPUI GOUVERNANCE ENTREPRISES PUBLIQUES ET DES...</td>\n",
              "      <td>Algeria</td>\n",
              "      <td>Approved</td>\n",
              "      <td>18-Dec-18</td>\n",
              "    </tr>\n",
              "  </tbody>\n",
              "</table>\n",
              "</div>\n",
              "      <button class=\"colab-df-convert\" onclick=\"convertToInteractive('df-30cbcc1b-1326-43cb-884c-051a629e28b6')\"\n",
              "              title=\"Convert this dataframe to an interactive table.\"\n",
              "              style=\"display:none;\">\n",
              "        \n",
              "  <svg xmlns=\"http://www.w3.org/2000/svg\" height=\"24px\"viewBox=\"0 0 24 24\"\n",
              "       width=\"24px\">\n",
              "    <path d=\"M0 0h24v24H0V0z\" fill=\"none\"/>\n",
              "    <path d=\"M18.56 5.44l.94 2.06.94-2.06 2.06-.94-2.06-.94-.94-2.06-.94 2.06-2.06.94zm-11 1L8.5 8.5l.94-2.06 2.06-.94-2.06-.94L8.5 2.5l-.94 2.06-2.06.94zm10 10l.94 2.06.94-2.06 2.06-.94-2.06-.94-.94-2.06-.94 2.06-2.06.94z\"/><path d=\"M17.41 7.96l-1.37-1.37c-.4-.4-.92-.59-1.43-.59-.52 0-1.04.2-1.43.59L10.3 9.45l-7.72 7.72c-.78.78-.78 2.05 0 2.83L4 21.41c.39.39.9.59 1.41.59.51 0 1.02-.2 1.41-.59l7.78-7.78 2.81-2.81c.8-.78.8-2.07 0-2.86zM5.41 20L4 18.59l7.72-7.72 1.47 1.35L5.41 20z\"/>\n",
              "  </svg>\n",
              "      </button>\n",
              "      \n",
              "  <style>\n",
              "    .colab-df-container {\n",
              "      display:flex;\n",
              "      flex-wrap:wrap;\n",
              "      gap: 12px;\n",
              "    }\n",
              "\n",
              "    .colab-df-convert {\n",
              "      background-color: #E8F0FE;\n",
              "      border: none;\n",
              "      border-radius: 50%;\n",
              "      cursor: pointer;\n",
              "      display: none;\n",
              "      fill: #1967D2;\n",
              "      height: 32px;\n",
              "      padding: 0 0 0 0;\n",
              "      width: 32px;\n",
              "    }\n",
              "\n",
              "    .colab-df-convert:hover {\n",
              "      background-color: #E2EBFA;\n",
              "      box-shadow: 0px 1px 2px rgba(60, 64, 67, 0.3), 0px 1px 3px 1px rgba(60, 64, 67, 0.15);\n",
              "      fill: #174EA6;\n",
              "    }\n",
              "\n",
              "    [theme=dark] .colab-df-convert {\n",
              "      background-color: #3B4455;\n",
              "      fill: #D2E3FC;\n",
              "    }\n",
              "\n",
              "    [theme=dark] .colab-df-convert:hover {\n",
              "      background-color: #434B5C;\n",
              "      box-shadow: 0px 1px 3px 1px rgba(0, 0, 0, 0.15);\n",
              "      filter: drop-shadow(0px 1px 2px rgba(0, 0, 0, 0.3));\n",
              "      fill: #FFFFFF;\n",
              "    }\n",
              "  </style>\n",
              "\n",
              "      <script>\n",
              "        const buttonEl =\n",
              "          document.querySelector('#df-30cbcc1b-1326-43cb-884c-051a629e28b6 button.colab-df-convert');\n",
              "        buttonEl.style.display =\n",
              "          google.colab.kernel.accessAllowed ? 'block' : 'none';\n",
              "\n",
              "        async function convertToInteractive(key) {\n",
              "          const element = document.querySelector('#df-30cbcc1b-1326-43cb-884c-051a629e28b6');\n",
              "          const dataTable =\n",
              "            await google.colab.kernel.invokeFunction('convertToInteractive',\n",
              "                                                     [key], {});\n",
              "          if (!dataTable) return;\n",
              "\n",
              "          const docLinkHtml = 'Like what you see? Visit the ' +\n",
              "            '<a target=\"_blank\" href=https://colab.research.google.com/notebooks/data_table.ipynb>data table notebook</a>'\n",
              "            + ' to learn more about interactive tables.';\n",
              "          element.innerHTML = '';\n",
              "          dataTable['output_type'] = 'display_data';\n",
              "          await google.colab.output.renderOutput(dataTable, element);\n",
              "          const docLink = document.createElement('div');\n",
              "          docLink.innerHTML = docLinkHtml;\n",
              "          element.appendChild(docLink);\n",
              "        }\n",
              "      </script>\n",
              "    </div>\n",
              "  </div>\n",
              "  "
            ]
          },
          "metadata": {},
          "execution_count": 3
        }
      ]
    },
    {
      "cell_type": "code",
      "source": [
        "df=df.drop(['ID'],axis=1)\n",
        "df.head()"
      ],
      "metadata": {
        "colab": {
          "base_uri": "https://localhost:8080/",
          "height": 206
        },
        "id": "orI-7Xv5pqx8",
        "outputId": "2c8aa676-9c22-4ed0-ba95-2de6f93c8432"
      },
      "execution_count": null,
      "outputs": [
        {
          "output_type": "execute_result",
          "data": {
            "text/plain": [
              "                                             Project        Country  \\\n",
              "0  MULTINATIONAL NACALA ROAD CORRIDOR DEVELOPMENT...  Multinational   \n",
              "1  CLIMATE CHANGE ADAPTATION FOR SUSTAINABLE RURA...        Lesotho   \n",
              "2  PROGRAMME INTÉGRÉ D'ALIMENTATION EN EAU POTABL...          Gabon   \n",
              "3  PREPARATION OF FEASIBILITY STUDIES AND DETAILE...         Uganda   \n",
              "4  APPUI GOUVERNANCE ENTREPRISES PUBLIQUES ET DES...        Algeria   \n",
              "\n",
              "           Status   Approval  \n",
              "0  Identification  19-Jun-19  \n",
              "1         Lending  30-May-19  \n",
              "2        Approved  10-Jan-19  \n",
              "3        Approved  18-Dec-18  \n",
              "4        Approved  18-Dec-18  "
            ],
            "text/html": [
              "\n",
              "  <div id=\"df-95776509-bca4-47e8-a2b2-172d4b561745\">\n",
              "    <div class=\"colab-df-container\">\n",
              "      <div>\n",
              "<style scoped>\n",
              "    .dataframe tbody tr th:only-of-type {\n",
              "        vertical-align: middle;\n",
              "    }\n",
              "\n",
              "    .dataframe tbody tr th {\n",
              "        vertical-align: top;\n",
              "    }\n",
              "\n",
              "    .dataframe thead th {\n",
              "        text-align: right;\n",
              "    }\n",
              "</style>\n",
              "<table border=\"1\" class=\"dataframe\">\n",
              "  <thead>\n",
              "    <tr style=\"text-align: right;\">\n",
              "      <th></th>\n",
              "      <th>Project</th>\n",
              "      <th>Country</th>\n",
              "      <th>Status</th>\n",
              "      <th>Approval</th>\n",
              "    </tr>\n",
              "  </thead>\n",
              "  <tbody>\n",
              "    <tr>\n",
              "      <th>0</th>\n",
              "      <td>MULTINATIONAL NACALA ROAD CORRIDOR DEVELOPMENT...</td>\n",
              "      <td>Multinational</td>\n",
              "      <td>Identification</td>\n",
              "      <td>19-Jun-19</td>\n",
              "    </tr>\n",
              "    <tr>\n",
              "      <th>1</th>\n",
              "      <td>CLIMATE CHANGE ADAPTATION FOR SUSTAINABLE RURA...</td>\n",
              "      <td>Lesotho</td>\n",
              "      <td>Lending</td>\n",
              "      <td>30-May-19</td>\n",
              "    </tr>\n",
              "    <tr>\n",
              "      <th>2</th>\n",
              "      <td>PROGRAMME INTÉGRÉ D'ALIMENTATION EN EAU POTABL...</td>\n",
              "      <td>Gabon</td>\n",
              "      <td>Approved</td>\n",
              "      <td>10-Jan-19</td>\n",
              "    </tr>\n",
              "    <tr>\n",
              "      <th>3</th>\n",
              "      <td>PREPARATION OF FEASIBILITY STUDIES AND DETAILE...</td>\n",
              "      <td>Uganda</td>\n",
              "      <td>Approved</td>\n",
              "      <td>18-Dec-18</td>\n",
              "    </tr>\n",
              "    <tr>\n",
              "      <th>4</th>\n",
              "      <td>APPUI GOUVERNANCE ENTREPRISES PUBLIQUES ET DES...</td>\n",
              "      <td>Algeria</td>\n",
              "      <td>Approved</td>\n",
              "      <td>18-Dec-18</td>\n",
              "    </tr>\n",
              "  </tbody>\n",
              "</table>\n",
              "</div>\n",
              "      <button class=\"colab-df-convert\" onclick=\"convertToInteractive('df-95776509-bca4-47e8-a2b2-172d4b561745')\"\n",
              "              title=\"Convert this dataframe to an interactive table.\"\n",
              "              style=\"display:none;\">\n",
              "        \n",
              "  <svg xmlns=\"http://www.w3.org/2000/svg\" height=\"24px\"viewBox=\"0 0 24 24\"\n",
              "       width=\"24px\">\n",
              "    <path d=\"M0 0h24v24H0V0z\" fill=\"none\"/>\n",
              "    <path d=\"M18.56 5.44l.94 2.06.94-2.06 2.06-.94-2.06-.94-.94-2.06-.94 2.06-2.06.94zm-11 1L8.5 8.5l.94-2.06 2.06-.94-2.06-.94L8.5 2.5l-.94 2.06-2.06.94zm10 10l.94 2.06.94-2.06 2.06-.94-2.06-.94-.94-2.06-.94 2.06-2.06.94z\"/><path d=\"M17.41 7.96l-1.37-1.37c-.4-.4-.92-.59-1.43-.59-.52 0-1.04.2-1.43.59L10.3 9.45l-7.72 7.72c-.78.78-.78 2.05 0 2.83L4 21.41c.39.39.9.59 1.41.59.51 0 1.02-.2 1.41-.59l7.78-7.78 2.81-2.81c.8-.78.8-2.07 0-2.86zM5.41 20L4 18.59l7.72-7.72 1.47 1.35L5.41 20z\"/>\n",
              "  </svg>\n",
              "      </button>\n",
              "      \n",
              "  <style>\n",
              "    .colab-df-container {\n",
              "      display:flex;\n",
              "      flex-wrap:wrap;\n",
              "      gap: 12px;\n",
              "    }\n",
              "\n",
              "    .colab-df-convert {\n",
              "      background-color: #E8F0FE;\n",
              "      border: none;\n",
              "      border-radius: 50%;\n",
              "      cursor: pointer;\n",
              "      display: none;\n",
              "      fill: #1967D2;\n",
              "      height: 32px;\n",
              "      padding: 0 0 0 0;\n",
              "      width: 32px;\n",
              "    }\n",
              "\n",
              "    .colab-df-convert:hover {\n",
              "      background-color: #E2EBFA;\n",
              "      box-shadow: 0px 1px 2px rgba(60, 64, 67, 0.3), 0px 1px 3px 1px rgba(60, 64, 67, 0.15);\n",
              "      fill: #174EA6;\n",
              "    }\n",
              "\n",
              "    [theme=dark] .colab-df-convert {\n",
              "      background-color: #3B4455;\n",
              "      fill: #D2E3FC;\n",
              "    }\n",
              "\n",
              "    [theme=dark] .colab-df-convert:hover {\n",
              "      background-color: #434B5C;\n",
              "      box-shadow: 0px 1px 3px 1px rgba(0, 0, 0, 0.15);\n",
              "      filter: drop-shadow(0px 1px 2px rgba(0, 0, 0, 0.3));\n",
              "      fill: #FFFFFF;\n",
              "    }\n",
              "  </style>\n",
              "\n",
              "      <script>\n",
              "        const buttonEl =\n",
              "          document.querySelector('#df-95776509-bca4-47e8-a2b2-172d4b561745 button.colab-df-convert');\n",
              "        buttonEl.style.display =\n",
              "          google.colab.kernel.accessAllowed ? 'block' : 'none';\n",
              "\n",
              "        async function convertToInteractive(key) {\n",
              "          const element = document.querySelector('#df-95776509-bca4-47e8-a2b2-172d4b561745');\n",
              "          const dataTable =\n",
              "            await google.colab.kernel.invokeFunction('convertToInteractive',\n",
              "                                                     [key], {});\n",
              "          if (!dataTable) return;\n",
              "\n",
              "          const docLinkHtml = 'Like what you see? Visit the ' +\n",
              "            '<a target=\"_blank\" href=https://colab.research.google.com/notebooks/data_table.ipynb>data table notebook</a>'\n",
              "            + ' to learn more about interactive tables.';\n",
              "          element.innerHTML = '';\n",
              "          dataTable['output_type'] = 'display_data';\n",
              "          await google.colab.output.renderOutput(dataTable, element);\n",
              "          const docLink = document.createElement('div');\n",
              "          docLink.innerHTML = docLinkHtml;\n",
              "          element.appendChild(docLink);\n",
              "        }\n",
              "      </script>\n",
              "    </div>\n",
              "  </div>\n",
              "  "
            ]
          },
          "metadata": {},
          "execution_count": 4
        }
      ]
    },
    {
      "cell_type": "markdown",
      "source": [
        "**NLP Operations**"
      ],
      "metadata": {
        "id": "o0Rj_KzbpuTh"
      }
    },
    {
      "cell_type": "code",
      "source": [
        "import spacy\n",
        "nlp=spacy.load(\"en_core_web_sm\")"
      ],
      "metadata": {
        "colab": {
          "base_uri": "https://localhost:8080/"
        },
        "id": "XsVHvMZlp0c1",
        "outputId": "b45e812f-f1ca-4b8e-c87c-685060faab70"
      },
      "execution_count": null,
      "outputs": [
        {
          "output_type": "stream",
          "name": "stderr",
          "text": [
            "/usr/local/lib/python3.9/dist-packages/torch/cuda/__init__.py:497: UserWarning: Can't initialize NVML\n",
            "  warnings.warn(\"Can't initialize NVML\")\n"
          ]
        }
      ]
    },
    {
      "cell_type": "code",
      "source": [
        "nlp.pipe_names"
      ],
      "metadata": {
        "colab": {
          "base_uri": "https://localhost:8080/"
        },
        "id": "cA7NOuY_p8eh",
        "outputId": "0193e91e-cbc3-4ffd-ec78-8b32c29a1447"
      },
      "execution_count": null,
      "outputs": [
        {
          "output_type": "execute_result",
          "data": {
            "text/plain": [
              "['tok2vec', 'tagger', 'parser', 'attribute_ruler', 'lemmatizer', 'ner']"
            ]
          },
          "metadata": {},
          "execution_count": 6
        }
      ]
    },
    {
      "cell_type": "code",
      "source": [
        "tokens = nlp(''.join(str(df.Project.tolist())))\n",
        "tokens"
      ],
      "metadata": {
        "colab": {
          "base_uri": "https://localhost:8080/"
        },
        "id": "7pRfHKKvqARM",
        "outputId": "8e21672f-3267-49ca-fcb7-273be375ce88"
      },
      "execution_count": null,
      "outputs": [
        {
          "output_type": "execute_result",
          "data": {
            "text/plain": [
              "['MULTINATIONAL NACALA ROAD CORRIDOR DEVELOPMENT PROJECT PHASE V - MALAWI', 'CLIMATE CHANGE ADAPTATION FOR SUSTAINABLE RURAL WATER SUPPLY IN LOWLANDS LESOTHO', \"PROGRAMME INTÉGRÉ D'ALIMENTATION EN EAU POTABLE ET ASSAINISSEMENT DE LIBREVILLE SOUS-PROGRAMME 1\", 'PREPARATION OF FEASIBILITY STUDIES AND DETAILED DESIGNS FOR FAECAL SLUDGE SERVICE CHAIN MANAGEMENT', \"APPUI GOUVERNANCE ENTREPRISES PUBLIQUES ET DES PARTICIPATIONS DE L'ETAT\", 'NACHTIGAL HYDRO POWER PROJECT', 'ACHWA II HYDROPOWER PLANT', 'EMERGING AFRICA INFRASTRUCTURE FUND PROJECT (EAIF3)', \"TCHAD-ABN PROGRAMME INTEGRE DE DEVELOPPEMENT ET D'ADAPTATION AUX CC DANS LE BASSIN DU NIGER\", 'OUBANGUI RIVER BRIDGE& BANGUI-KISANGANI-BUJUMBURA& KISANGANI-KAMPALA ROADS,PHASEI CTRAL&EAST AFRICA', 'BANQUE DE DEVELOPPEMENT DU MALI BDM', 'PROJET RENFORCEMENT DE LA RÉSILIENCE POUR LA SÉCURITÉ ALIMENTAIRE P2RS - GEF', \"PROGRAMME DESERT TO POWER - PROJET YELEEN D'ELECTRIFICATION RURALE\", 'GSEZ PORT PROJECT', 'SAY NO TO FAMINE FOR NIGERIA', 'ADDITIONAL LOAN TO IBSDLIEP FOR THE COMPLETION OF FSTC LASSA BORNO STATE', 'NIGERIA - AFRICAN TRADE INSURANCE (ATI) COUNTRY MEMBERSHIP PROGRAMME', 'RWANDA SUSTAINABLE WATER SUPPLY AND SANITATION PROGRAM ADDITIONAL FINANCING', 'FEASIBILITY STUDY OF THE DEEP SEA PORT IN GUINEA-BISSAU', 'FEASIBILITY STUDY OF A DEEP SEA PORT IN THE NORTH-WEST REGION OF THE REPUBLIC OF GUINEA']"
            ]
          },
          "metadata": {},
          "execution_count": 8
        }
      ]
    },
    {
      "cell_type": "code",
      "source": [
        "for ent in tokens.ents:\n",
        "  print(ent.text, \"|\", ent.label_)"
      ],
      "metadata": {
        "colab": {
          "base_uri": "https://localhost:8080/"
        },
        "id": "Mg-GHKneqHEF",
        "outputId": "5abd1b24-9373-4436-92c5-99172493fbf1"
      },
      "execution_count": null,
      "outputs": [
        {
          "output_type": "stream",
          "name": "stdout",
          "text": [
            "EAU | ORG\n",
            "ASSAINISSEMENT DE LIBREVILLE SOUS-PROGRAMME 1 | PERSON\n",
            "TCHAD-ABN PROGRAMME | ORG\n",
            "D'ADAPTATION AUX CC DANS | PERSON\n",
            "LE | GPE\n",
            "AFRICA | ORG\n",
            "BANQUE DE DEVELOPPEMENT DU | ORG\n",
            "PROJET RENFORCEMENT | ORG\n",
            "FEASIBILITY STUDY OF | ORG\n",
            "THE DEEP SEA PORT | LOC\n",
            "FEASIBILITY STUDY OF A DEEP SEA PORT | ORG\n"
          ]
        }
      ]
    },
    {
      "cell_type": "code",
      "source": [
        "from spacy import displacy\n",
        "displacy.render(tokens, style='ent')"
      ],
      "metadata": {
        "colab": {
          "base_uri": "https://localhost:8080/",
          "height": 140
        },
        "id": "xl3e_hyPqOpN",
        "outputId": "bba08fd8-2db7-4c44-d45d-38788d6afee5"
      },
      "execution_count": null,
      "outputs": [
        {
          "output_type": "execute_result",
          "data": {
            "text/plain": [
              "'<div class=\"entities\" style=\"line-height: 2.5; direction: ltr\">[\\'MULTINATIONAL NACALA ROAD CORRIDOR DEVELOPMENT PROJECT PHASE V - MALAWI\\', \\'CLIMATE CHANGE ADAPTATION FOR SUSTAINABLE RURAL WATER SUPPLY IN LOWLANDS LESOTHO\\', &quot;PROGRAMME INTÉGRÉ D\\'ALIMENTATION EN \\n<mark class=\"entity\" style=\"background: #7aecec; padding: 0.45em 0.6em; margin: 0 0.25em; line-height: 1; border-radius: 0.35em;\">\\n    EAU\\n    <span style=\"font-size: 0.8em; font-weight: bold; line-height: 1; border-radius: 0.35em; vertical-align: middle; margin-left: 0.5rem\">ORG</span>\\n</mark>\\n POTABLE ET \\n<mark class=\"entity\" style=\"background: #aa9cfc; padding: 0.45em 0.6em; margin: 0 0.25em; line-height: 1; border-radius: 0.35em;\">\\n    ASSAINISSEMENT DE LIBREVILLE SOUS-PROGRAMME 1\\n    <span style=\"font-size: 0.8em; font-weight: bold; line-height: 1; border-radius: 0.35em; vertical-align: middle; margin-left: 0.5rem\">PERSON</span>\\n</mark>\\n&quot;, \\'PREPARATION OF FEASIBILITY STUDIES AND DETAILED DESIGNS FOR FAECAL SLUDGE SERVICE CHAIN MANAGEMENT\\', &quot;APPUI GOUVERNANCE ENTREPRISES PUBLIQUES ET DES PARTICIPATIONS DE L\\'ETAT&quot;, \\'NACHTIGAL HYDRO POWER PROJECT\\', \\'ACHWA II HYDROPOWER PLANT\\', \\'EMERGING AFRICA INFRASTRUCTURE FUND PROJECT (EAIF3)\\', &quot;\\n<mark class=\"entity\" style=\"background: #7aecec; padding: 0.45em 0.6em; margin: 0 0.25em; line-height: 1; border-radius: 0.35em;\">\\n    TCHAD-ABN PROGRAMME\\n    <span style=\"font-size: 0.8em; font-weight: bold; line-height: 1; border-radius: 0.35em; vertical-align: middle; margin-left: 0.5rem\">ORG</span>\\n</mark>\\n INTEGRE DE DEVELOPPEMENT ET \\n<mark class=\"entity\" style=\"background: #aa9cfc; padding: 0.45em 0.6em; margin: 0 0.25em; line-height: 1; border-radius: 0.35em;\">\\n    D\\'ADAPTATION AUX CC DANS\\n    <span style=\"font-size: 0.8em; font-weight: bold; line-height: 1; border-radius: 0.35em; vertical-align: middle; margin-left: 0.5rem\">PERSON</span>\\n</mark>\\n \\n<mark class=\"entity\" style=\"background: #feca74; padding: 0.45em 0.6em; margin: 0 0.25em; line-height: 1; border-radius: 0.35em;\">\\n    LE\\n    <span style=\"font-size: 0.8em; font-weight: bold; line-height: 1; border-radius: 0.35em; vertical-align: middle; margin-left: 0.5rem\">GPE</span>\\n</mark>\\n BASSIN DU NIGER&quot;, \\'OUBANGUI RIVER BRIDGE&amp; BANGUI-KISANGANI-BUJUMBURA&amp; KISANGANI-KAMPALA ROADS,PHASEI CTRAL&amp;EAST \\n<mark class=\"entity\" style=\"background: #7aecec; padding: 0.45em 0.6em; margin: 0 0.25em; line-height: 1; border-radius: 0.35em;\">\\n    AFRICA\\n    <span style=\"font-size: 0.8em; font-weight: bold; line-height: 1; border-radius: 0.35em; vertical-align: middle; margin-left: 0.5rem\">ORG</span>\\n</mark>\\n\\', \\'\\n<mark class=\"entity\" style=\"background: #7aecec; padding: 0.45em 0.6em; margin: 0 0.25em; line-height: 1; border-radius: 0.35em;\">\\n    BANQUE DE DEVELOPPEMENT DU\\n    <span style=\"font-size: 0.8em; font-weight: bold; line-height: 1; border-radius: 0.35em; vertical-align: middle; margin-left: 0.5rem\">ORG</span>\\n</mark>\\n MALI BDM\\', \\'\\n<mark class=\"entity\" style=\"background: #7aecec; padding: 0.45em 0.6em; margin: 0 0.25em; line-height: 1; border-radius: 0.35em;\">\\n    PROJET RENFORCEMENT\\n    <span style=\"font-size: 0.8em; font-weight: bold; line-height: 1; border-radius: 0.35em; vertical-align: middle; margin-left: 0.5rem\">ORG</span>\\n</mark>\\n DE LA RÉSILIENCE POUR LA SÉCURITÉ ALIMENTAIRE P2RS - GEF\\', &quot;PROGRAMME DESERT TO POWER - PROJET YELEEN D\\'ELECTRIFICATION RURALE&quot;, \\'GSEZ PORT PROJECT\\', \\'SAY NO TO FAMINE FOR NIGERIA\\', \\'ADDITIONAL LOAN TO IBSDLIEP FOR THE COMPLETION OF FSTC LASSA BORNO STATE\\', \\'NIGERIA - AFRICAN TRADE INSURANCE (ATI) COUNTRY MEMBERSHIP PROGRAMME\\', \\'RWANDA SUSTAINABLE WATER SUPPLY AND SANITATION PROGRAM ADDITIONAL FINANCING\\', \\'\\n<mark class=\"entity\" style=\"background: #7aecec; padding: 0.45em 0.6em; margin: 0 0.25em; line-height: 1; border-radius: 0.35em;\">\\n    FEASIBILITY STUDY OF\\n    <span style=\"font-size: 0.8em; font-weight: bold; line-height: 1; border-radius: 0.35em; vertical-align: middle; margin-left: 0.5rem\">ORG</span>\\n</mark>\\n \\n<mark class=\"entity\" style=\"background: #ff9561; padding: 0.45em 0.6em; margin: 0 0.25em; line-height: 1; border-radius: 0.35em;\">\\n    THE DEEP SEA PORT\\n    <span style=\"font-size: 0.8em; font-weight: bold; line-height: 1; border-radius: 0.35em; vertical-align: middle; margin-left: 0.5rem\">LOC</span>\\n</mark>\\n IN GUINEA-BISSAU\\', \\'\\n<mark class=\"entity\" style=\"background: #7aecec; padding: 0.45em 0.6em; margin: 0 0.25em; line-height: 1; border-radius: 0.35em;\">\\n    FEASIBILITY STUDY OF A DEEP SEA PORT\\n    <span style=\"font-size: 0.8em; font-weight: bold; line-height: 1; border-radius: 0.35em; vertical-align: middle; margin-left: 0.5rem\">ORG</span>\\n</mark>\\n IN THE NORTH-WEST REGION OF THE REPUBLIC OF GUINEA\\']</div>'"
            ],
            "application/vnd.google.colaboratory.intrinsic+json": {
              "type": "string"
            }
          },
          "metadata": {},
          "execution_count": 10
        }
      ]
    },
    {
      "cell_type": "code",
      "source": [
        "nlp.pipe_labels['ner']"
      ],
      "metadata": {
        "colab": {
          "base_uri": "https://localhost:8080/"
        },
        "id": "WfidtFXLqS-7",
        "outputId": "a7f9918e-fe7a-4df5-cb28-a62bdb952e02"
      },
      "execution_count": null,
      "outputs": [
        {
          "output_type": "execute_result",
          "data": {
            "text/plain": [
              "['CARDINAL',\n",
              " 'DATE',\n",
              " 'EVENT',\n",
              " 'FAC',\n",
              " 'GPE',\n",
              " 'LANGUAGE',\n",
              " 'LAW',\n",
              " 'LOC',\n",
              " 'MONEY',\n",
              " 'NORP',\n",
              " 'ORDINAL',\n",
              " 'ORG',\n",
              " 'PERCENT',\n",
              " 'PERSON',\n",
              " 'PRODUCT',\n",
              " 'QUANTITY',\n",
              " 'TIME',\n",
              " 'WORK_OF_ART']"
            ]
          },
          "metadata": {},
          "execution_count": 11
        }
      ]
    },
    {
      "cell_type": "markdown",
      "source": [
        "**Visualization**"
      ],
      "metadata": {
        "id": "xlHMvI6mqVOq"
      }
    },
    {
      "cell_type": "code",
      "source": [
        "import seaborn as sns\n",
        "import matplotlib\n",
        "import matplotlib.pyplot as plt"
      ],
      "metadata": {
        "id": "f8_VLQAqqg9c"
      },
      "execution_count": null,
      "outputs": []
    },
    {
      "cell_type": "code",
      "source": [
        "sns.set_style('whitegrid')\n",
        "sns.countplot(x=\"Status\",data=df)"
      ],
      "metadata": {
        "colab": {
          "base_uri": "https://localhost:8080/",
          "height": 296
        },
        "id": "WudiakGQqv79",
        "outputId": "ade5528e-673b-41a4-a55d-92fb85239397"
      },
      "execution_count": null,
      "outputs": [
        {
          "output_type": "execute_result",
          "data": {
            "text/plain": [
              "<AxesSubplot:xlabel='Status', ylabel='count'>"
            ]
          },
          "metadata": {},
          "execution_count": 13
        },
        {
          "output_type": "display_data",
          "data": {
            "text/plain": [
              "<Figure size 432x288 with 1 Axes>"
            ],
            "image/png": "[encoded data removed]"
          },
          "metadata": {}
        }
      ]
    },
    {
      "cell_type": "code",
      "source": [
        "sns.scatterplot(data=df,x=\"Project\",y=\"Status\")"
      ],
      "metadata": {
        "colab": {
          "base_uri": "https://localhost:8080/",
          "height": 298
        },
        "id": "0hek8Kiwq25A",
        "outputId": "831f6b17-332c-400b-eb4f-54b6eac1900a"
      },
      "execution_count": null,
      "outputs": [
        {
          "output_type": "execute_result",
          "data": {
            "text/plain": [
              "<AxesSubplot:xlabel='Project', ylabel='Status'>"
            ]
          },
          "metadata": {},
          "execution_count": 14
        },
        {
          "output_type": "display_data",
          "data": {
            "text/plain": [
              "<Figure size 432x288 with 1 Axes>"
            ],
            "image/png": "[encoded data removed]"
          },
          "metadata": {}
        }
      ]
    },
    {
      "cell_type": "code",
      "source": [
        "sns.scatterplot(data=df,x=\"Country\",y=\"Status\")"
      ],
      "metadata": {
        "colab": {
          "base_uri": "https://localhost:8080/",
          "height": 296
        },
        "id": "KU1HXtTmq79C",
        "outputId": "c21ec57e-87a5-4568-ebcb-8efa5b4843d0"
      },
      "execution_count": null,
      "outputs": [
        {
          "output_type": "execute_result",
          "data": {
            "text/plain": [
              "<AxesSubplot:xlabel='Country', ylabel='Status'>"
            ]
          },
          "metadata": {},
          "execution_count": 15
        },
        {
          "output_type": "display_data",
          "data": {
            "text/plain": [
              "<Figure size 432x288 with 1 Axes>"
            ],
            "image/png": "[encoded data removed]"
          },
          "metadata": {}
        }
      ]
    },
    {
      "cell_type": "code",
      "source": [
        "g=sns.FacetGrid(df,col='Status')\n",
        "g.map(sns.histplot,'Status')"
      ],
      "metadata": {
        "colab": {
          "base_uri": "https://localhost:8080/",
          "height": 242
        },
        "id": "WDv5uuRLrBxH",
        "outputId": "d08ae598-2ad1-4399-8b09-c1f051f95f8a"
      },
      "execution_count": null,
      "outputs": [
        {
          "output_type": "execute_result",
          "data": {
            "text/plain": [
              "<seaborn.axisgrid.FacetGrid at 0x7fbf81dd2790>"
            ]
          },
          "metadata": {},
          "execution_count": 16
        },
        {
          "output_type": "display_data",
          "data": {
            "text/plain": [
              "<Figure size 1080x216 with 5 Axes>"
            ],
            "image/png": "[encoded data removed]"
          },
          "metadata": {}
        }
      ]
    },
    {
      "cell_type": "code",
      "source": [
        "sns.heatmap(df.isnull(),yticklabels=False)"
      ],
      "metadata": {
        "colab": {
          "base_uri": "https://localhost:8080/",
          "height": 286
        },
        "id": "8LOb5EhprJhS",
        "outputId": "ff90fa0e-843b-4520-dce8-478d5ff3a464"
      },
      "execution_count": null,
      "outputs": [
        {
          "output_type": "execute_result",
          "data": {
            "text/plain": [
              "<AxesSubplot:>"
            ]
          },
          "metadata": {},
          "execution_count": 17
        },
        {
          "output_type": "display_data",
          "data": {
            "text/plain": [
              "<Figure size 432x288 with 2 Axes>"
            ],
            "image/png": "[encoded data removed]"
          },
          "metadata": {}
        }
      ]
    },
    {
      "cell_type": "markdown",
      "source": [
        "**Analysis : From above graphs we can conclude that most of the projects are Approved**"
      ],
      "metadata": {
        "id": "VpQL4SLSrR3z"
      }
    },
    {
      "cell_type": "markdown",
      "source": [
        "*Finish......*"
      ],
      "metadata": {
        "id": "E5-exTXOrYl5"
      }
    },
    {
      "cell_type": "markdown",
      "source": [
        "**2.Data from Asian Infrastructure Investment Bank**"
      ],
      "metadata": {
        "id": "cbSIdAqtrcBu"
      }
    },
    {
      "cell_type": "code",
      "source": [
        "df2=pd.read_csv(\"/content/dataset2.csv\")\n",
        "df2.head()"
      ],
      "metadata": {
        "colab": {
          "base_uri": "https://localhost:8080/",
          "height": 206
        },
        "id": "cmLv5xODrw7o",
        "outputId": "037baa02-9337-486a-bfa1-ff1d45eb0341"
      },
      "execution_count": null,
      "outputs": [
        {
          "output_type": "execute_result",
          "data": {
            "text/plain": [
              "  year         member        sector Financing Type  \\\n",
              "0    —        Türkiye  Multi-sector      Sovereign   \n",
              "1    —     Bangladesh  Multi-sector   Nonsovereign   \n",
              "2    —          China         Urban      Sovereign   \n",
              "3    —  Côte d'Ivoire     Transport      Sovereign   \n",
              "4    —          India     Transport      Sovereign   \n",
              "\n",
              "                                        Project Name  Unnamed: 5  \\\n",
              "0  Türkiye: Turk Eximbank Green Infrastructure Su...         NaN   \n",
              "1  Bangladesh: Infrastructure Development Financi...         NaN   \n",
              "2  China:Inner Mongolia Ulanhot Green and Climate...         NaN   \n",
              "3  Côte d’Ivoire: Inclusive Connectivity and Rura...         NaN   \n",
              "4  India: Haryana Orbital Rail Corridor Part B Pr...         NaN   \n",
              "\n",
              "                   Financial Amount    Status  \n",
              "0  Proposed Funding: USD300 million  Proposed  \n",
              "1   Proposed Funding: USD50 million  Proposed  \n",
              "2  Proposed Funding: USD250 million  Proposed  \n",
              "3  Proposed Funding: USD200 million  Proposed  \n",
              "4  Proposed Funding: USD322 million  Proposed  "
            ],
            "text/html": [
              "\n",
              "  <div id=\"df-57a037ef-227e-45ab-88e6-9824b94fff0c\">\n",
              "    <div class=\"colab-df-container\">\n",
              "      <div>\n",
              "<style scoped>\n",
              "    .dataframe tbody tr th:only-of-type {\n",
              "        vertical-align: middle;\n",
              "    }\n",
              "\n",
              "    .dataframe tbody tr th {\n",
              "        vertical-align: top;\n",
              "    }\n",
              "\n",
              "    .dataframe thead th {\n",
              "        text-align: right;\n",
              "    }\n",
              "</style>\n",
              "<table border=\"1\" class=\"dataframe\">\n",
              "  <thead>\n",
              "    <tr style=\"text-align: right;\">\n",
              "      <th></th>\n",
              "      <th>year</th>\n",
              "      <th>member</th>\n",
              "      <th>sector</th>\n",
              "      <th>Financing Type</th>\n",
              "      <th>Project Name</th>\n",
              "      <th>Unnamed: 5</th>\n",
              "      <th>Financial Amount</th>\n",
              "      <th>Status</th>\n",
              "    </tr>\n",
              "  </thead>\n",
              "  <tbody>\n",
              "    <tr>\n",
              "      <th>0</th>\n",
              "      <td>—</td>\n",
              "      <td>Türkiye</td>\n",
              "      <td>Multi-sector</td>\n",
              "      <td>Sovereign</td>\n",
              "      <td>Türkiye: Turk Eximbank Green Infrastructure Su...</td>\n",
              "      <td>NaN</td>\n",
              "      <td>Proposed Funding: USD300 million</td>\n",
              "      <td>Proposed</td>\n",
              "    </tr>\n",
              "    <tr>\n",
              "      <th>1</th>\n",
              "      <td>—</td>\n",
              "      <td>Bangladesh</td>\n",
              "      <td>Multi-sector</td>\n",
              "      <td>Nonsovereign</td>\n",
              "      <td>Bangladesh: Infrastructure Development Financi...</td>\n",
              "      <td>NaN</td>\n",
              "      <td>Proposed Funding: USD50 million</td>\n",
              "      <td>Proposed</td>\n",
              "    </tr>\n",
              "    <tr>\n",
              "      <th>2</th>\n",
              "      <td>—</td>\n",
              "      <td>China</td>\n",
              "      <td>Urban</td>\n",
              "      <td>Sovereign</td>\n",
              "      <td>China:Inner Mongolia Ulanhot Green and Climate...</td>\n",
              "      <td>NaN</td>\n",
              "      <td>Proposed Funding: USD250 million</td>\n",
              "      <td>Proposed</td>\n",
              "    </tr>\n",
              "    <tr>\n",
              "      <th>3</th>\n",
              "      <td>—</td>\n",
              "      <td>Côte d'Ivoire</td>\n",
              "      <td>Transport</td>\n",
              "      <td>Sovereign</td>\n",
              "      <td>Côte d’Ivoire: Inclusive Connectivity and Rura...</td>\n",
              "      <td>NaN</td>\n",
              "      <td>Proposed Funding: USD200 million</td>\n",
              "      <td>Proposed</td>\n",
              "    </tr>\n",
              "    <tr>\n",
              "      <th>4</th>\n",
              "      <td>—</td>\n",
              "      <td>India</td>\n",
              "      <td>Transport</td>\n",
              "      <td>Sovereign</td>\n",
              "      <td>India: Haryana Orbital Rail Corridor Part B Pr...</td>\n",
              "      <td>NaN</td>\n",
              "      <td>Proposed Funding: USD322 million</td>\n",
              "      <td>Proposed</td>\n",
              "    </tr>\n",
              "  </tbody>\n",
              "</table>\n",
              "</div>\n",
              "      <button class=\"colab-df-convert\" onclick=\"convertToInteractive('df-57a037ef-227e-45ab-88e6-9824b94fff0c')\"\n",
              "              title=\"Convert this dataframe to an interactive table.\"\n",
              "              style=\"display:none;\">\n",
              "        \n",
              "  <svg xmlns=\"http://www.w3.org/2000/svg\" height=\"24px\"viewBox=\"0 0 24 24\"\n",
              "       width=\"24px\">\n",
              "    <path d=\"M0 0h24v24H0V0z\" fill=\"none\"/>\n",
              "    <path d=\"M18.56 5.44l.94 2.06.94-2.06 2.06-.94-2.06-.94-.94-2.06-.94 2.06-2.06.94zm-11 1L8.5 8.5l.94-2.06 2.06-.94-2.06-.94L8.5 2.5l-.94 2.06-2.06.94zm10 10l.94 2.06.94-2.06 2.06-.94-2.06-.94-.94-2.06-.94 2.06-2.06.94z\"/><path d=\"M17.41 7.96l-1.37-1.37c-.4-.4-.92-.59-1.43-.59-.52 0-1.04.2-1.43.59L10.3 9.45l-7.72 7.72c-.78.78-.78 2.05 0 2.83L4 21.41c.39.39.9.59 1.41.59.51 0 1.02-.2 1.41-.59l7.78-7.78 2.81-2.81c.8-.78.8-2.07 0-2.86zM5.41 20L4 18.59l7.72-7.72 1.47 1.35L5.41 20z\"/>\n",
              "  </svg>\n",
              "      </button>\n",
              "      \n",
              "  <style>\n",
              "    .colab-df-container {\n",
              "      display:flex;\n",
              "      flex-wrap:wrap;\n",
              "      gap: 12px;\n",
              "    }\n",
              "\n",
              "    .colab-df-convert {\n",
              "      background-color: #E8F0FE;\n",
              "      border: none;\n",
              "      border-radius: 50%;\n",
              "      cursor: pointer;\n",
              "      display: none;\n",
              "      fill: #1967D2;\n",
              "      height: 32px;\n",
              "      padding: 0 0 0 0;\n",
              "      width: 32px;\n",
              "    }\n",
              "\n",
              "    .colab-df-convert:hover {\n",
              "      background-color: #E2EBFA;\n",
              "      box-shadow: 0px 1px 2px rgba(60, 64, 67, 0.3), 0px 1px 3px 1px rgba(60, 64, 67, 0.15);\n",
              "      fill: #174EA6;\n",
              "    }\n",
              "\n",
              "    [theme=dark] .colab-df-convert {\n",
              "      background-color: #3B4455;\n",
              "      fill: #D2E3FC;\n",
              "    }\n",
              "\n",
              "    [theme=dark] .colab-df-convert:hover {\n",
              "      background-color: #434B5C;\n",
              "      box-shadow: 0px 1px 3px 1px rgba(0, 0, 0, 0.15);\n",
              "      filter: drop-shadow(0px 1px 2px rgba(0, 0, 0, 0.3));\n",
              "      fill: #FFFFFF;\n",
              "    }\n",
              "  </style>\n",
              "\n",
              "      <script>\n",
              "        const buttonEl =\n",
              "          document.querySelector('#df-57a037ef-227e-45ab-88e6-9824b94fff0c button.colab-df-convert');\n",
              "        buttonEl.style.display =\n",
              "          google.colab.kernel.accessAllowed ? 'block' : 'none';\n",
              "\n",
              "        async function convertToInteractive(key) {\n",
              "          const element = document.querySelector('#df-57a037ef-227e-45ab-88e6-9824b94fff0c');\n",
              "          const dataTable =\n",
              "            await google.colab.kernel.invokeFunction('convertToInteractive',\n",
              "                                                     [key], {});\n",
              "          if (!dataTable) return;\n",
              "\n",
              "          const docLinkHtml = 'Like what you see? Visit the ' +\n",
              "            '<a target=\"_blank\" href=https://colab.research.google.com/notebooks/data_table.ipynb>data table notebook</a>'\n",
              "            + ' to learn more about interactive tables.';\n",
              "          element.innerHTML = '';\n",
              "          dataTable['output_type'] = 'display_data';\n",
              "          await google.colab.output.renderOutput(dataTable, element);\n",
              "          const docLink = document.createElement('div');\n",
              "          docLink.innerHTML = docLinkHtml;\n",
              "          element.appendChild(docLink);\n",
              "        }\n",
              "      </script>\n",
              "    </div>\n",
              "  </div>\n",
              "  "
            ]
          },
          "metadata": {},
          "execution_count": 18
        }
      ]
    },
    {
      "cell_type": "code",
      "source": [
        "df2.rename(columns={'Project Name':'Project'},inplace=True)\n",
        "df2=df2.drop(['Unnamed: 5'],axis=1)\n",
        "df2.head()"
      ],
      "metadata": {
        "colab": {
          "base_uri": "https://localhost:8080/",
          "height": 206
        },
        "id": "3qcqQRnar7RK",
        "outputId": "ac2ca098-eaf9-4299-f363-aa3b97211293"
      },
      "execution_count": null,
      "outputs": [
        {
          "output_type": "execute_result",
          "data": {
            "text/plain": [
              "  year         member        sector Financing Type  \\\n",
              "0    —        Türkiye  Multi-sector      Sovereign   \n",
              "1    —     Bangladesh  Multi-sector   Nonsovereign   \n",
              "2    —          China         Urban      Sovereign   \n",
              "3    —  Côte d'Ivoire     Transport      Sovereign   \n",
              "4    —          India     Transport      Sovereign   \n",
              "\n",
              "                                             Project  \\\n",
              "0  Türkiye: Turk Eximbank Green Infrastructure Su...   \n",
              "1  Bangladesh: Infrastructure Development Financi...   \n",
              "2  China:Inner Mongolia Ulanhot Green and Climate...   \n",
              "3  Côte d’Ivoire: Inclusive Connectivity and Rura...   \n",
              "4  India: Haryana Orbital Rail Corridor Part B Pr...   \n",
              "\n",
              "                   Financial Amount    Status  \n",
              "0  Proposed Funding: USD300 million  Proposed  \n",
              "1   Proposed Funding: USD50 million  Proposed  \n",
              "2  Proposed Funding: USD250 million  Proposed  \n",
              "3  Proposed Funding: USD200 million  Proposed  \n",
              "4  Proposed Funding: USD322 million  Proposed  "
            ],
            "text/html": [
              "\n",
              "  <div id=\"df-66b3178e-0c84-4f3e-a8e0-4c3173088fbd\">\n",
              "    <div class=\"colab-df-container\">\n",
              "      <div>\n",
              "<style scoped>\n",
              "    .dataframe tbody tr th:only-of-type {\n",
              "        vertical-align: middle;\n",
              "    }\n",
              "\n",
              "    .dataframe tbody tr th {\n",
              "        vertical-align: top;\n",
              "    }\n",
              "\n",
              "    .dataframe thead th {\n",
              "        text-align: right;\n",
              "    }\n",
              "</style>\n",
              "<table border=\"1\" class=\"dataframe\">\n",
              "  <thead>\n",
              "    <tr style=\"text-align: right;\">\n",
              "      <th></th>\n",
              "      <th>year</th>\n",
              "      <th>member</th>\n",
              "      <th>sector</th>\n",
              "      <th>Financing Type</th>\n",
              "      <th>Project</th>\n",
              "      <th>Financial Amount</th>\n",
              "      <th>Status</th>\n",
              "    </tr>\n",
              "  </thead>\n",
              "  <tbody>\n",
              "    <tr>\n",
              "      <th>0</th>\n",
              "      <td>—</td>\n",
              "      <td>Türkiye</td>\n",
              "      <td>Multi-sector</td>\n",
              "      <td>Sovereign</td>\n",
              "      <td>Türkiye: Turk Eximbank Green Infrastructure Su...</td>\n",
              "      <td>Proposed Funding: USD300 million</td>\n",
              "      <td>Proposed</td>\n",
              "    </tr>\n",
              "    <tr>\n",
              "      <th>1</th>\n",
              "      <td>—</td>\n",
              "      <td>Bangladesh</td>\n",
              "      <td>Multi-sector</td>\n",
              "      <td>Nonsovereign</td>\n",
              "      <td>Bangladesh: Infrastructure Development Financi...</td>\n",
              "      <td>Proposed Funding: USD50 million</td>\n",
              "      <td>Proposed</td>\n",
              "    </tr>\n",
              "    <tr>\n",
              "      <th>2</th>\n",
              "      <td>—</td>\n",
              "      <td>China</td>\n",
              "      <td>Urban</td>\n",
              "      <td>Sovereign</td>\n",
              "      <td>China:Inner Mongolia Ulanhot Green and Climate...</td>\n",
              "      <td>Proposed Funding: USD250 million</td>\n",
              "      <td>Proposed</td>\n",
              "    </tr>\n",
              "    <tr>\n",
              "      <th>3</th>\n",
              "      <td>—</td>\n",
              "      <td>Côte d'Ivoire</td>\n",
              "      <td>Transport</td>\n",
              "      <td>Sovereign</td>\n",
              "      <td>Côte d’Ivoire: Inclusive Connectivity and Rura...</td>\n",
              "      <td>Proposed Funding: USD200 million</td>\n",
              "      <td>Proposed</td>\n",
              "    </tr>\n",
              "    <tr>\n",
              "      <th>4</th>\n",
              "      <td>—</td>\n",
              "      <td>India</td>\n",
              "      <td>Transport</td>\n",
              "      <td>Sovereign</td>\n",
              "      <td>India: Haryana Orbital Rail Corridor Part B Pr...</td>\n",
              "      <td>Proposed Funding: USD322 million</td>\n",
              "      <td>Proposed</td>\n",
              "    </tr>\n",
              "  </tbody>\n",
              "</table>\n",
              "</div>\n",
              "      <button class=\"colab-df-convert\" onclick=\"convertToInteractive('df-66b3178e-0c84-4f3e-a8e0-4c3173088fbd')\"\n",
              "              title=\"Convert this dataframe to an interactive table.\"\n",
              "              style=\"display:none;\">\n",
              "        \n",
              "  <svg xmlns=\"http://www.w3.org/2000/svg\" height=\"24px\"viewBox=\"0 0 24 24\"\n",
              "       width=\"24px\">\n",
              "    <path d=\"M0 0h24v24H0V0z\" fill=\"none\"/>\n",
              "    <path d=\"M18.56 5.44l.94 2.06.94-2.06 2.06-.94-2.06-.94-.94-2.06-.94 2.06-2.06.94zm-11 1L8.5 8.5l.94-2.06 2.06-.94-2.06-.94L8.5 2.5l-.94 2.06-2.06.94zm10 10l.94 2.06.94-2.06 2.06-.94-2.06-.94-.94-2.06-.94 2.06-2.06.94z\"/><path d=\"M17.41 7.96l-1.37-1.37c-.4-.4-.92-.59-1.43-.59-.52 0-1.04.2-1.43.59L10.3 9.45l-7.72 7.72c-.78.78-.78 2.05 0 2.83L4 21.41c.39.39.9.59 1.41.59.51 0 1.02-.2 1.41-.59l7.78-7.78 2.81-2.81c.8-.78.8-2.07 0-2.86zM5.41 20L4 18.59l7.72-7.72 1.47 1.35L5.41 20z\"/>\n",
              "  </svg>\n",
              "      </button>\n",
              "      \n",
              "  <style>\n",
              "    .colab-df-container {\n",
              "      display:flex;\n",
              "      flex-wrap:wrap;\n",
              "      gap: 12px;\n",
              "    }\n",
              "\n",
              "    .colab-df-convert {\n",
              "      background-color: #E8F0FE;\n",
              "      border: none;\n",
              "      border-radius: 50%;\n",
              "      cursor: pointer;\n",
              "      display: none;\n",
              "      fill: #1967D2;\n",
              "      height: 32px;\n",
              "      padding: 0 0 0 0;\n",
              "      width: 32px;\n",
              "    }\n",
              "\n",
              "    .colab-df-convert:hover {\n",
              "      background-color: #E2EBFA;\n",
              "      box-shadow: 0px 1px 2px rgba(60, 64, 67, 0.3), 0px 1px 3px 1px rgba(60, 64, 67, 0.15);\n",
              "      fill: #174EA6;\n",
              "    }\n",
              "\n",
              "    [theme=dark] .colab-df-convert {\n",
              "      background-color: #3B4455;\n",
              "      fill: #D2E3FC;\n",
              "    }\n",
              "\n",
              "    [theme=dark] .colab-df-convert:hover {\n",
              "      background-color: #434B5C;\n",
              "      box-shadow: 0px 1px 3px 1px rgba(0, 0, 0, 0.15);\n",
              "      filter: drop-shadow(0px 1px 2px rgba(0, 0, 0, 0.3));\n",
              "      fill: #FFFFFF;\n",
              "    }\n",
              "  </style>\n",
              "\n",
              "      <script>\n",
              "        const buttonEl =\n",
              "          document.querySelector('#df-66b3178e-0c84-4f3e-a8e0-4c3173088fbd button.colab-df-convert');\n",
              "        buttonEl.style.display =\n",
              "          google.colab.kernel.accessAllowed ? 'block' : 'none';\n",
              "\n",
              "        async function convertToInteractive(key) {\n",
              "          const element = document.querySelector('#df-66b3178e-0c84-4f3e-a8e0-4c3173088fbd');\n",
              "          const dataTable =\n",
              "            await google.colab.kernel.invokeFunction('convertToInteractive',\n",
              "                                                     [key], {});\n",
              "          if (!dataTable) return;\n",
              "\n",
              "          const docLinkHtml = 'Like what you see? Visit the ' +\n",
              "            '<a target=\"_blank\" href=https://colab.research.google.com/notebooks/data_table.ipynb>data table notebook</a>'\n",
              "            + ' to learn more about interactive tables.';\n",
              "          element.innerHTML = '';\n",
              "          dataTable['output_type'] = 'display_data';\n",
              "          await google.colab.output.renderOutput(dataTable, element);\n",
              "          const docLink = document.createElement('div');\n",
              "          docLink.innerHTML = docLinkHtml;\n",
              "          element.appendChild(docLink);\n",
              "        }\n",
              "      </script>\n",
              "    </div>\n",
              "  </div>\n",
              "  "
            ]
          },
          "metadata": {},
          "execution_count": 19
        }
      ]
    },
    {
      "cell_type": "markdown",
      "source": [
        "**NLP Operations**"
      ],
      "metadata": {
        "id": "bQef3zMxsDVb"
      }
    },
    {
      "cell_type": "code",
      "source": [
        "tokens2 = nlp(''.join(str(df2.Project.tolist())))\n",
        "tokens2"
      ],
      "metadata": {
        "colab": {
          "base_uri": "https://localhost:8080/"
        },
        "id": "cOdqbVMBsIts",
        "outputId": "413681ea-cfea-47a8-bd8c-0092ffdb41fc"
      },
      "execution_count": null,
      "outputs": [
        {
          "output_type": "execute_result",
          "data": {
            "text/plain": [
              "['Türkiye: Turk Eximbank Green Infrastructure Support and Earthquake Response Project', 'Bangladesh: Infrastructure Development Financing Facility', 'China:Inner Mongolia Ulanhot Green and Climate Resilient Urban Development Project', 'Côte d’Ivoire: Inclusive Connectivity and Rural Infrastructure Project', 'India: Haryana Orbital Rail Corridor Part B Project', 'Lao PDR: National Road 13 South Extension Improvement and Maintenance Project', 'China: Chongho Bridge Green Facility', 'Jordan: Additional Financing for Inclusive, Transparent and Climate Responsive Investments Program', 'China: GL Capital China Opportunities Fund IV', 'Philippines: Post-Covid-19 Business and Employment Recovery Program - Subprogram 1', 'Multicountry: Catalyst MENA Climate Fund 2 (“CMCF2”)', 'Multicounty: Seraya SEA Energy Transition and DI Fund', 'India: Distributed Solar Financing Transaction', 'Bangladesh: Bangladesh Integrated Solid Waste Management Improvement Project', 'Uzbekistan: Masdar 897MW Solar PV Portfolio (Samarkand, Jizzakh and Sherabad solar PV plants)', 'India: Sustainable Transport Financing', 'China: Jiangmen Smart Intercity Railway Line for Sustainable Development of the Greater Bay Area', 'India: Chennai Peripheral Ring Road (Sections 2 and 3)', 'Türkiye: Antalya Airport Expansion Project', 'Multicountry: AIIB Venture Capital (“VC”) Investment Program for Green and Technology-Enabled Infrastructure (the “VC Program”)', 'Oman: Support to COVID-19 Response', 'Egypt: Alexandria – Abou Qir Metro Line', 'India: Haryana Orbital Rail Corridor (HORC) Part A Project', 'Lao PDR: Thanaleng Dry Port', 'China: Lionbridge Leasing EV Transport Green Transition Facility', 'Uzbekistan: Advancing Uzbekistan Economic and Social Transformation Development Policy Operation', 'Bangladesh: Unique Meghnaghat IPP', 'Bangladesh: Strengthening Social Resilience Program (Subprogram 2)', 'Cambodia: Cross-border Livestock Health and Value-chain Infrastructure Improvement Project', 'Türkiye: TSKB Sustainable Energy and Infrastructure On-lending Facility, Phase 2', 'Uzbekistan: Surkhandarya 1,560MW CCGT Power Plant', 'China: Yunnan Kunming Changshui Green Airport Development Project', 'Pakistan: Building Resilience with Countercyclical Expenditures (BRACE) Program', 'India: FPL Open Access Solar Project', 'Multicountry: Rakiza Fund I', 'Lao PDR: Monsoon 600 MW Cross-border Wind Power Project', 'Multicountry: Southeast Asia Women’s Economic Empowerment Fund', 'India: GreenCell Electric Bus Financing Project', 'Mongolia: Weathering Exogenous Shocks Program', 'India: Kotak Infrastructure Investment Fund', 'Türkiye: Aklease Multisector Facility', 'Singapore: Asia Infrastructure Securitization Program II', 'China: Haier Social Infrastructure Leasing', 'Fiji: Sustainable and Resilient Recovery Program for Fiji', 'Alcazar Energy Partners II (“AEP-II”)', 'Multicountry: CITIC Capital Pan Eurasia Fund - Co-Investment Superfreeze Cold Storage Logistics (Multicountry)', 'Multicountry: CITIC Capital Pan Eurasia Fund - Co-Investment Project Spark (China)', 'Türkiye: COVID-19 Vaccine Project under the COVID-19 Crisis Recovery Facility', 'Multicountry: Everbright Infrastructure Investment Fund II', 'India: Assam Secondary Road Network Improvement Project', 'Solar IPP Equity Investment', 'Thailand: U-Tapao International Airport Expansion Project', 'Indonesia: Trans-Sumatra Toll Road Project – Cinto Kenang to Sentjalang', 'Philippines: Integrated Flood Resilience and Adaptation Project I', 'Côte d’Ivoire: Strengthening of Vaccination and Health Systems under the COVID-19 Strategic Preparedness and Response Project', 'Cambodia: Emergency and Crisis Response Facility', 'Uzbekistan: Bukhara Region Water Supply and Sewerage Phase II (BRWSSP II)', 'Cambodia: Cambodia PRASAC COVID-19 Response Facility', 'Indonesia: Development of Pumped Storage Hydropower in Java Bali System (the Project)', 'China: GLP China Logistics Fund III', 'Bangladesh: IDCOL Multi-Sector On-Lending Facility', 'India: Second Dam Rehabilitation and Improvement Project', 'Cambodia: Rapid Immunization Support Project', 'India: Assam Electricity Distribution System Enhancement Project', 'Uzbekistan: Bukhara-Miskin-Urgench-Khiva Railway Electrification Project', 'China: Zhengzhou International Logistics Hub (Previously: Zhengzhou International Hub Expansion)', 'India: West Bengal Electricity Distribution Grid Modernization Project', 'China: China EXIM Bank Green On-lending Facility', 'Brazil: BDMG Renewables and Asia Connectivity Facility', 'China: NIO Capital Eve ONE Fund II', 'India: Responsive COVID-19 Vaccines for Recovery Project', 'Indonesia: Batam Bintan Bridge Project', 'Türkiye: Scaling-up Distributed Solar PVs in Türkiye, Program for Results (PforR)', 'Russian Federation: Upgrade of the Electric Rail Fleet Project', 'Pakistan: Punjab Arterial Roads Improvement Project', 'Türkiye: Izmir Metro Phase 5: Üçyol - Buca Line', 'Bangladesh: Bangladesh Responsive COVID-19 Vaccines for Recovery Project', 'Bangladesh: Southern Chattogram and Kaliakoir Transmission Infrastructure Development Project', 'Belarus: Belarus Emergency Response and Public Healthcare Support Project', 'India: Extension, Renovation, and Modernization of Grand Anicut Canal System', 'Oman: Oman Broadband Company – Tranche 2', 'Rwanda: Rwanda Digital Acceleration Project (Digital Investment for Recovery, Resilience and Connectivity)', 'Philippines: Second Health System Enhancement to Address and Limit COVID-19 Under the Asia Pacific Vaccine Access Facility Additional Financing Project (HEAL2-AF)', 'Pakistan: Khyber Pakhtunkhwa Cities Improvement Project', 'India: Gujarat Education Infrastructure and Technology Modernization Program', 'Türkiye: Osmangazi Electricity Distribution Network Modernization and Expansion Project', 'China: Henan Flood Emergency Rehabilitation and Recovery Project', 'Türkiye: Ispartakule-Cerkezkoy Rail Project (Previously: Halkali-Cerkezkoy Rail Project)', 'Egypt: Inclusive Growth for Sustainable Recovery DPF Program', 'India: Chennai City Partnership: Sustainable Urban Services Program', 'Viet Nam: Dakdrinh 125MW Hydropower Plant', 'China: Liaoning Green Smart Public Transport Demonstration Project', 'Bangladesh: Bangladesh Sustainable Economic Recovery Program (Subprogram 1)', 'Türkiye: Istanbul Waste to Energy Generation Project (Previously: Construction and Operation of a Waste Incineration and Energy Generation Plant)', 'Multicountry: STIC Asia Infrastructure Innovation Fund', 'Multicountry: Data Center Development in Emerging Asia', 'Türkiye: Türkiye Isbank COVID-19 Credit Line Project', 'China: Sinovation Disrupt Fund', 'Multicountry: Keppel-Pierfront Private Credit Fund L.P', 'India: Chennai Metro Rail Phase 2 Project - Corridor 4', 'China: FOSUN COVID-19 Vaccine Project', 'Jordan: Inclusive Transparent and Climate Responsive Investments Program for Results (the Program or PforR)', 'Hungary: Emergency Assistance for Healthcare Expenditures', 'India: Creating a Coordinated and Responsive Indian Social Protection System (CCRISP)', 'India: Enel Green 300 MW Solar Project - Rajasthan', 'Pakistan: Balakot Hydropower Development Project', 'Azerbaijan: Republic of Azerbaijan COVID-19 Active Response and Expenditure Support (CARES) Program', 'India: Resilient Kerala Program for Results', 'Indonesia: Emergency Response to COVID-19 Program - Additional Financing', 'Rwanda: Private-Sector Access to Finance for Post-COVID Recovery and Resilience', 'China: Guangxi Chongzuo Border Connectivity Improvement Project', 'Mongolia: Support for COVID-19 Vaccine Delivery in Mongolia under the Asia Pacific Vaccine Access Facility', 'Uzbekistan: Sirdarya 1,500MW CCGT Power Project', 'Uzbekistan: Medium-size Cities Integrated Urban Development Project', 'Multicountry: Global Infrastructure Partners Emerging Markets Fund I (“GIP EM” or the “Fund”)', 'Singapore: Asia Infrastructure Securitization Program', 'India: India City Gas Distribution (CGD) Financing AGPCGPL', 'Türkiye: Eximbank COVID-19 Credit Line Project', 'Georgia: TBC Bank COVID-19 Credit Line Project', 'India: Punjab Municipal Services Improvement Project', 'India: Kerala Solid Waste Management Project', 'Multicountry: Aberdeen Standard Investcorp Infrastructure Partners', 'Philippines: Second Health System Enhancement to Address and Limit COVID-19 under Asia Pacific Vaccine Access Facility Project (HEAL 2)', 'Sri Lanka: COVID-19 Emergency and Crisis Response Facility', 'Maldives: Solar Power Development and Energy Storage Solution', 'Bangladesh: Mymensingh Kewatkhali Bridge Project', 'Bangladesh: COVID-19 Emergency and Crisis Response Facility', 'India: Assam Intra-State Transmission System Enhancement Project', 'Indonesia: PLN East Java & Bali Power Distribution Strengthening Project', 'Multi-Country: ISQ Growth Markets Infrastructure Fund', 'Sri Lanka: Kerawalapitiya – Port 2nd Transmission Line Project', 'Pakistan: Karachi Water and Sewerage Services Improvement Project-2 (KWSSIP-2)', 'Cook Islands: COVID-19 Active Response and Economic Support Program', 'Cambodia: National Restoration of Rural Productive Capacity Project', 'India: Ayana Anantapuramu NTPC Solar Project', 'Ecuador: CONAFIPS COVID-19 Credit Line Project (Previously: Corporación Financiera Nacional COVID-19 Credit Line Project)', 'Multicountry: ADM Capital [Elkhorn] Emerging Asia Renewable Energy Fund', 'Türkiye: Akbank COVID-19 Crisis Recovery Facility', 'Uzbekistan: National Bank for Foreign Economic Activity of the Republic of Uzbekistan COVID-19 Credit Line Project', 'India: Delhi-Meerut Regional Rapid Transit System', 'Bangladesh: Rural Water, Sanitation and Hygiene for Human Capital Development Project', 'Russian Federation: Russian Railways COVID-19 Emergency Response Project', 'Multicountry: Lightsmith Climate Resilience Partners', 'China: Legend Capital Healthcare Technology Fund', 'Lao PDR: Climate Resilience Improvement of National Road 13 South Project (Section 3)', 'Indonesia: Multifunctional Satellite PPP Project', 'India: HDFC Line of Credit for Affordable Housing', 'Maldives: Greater Malé Waste-to-Energy Project', 'Bangladesh: COVID-19 Emergency Response and Pandemic Preparedness Project', 'Türkiye: COVID-19 Medical Emergency Response (MER) Project', 'Uzbekistan: Healthcare Emergency Response Project', 'Kyrgyz Republic: Kyrgyz Emergency Support for Private and Financial Sector Project', 'Fiji: Sustained Private Sector-Led Growth Reform Program', 'Viet Nam: VP Bank COVID-19 Response Facility', 'Georgia: Economic Management and Competitiveness Program: COVID-19 Crisis Mitigation', 'Türkiye: Izmir Metro Expansion Phase 4: Fahrettin Altay – Narlidere Line Project', 'Pakistan: Resilient Institutions for Sustainable Economy (RISE) Program', 'Türkiye: COVID-19 Credit Line Project', 'Kazakhstan: COVID-19 Active Response and Expenditure Support (CARES) Program', 'Maldives: COVID-19 Emergency Response and Health Systems Preparedness Project', 'Indonesia: Emergency Response to COVID-19 Program', 'Uzbekistan: Bukhara Road Network Improvement Project (Phase 1)', 'Pakistan: COVID-19 Active Response and Expenditure Support (CARES) Program', 'India: COVID-19 Active Response and Expenditure Support (CARES)', 'Mongolia: COVID-19 Rapid Response Program', 'Philippines: COVID-19 Active Response and Expenditure Support (CARES) Program', 'Georgia: Emergency COVID-19 Response Project', 'Bangladesh: COVID-19 Active Response and Expenditure Support (CARES) Program', 'Indonesia: COVID-19 Active Response and Expenditure Support Program', 'India: COVID-19 Emergency Response and Health Systems Preparedness Project', 'Bangladesh: Dhaka Sanitation Improvement', 'Multicountry: Keppel Asia Infrastructure Fund', 'China: Emergency Assistance to China Public Health Infrastructure Project', 'Uzbekistan: Bukhara Region Water Supply and Sewerage (BRWSSP)', 'Bangladesh: Sylhet to Tamabil Road Upgrade Project', 'Oman: Ibri II 500MW Solar PV Independent Power Plant Project', 'Bangladesh: Dhaka and West Zone Transmission Grid Expansion Project', 'Uzbekistan: Karakalpakstan and Khorezm Water Supply and Sanitation Project', 'India: Maharashtra Multi-Modal Corridor Package III Project', 'Bangladesh: Hatikumrul-Bonpara-Jhenaidah Phase I Road Improvement Project', 'India: Chennai Metro Rail Phase 2 Project – Balance Corridor 5', 'India: Mumbai Metro Line 5', 'India: Mumbai Urban Transport Project 3A-1', 'Bangladesh: Municipal Water Supply and Sanitation Project', 'Bangladesh: Power System Upgrade and Expansion', 'Cambodia: Fiber Optic Communication Network Project', 'China: Beijing-Tianjin-Hebei Low Carbon Energy Transition and Air Quality Improvement Project', 'Egypt: National Bank of Egypt On-Lending Facility for Infrastructure', 'India: L&T- Sustainable Infrastructure on-lending Facility', 'India: Mumbai Urban Transport Project - Phase III (MUTP)', 'India: Rajasthan 250 MW Solar Project–Hero Future Energies', 'India: Tata Cleantech Sustainable Infrastructure On-Lending Facility', 'India: West Bengal Major Irrigation and Flood Management', 'Kazakhstan: Zhanatas 100 MW Wind Power Plant', 'Lao People’s Democratic Republic: National Road 13 Improvement and Maintenance Project', 'Multicountry: Asia Climate Bond Portfolio', 'Multicountry: Asia Investment Limited Partnership Fund (Previously: Asia Investment Fund)', 'Multicountry: CITIC Capital Pan Eurasia Fund', 'Multicountry: SUSI Asia Energy Transition Fund', 'Nepal: Power Distribution System Upgrade and Expansion Project', 'Nepal: Upper Trishuli-1 Hydropower Project', 'Pakistan: Karachi Bus Rapid Transit Red Line Project', 'Pakistan: Karachi Water and Sewerage Services Improvement', 'Russian Federation: Infrastructure Development Program (Previously: Russian Federation Transport Sector Investment Loan)', 'Singapore: Infrastructure Private Capital Mobilization Platform', 'Sri Lanka: Reduction of Landslide Vulnerability by Mitigation Measures (RLVMM) Project', 'Sri Lanka: Support to Colombo Urban Regeneration Project', 'Türkiye: Efeler 97.6MWE Geothermal Power Plant Expansion Project', 'Türkiye: Istanbul Seismic Risk Mitigation and Emergency Preparedness Project', 'Türkiye: TKYB Renewable Energy and Energy Efficiency On-Lending Facility', 'Uzbekistan: Rural Infrastructure Development Project (Previously: Prosperous Villages Project)', 'Bangladesh: Ultra-high Voltage Transmission line Madunaghat-Bhulta and Sustainable Electricity Access Project', 'Belarus: Rehabilitation and Upgrading of National Road R46', 'India: Karnataka Rural Water Supply Project (KRWSP)', 'India: Nangal Chaudhary Integrated Multi-Modal Logistics Hub (IMLH) Project', 'Tajikistan: Obigarm-Nurobod Road Project–Long Bridge and Approach Roads', 'Bangladesh: Bangladesh Bhola IPP', 'Egypt: Sustainable Rural Sanitation Services Program, Phase-2', 'India: Andhra Pradesh Rural Roads', 'India: Andhra Pradesh Urban Water Supply and Septage Management Improvement', 'India: Madhya Pradesh Rural Connectivity', 'India: National Investment and Infrastructure Fund Phase I', 'Indonesia: Mandalika Urban and Tourism Infrastructure', 'Indonesia: Strategic Irrigation Modernization and Urgent Rehabilitation Project', 'Multicountry: AIIB Asia ESG Enhanced Credit Managed Portfolio', 'Türkiye: TSKB Sustainable Energy and Infrastructure On-lending Facility', 'Türkiye: Tuz Golu Türkiye Gas Storage Expansion Project', 'India: OSE InvIT', 'Nepal: Tamakoshi V Hydroelectric Project (TV-HEP)', 'Pakistan: Lahore Water and Wastewater Management', 'Sri Lanka: Anuradhapura Wastewater Management', 'Bangladesh: Natural Gas Infrastructure and Efficiency Improvement', 'China: Beijing Air Quality Improvement and Coal Replacement', 'Egypt: Egypt Round II Solar PV Feed-in Tariffs Program', 'Georgia: Batumi Bypass Road', 'India: Andhra Pradesh 24x7 – Power For All', 'India: Bangalore Metro Rail Project - Line R6', 'India: Gujarat Rural Roads (MMGSY)', 'India: Transmission System Strengthening (Tamil Nadu)', 'Indonesia: Dam Operational Improvement and Safety Project Phase II', 'Indonesia: Regional Infrastructure Development Fund', 'Multicountry: International Finance Corporation Emerging Asia Fund', 'Oman: Oman Broadband Infrastructure', 'Philippines: Metro Manila Flood Management', 'Tajikistan: Nurek Hydropower Rehabilitation, Phase I', 'India: North Haven India Infrastructure Fund (Previously: India Infrastructure Fund)', 'Georgia: 280 MW Nenskra Hydropower Plant', 'Azerbaijan: Trans Anatolian Natural Gas Pipeline Project (TANAP)', 'Bangladesh: Distribution System Upgrade and Expansion', 'Indonesia: National Slum Upgrading Project', 'Myanmar: Myingyan 225 MW Combined Cycle Gas Turbine (CCGT) Power Plant Project', 'Oman: Duqm Port Commercial Terminal and Operational Zone Development', 'Pakistan: National Motorway M-4 (Shorkot-Khanewal Section)', 'Pakistan: Tarbela 5 Hydropower Extension', 'Tajikistan: Dushanbe-Uzbekistan Border Road Improvement']"
            ]
          },
          "metadata": {},
          "execution_count": 20
        }
      ]
    },
    {
      "cell_type": "code",
      "source": [
        "for ent in tokens2.ents:\n",
        "  print(ent.text, \"|\", ent.label_)"
      ],
      "metadata": {
        "colab": {
          "base_uri": "https://localhost:8080/"
        },
        "id": "X8QWRAUhsTAq",
        "outputId": "ce6dcadd-8487-41e5-a920-e8a61667b262"
      },
      "execution_count": null,
      "outputs": [
        {
          "output_type": "stream",
          "name": "stdout",
          "text": [
            "China | GPE\n",
            "Inclusive Connectivity | ORG\n",
            "India | GPE\n",
            "Lao PDR | WORK_OF_ART\n",
            "Maintenance Project' | ORG\n",
            "China | GPE\n",
            "China | GPE\n",
            "GL Capital China Opportunities Fund IV' | ORG\n",
            "Philippines | GPE\n",
            "Business and Employment Recovery Program - Subprogram 1' | ORG\n",
            "Catalyst MENA Climate Fund 2 | ORG\n",
            "CMCF2 | WORK_OF_ART\n",
            "Seraya SEA Energy Transition | ORG\n",
            "DI Fund' | ORG\n",
            "Uzbekistan: Masdar 897MW Solar PV Portfolio (Samarkand | WORK_OF_ART\n",
            "Jizzakh | PERSON\n",
            "Sherabad | ORG\n",
            "India: Sustainable Transport Financing' | WORK_OF_ART\n",
            "China | GPE\n",
            "Jiangmen Smart Intercity Railway Line for Sustainable Development of | ORG\n",
            "3 | CARDINAL\n",
            "Antalya Airport Expansion Project' | ORG\n",
            "Multicountry | WORK_OF_ART\n",
            "AIIB Venture Capital | ORG\n",
            "Investment Program for Green and Technology-Enabled Infrastructure | ORG\n",
            "Egypt | GPE\n",
            "Alexandria | PERSON\n",
            "India | GPE\n",
            "Lao PDR | WORK_OF_ART\n",
            "Thanaleng Dry Port' | PERSON\n",
            "China | GPE\n",
            "Uzbekistan: Advancing Uzbekistan Economic and Social Transformation Development Policy Operation' | WORK_OF_ART\n",
            "Bangladesh: | WORK_OF_ART\n",
            "Cambodia | GPE\n",
            "Livestock Health | ORG\n",
            "Infrastructure Improvement Project' | ORG\n",
            "TSKB Sustainable Energy and Infrastructure | ORG\n",
            "Facility, Phase 2' | ORG\n",
            "Uzbekistan: Surkhandarya | WORK_OF_ART\n",
            "CCGT Power Plant' | ORG\n",
            "China | GPE\n",
            "Yunnan | GPE\n",
            "Kunming | GPE\n",
            "Countercyclical Expenditures | ORG\n",
            "Multicountry: | WORK_OF_ART\n",
            "Lao PDR | WORK_OF_ART\n",
            "600 | CARDINAL\n",
            "MW Cross | ORG\n",
            "Wind Power Project' | ORG\n",
            "India | GPE\n",
            "GreenCell Electric Bus Financing Project' | ORG\n",
            "India | GPE\n",
            "Kotak Infrastructure Investment Fund' | ORG\n",
            "Singapore | GPE\n",
            "China | GPE\n",
            "Haier Social Infrastructure Leasing' | ORG\n",
            "Alcazar Energy Partners II | ORG\n",
            "AEP-II | ORG\n",
            "CITIC Capital Pan Eurasia Fund - Co-Investment Superfreeze Cold Storage Logistics | ORG\n",
            "CITIC Capital Pan Eurasia Fund - Co-Investment Project Spark | ORG\n",
            "China | GPE\n",
            "Vaccine Project | ORG\n",
            "Multicountry: Everbright Infrastructure Investment Fund II' | WORK_OF_ART\n",
            "Thailand | GPE\n",
            "U-Tapao International Airport Expansion Project' | ORG\n",
            "Indonesia | PERSON\n",
            "Kenang | PERSON\n",
            "Sentjalang' | ORG\n",
            "Integrated Flood Resilience and Adaptation Project I' | ORG\n",
            "Vaccination and Health Systems | ORG\n",
            "Response Project' | ORG\n",
            "Uzbekistan: Bukhara Region Water Supply and Sewerage Phase II | WORK_OF_ART\n",
            "BRWSSP II | ORG\n",
            "Cambodia | GPE\n",
            "Cambodia | GPE\n",
            "Response Facility' | ORG\n",
            "Java Bali System | ORG\n",
            "China | GPE\n",
            "GLP China Logistics Fund III' | ORG\n",
            "India | GPE\n",
            "Second Dam Rehabilitation and Improvement Project' | ORG\n",
            "Cambodia: Rapid Immunization Support Project' | WORK_OF_ART\n",
            "Uzbekistan: Bukhara-Miskin-Urgench-Khiva Railway Electrification Project', 'China | WORK_OF_ART\n",
            "Zhengzhou International Logistics Hub | ORG\n",
            "Zhengzhou International Hub Expansion | ORG\n",
            "India | GPE\n",
            "China | GPE\n",
            "China | GPE\n",
            "Facility' | ORG\n",
            "Brazil | GPE\n",
            "Asia Connectivity Facility' | ORG\n",
            "China | GPE\n",
            "NIO Capital Eve ONE Fund II' | ORG\n",
            "Indonesia | PERSON\n",
            "Batam Bintan Bridge Project' | ORG\n",
            "Türkiye | GPE\n",
            "'Russian Federation: | ORG\n",
            "the Electric Rail Fleet Project' | ORG\n",
            "Izmir Metro | PERSON\n",
            "5 | CARDINAL\n",
            "Bangladesh: Southern Chattogram and Kaliakoir Transmission Infrastructure Development Project' | WORK_OF_ART\n",
            "Belarus: Belarus Emergency Response and Public Healthcare Support Project' | WORK_OF_ART\n",
            "Rwanda | GPE\n",
            "Rwanda Digital Acceleration Project | ORG\n",
            "Philippines | GPE\n",
            "Second Health System Enhancement | ORG\n",
            "Pakistan | GPE\n",
            "Khyber Pakhtunkhwa Cities Improvement Project' | ORG\n",
            "India | GPE\n",
            "Gujarat Education Infrastructure and Technology Modernization Program' | ORG\n",
            "China | GPE\n",
            "Henan Flood Emergency Rehabilitation and Recovery Project' | ORG\n",
            "Ispartakule-Cerkezkoy Rail Project | ORG\n",
            "India | GPE\n",
            "Chennai City Partnership: | ORG\n",
            "Dakdrinh 125MW | PERSON\n",
            "China | GPE\n",
            "Liaoning Green Smart Public Transport Demonstration Project' | ORG\n",
            "Istanbul Waste to Energy Generation Project | ORG\n",
            "Multicountry: STIC Asia Infrastructure Innovation Fund' | WORK_OF_ART\n",
            "Multicountry: Data Center Development in Emerging Asia' | WORK_OF_ART\n",
            "Credit Line Project' | ORG\n",
            "Keppel-Pierfront Private Credit Fund L.P' | ORG\n",
            "India | GPE\n",
            "China | GPE\n",
            "Vaccine Project' | ORG\n",
            "Program | ORG\n",
            "Healthcare Expenditures' | ORG\n",
            "300 | CARDINAL\n",
            "Pakistan | GPE\n",
            "Balakot Hydropower Development Project' | ORG\n",
            "Azerbaijan | GPE\n",
            "CARES | ORG\n",
            "India: Resilient Kerala Program | WORK_OF_ART\n",
            "Indonesia: Emergency Response | WORK_OF_ART\n",
            "Program - Additional Financing' | ORG\n",
            "Rwanda | GPE\n",
            "Post-COVID Recovery and Resilience' | ORG\n",
            "China | GPE\n",
            "Vaccine Delivery | PERSON\n",
            "Mongolia | GPE\n",
            "the Asia Pacific Vaccine Access Facility' | ORG\n",
            "Uzbekistan: Sirdarya 1,500MW | WORK_OF_ART\n",
            "CCGT Power Project' | ORG\n",
            "Uzbekistan: Medium | WORK_OF_ART\n",
            "Cities Integrated Urban Development Project' | ORG\n",
            "Multicountry: Global Infrastructure Partners Emerging Markets Fund | WORK_OF_ART\n",
            "GIP EM | WORK_OF_ART\n",
            "the “Fund | ORG\n",
            "Singapore | GPE\n",
            "Asia Infrastructure Securitization Program' | ORG\n",
            "India | GPE\n",
            "India City Gas Distribution | ORG\n",
            "Credit Line Project' | ORG\n",
            "Georgia | GPE\n",
            "TBC Bank | ORG\n",
            "Credit Line Project' | ORG\n",
            "India | GPE\n",
            "Kerala Solid Waste Management Project' | ORG\n",
            "Multicountry | WORK_OF_ART\n",
            "Philippines | GPE\n",
            "Second Health System Enhancement | ORG\n",
            "Asia Pacific Vaccine Access Facility Project | ORG\n",
            "2 | CARDINAL\n",
            "Sri Lanka | GPE\n",
            "Solar Power Development and Energy Storage Solution' | ORG\n",
            "Kewatkhali Bridge Project' | ORG\n",
            "India | GPE\n",
            "Assam Intra-State Transmission System Enhancement Project' | PERSON\n",
            "Indonesia | GPE\n",
            "PLN East Java & Bali Power Distribution Strengthening Project' | ORG\n",
            "Multi-Country | WORK_OF_ART\n",
            "Sri Lanka | GPE\n",
            "Port 2nd Transmission Line Project' | ORG\n",
            "Pakistan | GPE\n",
            "Karachi Water | PERSON\n",
            "Cook Islands | PERSON\n",
            "COVID-19 Active Response and Economic Support Program' | ORG\n",
            "India | GPE\n",
            "Ayana Anantapuramu NTPC Solar Project' | ORG\n",
            "Credit Line Project | ORG\n",
            "Multicountry | WORK_OF_ART\n",
            "ADM Capital | ORG\n",
            "Uzbekistan: National Bank for Foreign Economic Activity of | ORG\n",
            "the Republic of Uzbekistan | GPE\n",
            "India | GPE\n",
            "Delhi-Meerut Regional Rapid Transit System' | ORG\n",
            "Russian | NORP\n",
            "Multicountry | WORK_OF_ART\n",
            "China | GPE\n",
            "Legend Capital Healthcare Technology Fund' | ORG\n",
            "Lao PDR | WORK_OF_ART\n",
            "Climate Resilience Improvement of | ORG\n",
            "Indonesia | PERSON\n",
            "MER | ORG\n",
            "Project' | ORG\n",
            "Uzbekistan: Healthcare Emergency Response Project' | WORK_OF_ART\n",
            "'Kyrgyz Republic: | GPE\n",
            "Financial Sector Project' | ORG\n",
            "Response Facility' | ORG\n",
            "Georgia: Economic Management and Competitiveness Program: | ORG\n",
            "Izmir Metro | PERSON\n",
            "4 | CARDINAL\n",
            "Pakistan: Resilient Institutions for Sustainable Economy | WORK_OF_ART\n",
            "Credit Line Project' | ORG\n",
            "COVID-19 Active Response and Expenditure Support | ORG\n",
            "CARES | ORG\n",
            "Health Systems | ORG\n",
            "Indonesia: Emergency Response | WORK_OF_ART\n",
            "COVID-19 Program' | ORG\n",
            "Uzbekistan: Bukhara Road Network Improvement Project (Phase 1 | WORK_OF_ART\n",
            "CARES | ORG\n",
            "India | GPE\n",
            "COVID-19 Active Response and Expenditure Support | ORG\n",
            "CARES | ORG\n",
            "COVID-19 Active Response and Expenditure Support | ORG\n",
            "CARES | ORG\n",
            "Georgia | GPE\n",
            "Response Project' | ORG\n",
            "CARES | ORG\n",
            "COVID-19 Active Response and Expenditure Support Program' | ORG\n",
            "India | GPE\n",
            "Health Systems | ORG\n",
            "Multicountry: Keppel Asia Infrastructure Fund' | WORK_OF_ART\n",
            "China | GPE\n",
            "China Public Health Infrastructure Project' | ORG\n",
            "Uzbekistan: Bukhara Region Water Supply and Sewerage | WORK_OF_ART\n",
            "BRWSSP | ORG\n",
            "Tamabil Road Upgrade Project' | ORG\n",
            "Dhaka | GPE\n",
            "West Zone Transmission Grid Expansion Project' | GPE\n",
            "Uzbekistan | GPE\n",
            "Karakalpakstan | GPE\n",
            "Khorezm Water Supply | ORG\n",
            "Sanitation Project' | ORG\n",
            "India | GPE\n",
            "Maharashtra Multi-Modal Corridor Package III Project' | ORG\n",
            "India | GPE\n",
            "India | GPE\n",
            "Mumbai | GPE\n",
            "5 | CARDINAL\n",
            "India | GPE\n",
            "Mumbai Urban Transport | ORG\n",
            "Bangladesh: Municipal Water Supply and Sanitation Project' | WORK_OF_ART\n",
            "Fiber Optic Communication Network Project' | ORG\n",
            "China | GPE\n",
            "Beijing | GPE\n",
            "Air Quality Improvement Project' | ORG\n",
            "Egypt | GPE\n",
            "National Bank of Egypt | ORG\n",
            "Facility' | ORG\n",
            "India | GPE\n",
            "Mumbai Urban Transport | ORG\n",
            "India | GPE\n",
            "250 | CARDINAL\n",
            "India | GPE\n",
            "Tata Cleantech Sustainable Infrastructure | ORG\n",
            "India | GPE\n",
            "Major Irrigation and Flood Management' | ORG\n",
            "100 | CARDINAL\n",
            "Maintenance Project' | ORG\n",
            "Multicountry: Asia Climate Bond Portfolio' | WORK_OF_ART\n",
            "Multicountry: Asia Investment Limited Partnership Fund (Previously: Asia Investment Fund | WORK_OF_ART\n",
            "CITIC Capital Pan Eurasia Fund' | ORG\n",
            "Multicountry | WORK_OF_ART\n",
            "SUSI Asia Energy Transition Fund' | ORG\n",
            "Hydropower Project' | ORG\n",
            "Pakistan | GPE\n",
            "Karachi Bus Rapid Transit Red Line Project' | ORG\n",
            "Pakistan | GPE\n",
            "Karachi Water | PERSON\n",
            "'Russian Federation: Infrastructure Development Program | ORG\n",
            "Singapore | GPE\n",
            "Sri Lanka | GPE\n",
            "Colombo Urban Regeneration Project' | ORG\n",
            "Geothermal Power Plant Expansion Project' | ORG\n",
            "Uzbekistan: Rural Infrastructure Development Project (Previously: Prosperous Villages Project | WORK_OF_ART\n",
            "Madunaghat-Bhulta and Sustainable Electricity Access Project' | ORG\n",
            "Belarus: Rehabilitation and Upgrading of National Road R46' | WORK_OF_ART\n",
            "India | GPE\n",
            "Karnataka Rural Water Supply Project | ORG\n",
            "India | GPE\n",
            "Tajikistan | NORP\n",
            "Obigarm-Nurobod Road Project | ORG\n",
            "India | GPE\n",
            "India | GPE\n",
            "Andhra Pradesh Urban Water Supply and Septage Management Improvement' | ORG\n",
            "India: Madhya Pradesh Rural Connectivity' | WORK_OF_ART\n",
            "India | GPE\n",
            "National Investment and Infrastructure Fund Phase I' | ORG\n",
            "Indonesia: Mandalika Urban and Tourism Infrastructure' | WORK_OF_ART\n",
            "Indonesia: Strategic Irrigation Modernization and Urgent Rehabilitation Project' | WORK_OF_ART\n",
            "Multicountry | WORK_OF_ART\n",
            "TSKB Sustainable Energy and Infrastructure | ORG\n",
            "Facility' | ORG\n",
            "India | GPE\n",
            "OSE InvIT' | ORG\n",
            "Pakistan | GPE\n",
            "Sri Lanka | GPE\n",
            "Anuradhapura Wastewater Management' | ORG\n",
            "China | GPE\n",
            "Beijing Air Quality Improvement | ORG\n",
            "Coal Replacement' | GPE\n",
            "Egypt | GPE\n",
            "Egypt Round II | ORG\n",
            "Tariffs Program' | ORG\n",
            "Georgia | GPE\n",
            "India | GPE\n",
            "24x7 | CARDINAL\n",
            "India | GPE\n",
            "India | GPE\n",
            "India: Transmission System Strengthening (Tamil Nadu | WORK_OF_ART\n",
            "Indonesia: Dam Operational Improvement and Safety Project Phase II' | WORK_OF_ART\n",
            "Indonesia: Regional Infrastructure Development Fund' | WORK_OF_ART\n",
            "Multicountry: International Finance Corporation Emerging Asia Fund' | WORK_OF_ART\n",
            "Philippines | GPE\n",
            "Metro Manila Flood Management' | ORG\n",
            "Tajikistan | NORP\n",
            "Nurek Hydropower Rehabilitation | ORG\n",
            "India | GPE\n",
            "North Haven India Infrastructure Fund | ORG\n",
            "Georgia | GPE\n",
            "280 | CARDINAL\n",
            "Nenskra Hydropower Plant' | ORG\n",
            "Azerbaijan | PERSON\n",
            "Trans Anatolian Natural Gas Pipeline Project | ORG\n",
            "225 | CARDINAL\n",
            "Power Plant Project' | ORG\n",
            "Pakistan | GPE\n",
            "National Motorway M-4 | ORG\n",
            "Pakistan | GPE\n",
            "Tarbela 5 Hydropower Extension' | ORG\n",
            "Tajikistan | NORP\n",
            "Dushanbe-Uzbekistan Border Road Improvement' | ORG\n"
          ]
        }
      ]
    },
    {
      "cell_type": "code",
      "source": [
        "from spacy import displacy\n",
        "displacy.render(tokens2, style='ent')"
      ],
      "metadata": {
        "colab": {
          "base_uri": "https://localhost:8080/",
          "height": 140
        },
        "id": "infGB86RsWF0",
        "outputId": "bd130e0d-b7b6-4d5e-f39f-b99e8b0b1bc6"
      },
      "execution_count": null,
      "outputs": [
        {
          "output_type": "execute_result",
          "data": {
            "text/plain": [
              "'<div class=\"entities\" style=\"line-height: 2.5; direction: ltr\">[\\'Türkiye: Turk Eximbank Green Infrastructure Support and Earthquake Response Project\\', \\'Bangladesh: Infrastructure Development Financing Facility\\', \\'\\n<mark class=\"entity\" style=\"background: #feca74; padding: 0.45em 0.6em; margin: 0 0.25em; line-height: 1; border-radius: 0.35em;\">\\n    China\\n    <span style=\"font-size: 0.8em; font-weight: bold; line-height: 1; border-radius: 0.35em; vertical-align: middle; margin-left: 0.5rem\">GPE</span>\\n</mark>\\n:Inner Mongolia Ulanhot Green and Climate Resilient Urban Development Project\\', \\'Côte d’Ivoire: \\n<mark class=\"entity\" style=\"background: #7aecec; padding: 0.45em 0.6em; margin: 0 0.25em; line-height: 1; border-radius: 0.35em;\">\\n    Inclusive Connectivity\\n    <span style=\"font-size: 0.8em; font-weight: bold; line-height: 1; border-radius: 0.35em; vertical-align: middle; margin-left: 0.5rem\">ORG</span>\\n</mark>\\n and Rural Infrastructure Project\\', \\'\\n<mark class=\"entity\" style=\"background: #feca74; padding: 0.45em 0.6em; margin: 0 0.25em; line-height: 1; border-radius: 0.35em;\">\\n    India\\n    <span style=\"font-size: 0.8em; font-weight: bold; line-height: 1; border-radius: 0.35em; vertical-align: middle; margin-left: 0.5rem\">GPE</span>\\n</mark>\\n: Haryana Orbital Rail Corridor Part B Project\\', \\'\\n<mark class=\"entity\" style=\"background: #f0d0ff; padding: 0.45em 0.6em; margin: 0 0.25em; line-height: 1; border-radius: 0.35em;\">\\n    Lao PDR\\n    <span style=\"font-size: 0.8em; font-weight: bold; line-height: 1; border-radius: 0.35em; vertical-align: middle; margin-left: 0.5rem\">WORK_OF_ART</span>\\n</mark>\\n: National Road 13 South Extension Improvement and \\n<mark class=\"entity\" style=\"background: #7aecec; padding: 0.45em 0.6em; margin: 0 0.25em; line-height: 1; border-radius: 0.35em;\">\\n    Maintenance Project\\'\\n    <span style=\"font-size: 0.8em; font-weight: bold; line-height: 1; border-radius: 0.35em; vertical-align: middle; margin-left: 0.5rem\">ORG</span>\\n</mark>\\n, \\'\\n<mark class=\"entity\" style=\"background: #feca74; padding: 0.45em 0.6em; margin: 0 0.25em; line-height: 1; border-radius: 0.35em;\">\\n    China\\n    <span style=\"font-size: 0.8em; font-weight: bold; line-height: 1; border-radius: 0.35em; vertical-align: middle; margin-left: 0.5rem\">GPE</span>\\n</mark>\\n: Chongho Bridge Green Facility\\', \\'Jordan: Additional Financing for Inclusive, Transparent and Climate Responsive Investments Program\\', \\'\\n<mark class=\"entity\" style=\"background: #feca74; padding: 0.45em 0.6em; margin: 0 0.25em; line-height: 1; border-radius: 0.35em;\">\\n    China\\n    <span style=\"font-size: 0.8em; font-weight: bold; line-height: 1; border-radius: 0.35em; vertical-align: middle; margin-left: 0.5rem\">GPE</span>\\n</mark>\\n: \\n<mark class=\"entity\" style=\"background: #7aecec; padding: 0.45em 0.6em; margin: 0 0.25em; line-height: 1; border-radius: 0.35em;\">\\n    GL Capital China Opportunities Fund IV\\'\\n    <span style=\"font-size: 0.8em; font-weight: bold; line-height: 1; border-radius: 0.35em; vertical-align: middle; margin-left: 0.5rem\">ORG</span>\\n</mark>\\n, \\'\\n<mark class=\"entity\" style=\"background: #feca74; padding: 0.45em 0.6em; margin: 0 0.25em; line-height: 1; border-radius: 0.35em;\">\\n    Philippines\\n    <span style=\"font-size: 0.8em; font-weight: bold; line-height: 1; border-radius: 0.35em; vertical-align: middle; margin-left: 0.5rem\">GPE</span>\\n</mark>\\n: Post-Covid-19 \\n<mark class=\"entity\" style=\"background: #7aecec; padding: 0.45em 0.6em; margin: 0 0.25em; line-height: 1; border-radius: 0.35em;\">\\n    Business and Employment Recovery Program - Subprogram 1\\'\\n    <span style=\"font-size: 0.8em; font-weight: bold; line-height: 1; border-radius: 0.35em; vertical-align: middle; margin-left: 0.5rem\">ORG</span>\\n</mark>\\n, \\'Multicountry: \\n<mark class=\"entity\" style=\"background: #7aecec; padding: 0.45em 0.6em; margin: 0 0.25em; line-height: 1; border-radius: 0.35em;\">\\n    Catalyst MENA Climate Fund 2\\n    <span style=\"font-size: 0.8em; font-weight: bold; line-height: 1; border-radius: 0.35em; vertical-align: middle; margin-left: 0.5rem\">ORG</span>\\n</mark>\\n (“\\n<mark class=\"entity\" style=\"background: #f0d0ff; padding: 0.45em 0.6em; margin: 0 0.25em; line-height: 1; border-radius: 0.35em;\">\\n    CMCF2\\n    <span style=\"font-size: 0.8em; font-weight: bold; line-height: 1; border-radius: 0.35em; vertical-align: middle; margin-left: 0.5rem\">WORK_OF_ART</span>\\n</mark>\\n”)\\', \\'Multicounty: \\n<mark class=\"entity\" style=\"background: #7aecec; padding: 0.45em 0.6em; margin: 0 0.25em; line-height: 1; border-radius: 0.35em;\">\\n    Seraya SEA Energy Transition\\n    <span style=\"font-size: 0.8em; font-weight: bold; line-height: 1; border-radius: 0.35em; vertical-align: middle; margin-left: 0.5rem\">ORG</span>\\n</mark>\\n and \\n<mark class=\"entity\" style=\"background: #7aecec; padding: 0.45em 0.6em; margin: 0 0.25em; line-height: 1; border-radius: 0.35em;\">\\n    DI Fund\\'\\n    <span style=\"font-size: 0.8em; font-weight: bold; line-height: 1; border-radius: 0.35em; vertical-align: middle; margin-left: 0.5rem\">ORG</span>\\n</mark>\\n, \\'India: Distributed Solar Financing Transaction\\', \\'Bangladesh: Bangladesh Integrated Solid Waste Management Improvement Project\\', \\'\\n<mark class=\"entity\" style=\"background: #f0d0ff; padding: 0.45em 0.6em; margin: 0 0.25em; line-height: 1; border-radius: 0.35em;\">\\n    Uzbekistan: Masdar 897MW Solar PV Portfolio (Samarkand\\n    <span style=\"font-size: 0.8em; font-weight: bold; line-height: 1; border-radius: 0.35em; vertical-align: middle; margin-left: 0.5rem\">WORK_OF_ART</span>\\n</mark>\\n, \\n<mark class=\"entity\" style=\"background: #aa9cfc; padding: 0.45em 0.6em; margin: 0 0.25em; line-height: 1; border-radius: 0.35em;\">\\n    Jizzakh\\n    <span style=\"font-size: 0.8em; font-weight: bold; line-height: 1; border-radius: 0.35em; vertical-align: middle; margin-left: 0.5rem\">PERSON</span>\\n</mark>\\n and \\n<mark class=\"entity\" style=\"background: #7aecec; padding: 0.45em 0.6em; margin: 0 0.25em; line-height: 1; border-radius: 0.35em;\">\\n    Sherabad\\n    <span style=\"font-size: 0.8em; font-weight: bold; line-height: 1; border-radius: 0.35em; vertical-align: middle; margin-left: 0.5rem\">ORG</span>\\n</mark>\\n solar PV plants)\\', \\'\\n<mark class=\"entity\" style=\"background: #f0d0ff; padding: 0.45em 0.6em; margin: 0 0.25em; line-height: 1; border-radius: 0.35em;\">\\n    India: Sustainable Transport Financing\\'\\n    <span style=\"font-size: 0.8em; font-weight: bold; line-height: 1; border-radius: 0.35em; vertical-align: middle; margin-left: 0.5rem\">WORK_OF_ART</span>\\n</mark>\\n, \\'\\n<mark class=\"entity\" style=\"background: #feca74; padding: 0.45em 0.6em; margin: 0 0.25em; line-height: 1; border-radius: 0.35em;\">\\n    China\\n    <span style=\"font-size: 0.8em; font-weight: bold; line-height: 1; border-radius: 0.35em; vertical-align: middle; margin-left: 0.5rem\">GPE</span>\\n</mark>\\n: \\n<mark class=\"entity\" style=\"background: #7aecec; padding: 0.45em 0.6em; margin: 0 0.25em; line-height: 1; border-radius: 0.35em;\">\\n    Jiangmen Smart Intercity Railway Line for Sustainable Development of\\n    <span style=\"font-size: 0.8em; font-weight: bold; line-height: 1; border-radius: 0.35em; vertical-align: middle; margin-left: 0.5rem\">ORG</span>\\n</mark>\\n the Greater Bay Area\\', \\'India: Chennai Peripheral Ring Road (Sections 2 and \\n<mark class=\"entity\" style=\"background: #e4e7d2; padding: 0.45em 0.6em; margin: 0 0.25em; line-height: 1; border-radius: 0.35em;\">\\n    3\\n    <span style=\"font-size: 0.8em; font-weight: bold; line-height: 1; border-radius: 0.35em; vertical-align: middle; margin-left: 0.5rem\">CARDINAL</span>\\n</mark>\\n)\\', \\'Türkiye: \\n<mark class=\"entity\" style=\"background: #7aecec; padding: 0.45em 0.6em; margin: 0 0.25em; line-height: 1; border-radius: 0.35em;\">\\n    Antalya Airport Expansion Project\\'\\n    <span style=\"font-size: 0.8em; font-weight: bold; line-height: 1; border-radius: 0.35em; vertical-align: middle; margin-left: 0.5rem\">ORG</span>\\n</mark>\\n, \\'\\n<mark class=\"entity\" style=\"background: #f0d0ff; padding: 0.45em 0.6em; margin: 0 0.25em; line-height: 1; border-radius: 0.35em;\">\\n    Multicountry\\n    <span style=\"font-size: 0.8em; font-weight: bold; line-height: 1; border-radius: 0.35em; vertical-align: middle; margin-left: 0.5rem\">WORK_OF_ART</span>\\n</mark>\\n: \\n<mark class=\"entity\" style=\"background: #7aecec; padding: 0.45em 0.6em; margin: 0 0.25em; line-height: 1; border-radius: 0.35em;\">\\n    AIIB Venture Capital\\n    <span style=\"font-size: 0.8em; font-weight: bold; line-height: 1; border-radius: 0.35em; vertical-align: middle; margin-left: 0.5rem\">ORG</span>\\n</mark>\\n (“VC”) \\n<mark class=\"entity\" style=\"background: #7aecec; padding: 0.45em 0.6em; margin: 0 0.25em; line-height: 1; border-radius: 0.35em;\">\\n    Investment Program for Green and Technology-Enabled Infrastructure\\n    <span style=\"font-size: 0.8em; font-weight: bold; line-height: 1; border-radius: 0.35em; vertical-align: middle; margin-left: 0.5rem\">ORG</span>\\n</mark>\\n (the “VC Program”)\\', \\'Oman: Support to COVID-19 Response\\', \\'\\n<mark class=\"entity\" style=\"background: #feca74; padding: 0.45em 0.6em; margin: 0 0.25em; line-height: 1; border-radius: 0.35em;\">\\n    Egypt\\n    <span style=\"font-size: 0.8em; font-weight: bold; line-height: 1; border-radius: 0.35em; vertical-align: middle; margin-left: 0.5rem\">GPE</span>\\n</mark>\\n: \\n<mark class=\"entity\" style=\"background: #aa9cfc; padding: 0.45em 0.6em; margin: 0 0.25em; line-height: 1; border-radius: 0.35em;\">\\n    Alexandria\\n    <span style=\"font-size: 0.8em; font-weight: bold; line-height: 1; border-radius: 0.35em; vertical-align: middle; margin-left: 0.5rem\">PERSON</span>\\n</mark>\\n – Abou Qir Metro Line\\', \\'\\n<mark class=\"entity\" style=\"background: #feca74; padding: 0.45em 0.6em; margin: 0 0.25em; line-height: 1; border-radius: 0.35em;\">\\n    India\\n    <span style=\"font-size: 0.8em; font-weight: bold; line-height: 1; border-radius: 0.35em; vertical-align: middle; margin-left: 0.5rem\">GPE</span>\\n</mark>\\n: Haryana Orbital Rail Corridor (HORC) Part A Project\\', \\'\\n<mark class=\"entity\" style=\"background: #f0d0ff; padding: 0.45em 0.6em; margin: 0 0.25em; line-height: 1; border-radius: 0.35em;\">\\n    Lao PDR\\n    <span style=\"font-size: 0.8em; font-weight: bold; line-height: 1; border-radius: 0.35em; vertical-align: middle; margin-left: 0.5rem\">WORK_OF_ART</span>\\n</mark>\\n: \\n<mark class=\"entity\" style=\"background: #aa9cfc; padding: 0.45em 0.6em; margin: 0 0.25em; line-height: 1; border-radius: 0.35em;\">\\n    Thanaleng Dry Port\\'\\n    <span style=\"font-size: 0.8em; font-weight: bold; line-height: 1; border-radius: 0.35em; vertical-align: middle; margin-left: 0.5rem\">PERSON</span>\\n</mark>\\n, \\'\\n<mark class=\"entity\" style=\"background: #feca74; padding: 0.45em 0.6em; margin: 0 0.25em; line-height: 1; border-radius: 0.35em;\">\\n    China\\n    <span style=\"font-size: 0.8em; font-weight: bold; line-height: 1; border-radius: 0.35em; vertical-align: middle; margin-left: 0.5rem\">GPE</span>\\n</mark>\\n: Lionbridge Leasing EV Transport Green Transition Facility\\', \\'\\n<mark class=\"entity\" style=\"background: #f0d0ff; padding: 0.45em 0.6em; margin: 0 0.25em; line-height: 1; border-radius: 0.35em;\">\\n    Uzbekistan: Advancing Uzbekistan Economic and Social Transformation Development Policy Operation\\'\\n    <span style=\"font-size: 0.8em; font-weight: bold; line-height: 1; border-radius: 0.35em; vertical-align: middle; margin-left: 0.5rem\">WORK_OF_ART</span>\\n</mark>\\n, \\'\\n<mark class=\"entity\" style=\"background: #f0d0ff; padding: 0.45em 0.6em; margin: 0 0.25em; line-height: 1; border-radius: 0.35em;\">\\n    Bangladesh:\\n    <span style=\"font-size: 0.8em; font-weight: bold; line-height: 1; border-radius: 0.35em; vertical-align: middle; margin-left: 0.5rem\">WORK_OF_ART</span>\\n</mark>\\n Unique Meghnaghat IPP\\', \\'Bangladesh: Strengthening Social Resilience Program (Subprogram 2)\\', \\'\\n<mark class=\"entity\" style=\"background: #feca74; padding: 0.45em 0.6em; margin: 0 0.25em; line-height: 1; border-radius: 0.35em;\">\\n    Cambodia\\n    <span style=\"font-size: 0.8em; font-weight: bold; line-height: 1; border-radius: 0.35em; vertical-align: middle; margin-left: 0.5rem\">GPE</span>\\n</mark>\\n: Cross-border \\n<mark class=\"entity\" style=\"background: #7aecec; padding: 0.45em 0.6em; margin: 0 0.25em; line-height: 1; border-radius: 0.35em;\">\\n    Livestock Health\\n    <span style=\"font-size: 0.8em; font-weight: bold; line-height: 1; border-radius: 0.35em; vertical-align: middle; margin-left: 0.5rem\">ORG</span>\\n</mark>\\n and Value-chain \\n<mark class=\"entity\" style=\"background: #7aecec; padding: 0.45em 0.6em; margin: 0 0.25em; line-height: 1; border-radius: 0.35em;\">\\n    Infrastructure Improvement Project\\'\\n    <span style=\"font-size: 0.8em; font-weight: bold; line-height: 1; border-radius: 0.35em; vertical-align: middle; margin-left: 0.5rem\">ORG</span>\\n</mark>\\n, \\'Türkiye: \\n<mark class=\"entity\" style=\"background: #7aecec; padding: 0.45em 0.6em; margin: 0 0.25em; line-height: 1; border-radius: 0.35em;\">\\n    TSKB Sustainable Energy and Infrastructure\\n    <span style=\"font-size: 0.8em; font-weight: bold; line-height: 1; border-radius: 0.35em; vertical-align: middle; margin-left: 0.5rem\">ORG</span>\\n</mark>\\n On-lending \\n<mark class=\"entity\" style=\"background: #7aecec; padding: 0.45em 0.6em; margin: 0 0.25em; line-height: 1; border-radius: 0.35em;\">\\n    Facility, Phase 2\\'\\n    <span style=\"font-size: 0.8em; font-weight: bold; line-height: 1; border-radius: 0.35em; vertical-align: middle; margin-left: 0.5rem\">ORG</span>\\n</mark>\\n, \\'\\n<mark class=\"entity\" style=\"background: #f0d0ff; padding: 0.45em 0.6em; margin: 0 0.25em; line-height: 1; border-radius: 0.35em;\">\\n    Uzbekistan: Surkhandarya\\n    <span style=\"font-size: 0.8em; font-weight: bold; line-height: 1; border-radius: 0.35em; vertical-align: middle; margin-left: 0.5rem\">WORK_OF_ART</span>\\n</mark>\\n 1,560MW \\n<mark class=\"entity\" style=\"background: #7aecec; padding: 0.45em 0.6em; margin: 0 0.25em; line-height: 1; border-radius: 0.35em;\">\\n    CCGT Power Plant\\'\\n    <span style=\"font-size: 0.8em; font-weight: bold; line-height: 1; border-radius: 0.35em; vertical-align: middle; margin-left: 0.5rem\">ORG</span>\\n</mark>\\n, \\'\\n<mark class=\"entity\" style=\"background: #feca74; padding: 0.45em 0.6em; margin: 0 0.25em; line-height: 1; border-radius: 0.35em;\">\\n    China\\n    <span style=\"font-size: 0.8em; font-weight: bold; line-height: 1; border-radius: 0.35em; vertical-align: middle; margin-left: 0.5rem\">GPE</span>\\n</mark>\\n: \\n<mark class=\"entity\" style=\"background: #feca74; padding: 0.45em 0.6em; margin: 0 0.25em; line-height: 1; border-radius: 0.35em;\">\\n    Yunnan\\n    <span style=\"font-size: 0.8em; font-weight: bold; line-height: 1; border-radius: 0.35em; vertical-align: middle; margin-left: 0.5rem\">GPE</span>\\n</mark>\\n \\n<mark class=\"entity\" style=\"background: #feca74; padding: 0.45em 0.6em; margin: 0 0.25em; line-height: 1; border-radius: 0.35em;\">\\n    Kunming\\n    <span style=\"font-size: 0.8em; font-weight: bold; line-height: 1; border-radius: 0.35em; vertical-align: middle; margin-left: 0.5rem\">GPE</span>\\n</mark>\\n Changshui Green Airport Development Project\\', \\'Pakistan: Building Resilience with \\n<mark class=\"entity\" style=\"background: #7aecec; padding: 0.45em 0.6em; margin: 0 0.25em; line-height: 1; border-radius: 0.35em;\">\\n    Countercyclical Expenditures\\n    <span style=\"font-size: 0.8em; font-weight: bold; line-height: 1; border-radius: 0.35em; vertical-align: middle; margin-left: 0.5rem\">ORG</span>\\n</mark>\\n (BRACE) Program\\', \\'India: FPL Open Access Solar Project\\', \\'\\n<mark class=\"entity\" style=\"background: #f0d0ff; padding: 0.45em 0.6em; margin: 0 0.25em; line-height: 1; border-radius: 0.35em;\">\\n    Multicountry:\\n    <span style=\"font-size: 0.8em; font-weight: bold; line-height: 1; border-radius: 0.35em; vertical-align: middle; margin-left: 0.5rem\">WORK_OF_ART</span>\\n</mark>\\n Rakiza Fund I\\', \\'\\n<mark class=\"entity\" style=\"background: #f0d0ff; padding: 0.45em 0.6em; margin: 0 0.25em; line-height: 1; border-radius: 0.35em;\">\\n    Lao PDR\\n    <span style=\"font-size: 0.8em; font-weight: bold; line-height: 1; border-radius: 0.35em; vertical-align: middle; margin-left: 0.5rem\">WORK_OF_ART</span>\\n</mark>\\n: Monsoon \\n<mark class=\"entity\" style=\"background: #e4e7d2; padding: 0.45em 0.6em; margin: 0 0.25em; line-height: 1; border-radius: 0.35em;\">\\n    600\\n    <span style=\"font-size: 0.8em; font-weight: bold; line-height: 1; border-radius: 0.35em; vertical-align: middle; margin-left: 0.5rem\">CARDINAL</span>\\n</mark>\\n \\n<mark class=\"entity\" style=\"background: #7aecec; padding: 0.45em 0.6em; margin: 0 0.25em; line-height: 1; border-radius: 0.35em;\">\\n    MW Cross\\n    <span style=\"font-size: 0.8em; font-weight: bold; line-height: 1; border-radius: 0.35em; vertical-align: middle; margin-left: 0.5rem\">ORG</span>\\n</mark>\\n-border \\n<mark class=\"entity\" style=\"background: #7aecec; padding: 0.45em 0.6em; margin: 0 0.25em; line-height: 1; border-radius: 0.35em;\">\\n    Wind Power Project\\'\\n    <span style=\"font-size: 0.8em; font-weight: bold; line-height: 1; border-radius: 0.35em; vertical-align: middle; margin-left: 0.5rem\">ORG</span>\\n</mark>\\n, \\'Multicountry: Southeast Asia Women’s Economic Empowerment Fund\\', \\'\\n<mark class=\"entity\" style=\"background: #feca74; padding: 0.45em 0.6em; margin: 0 0.25em; line-height: 1; border-radius: 0.35em;\">\\n    India\\n    <span style=\"font-size: 0.8em; font-weight: bold; line-height: 1; border-radius: 0.35em; vertical-align: middle; margin-left: 0.5rem\">GPE</span>\\n</mark>\\n: \\n<mark class=\"entity\" style=\"background: #7aecec; padding: 0.45em 0.6em; margin: 0 0.25em; line-height: 1; border-radius: 0.35em;\">\\n    GreenCell Electric Bus Financing Project\\'\\n    <span style=\"font-size: 0.8em; font-weight: bold; line-height: 1; border-radius: 0.35em; vertical-align: middle; margin-left: 0.5rem\">ORG</span>\\n</mark>\\n, \\'Mongolia: Weathering Exogenous Shocks Program\\', \\'\\n<mark class=\"entity\" style=\"background: #feca74; padding: 0.45em 0.6em; margin: 0 0.25em; line-height: 1; border-radius: 0.35em;\">\\n    India\\n    <span style=\"font-size: 0.8em; font-weight: bold; line-height: 1; border-radius: 0.35em; vertical-align: middle; margin-left: 0.5rem\">GPE</span>\\n</mark>\\n: \\n<mark class=\"entity\" style=\"background: #7aecec; padding: 0.45em 0.6em; margin: 0 0.25em; line-height: 1; border-radius: 0.35em;\">\\n    Kotak Infrastructure Investment Fund\\'\\n    <span style=\"font-size: 0.8em; font-weight: bold; line-height: 1; border-radius: 0.35em; vertical-align: middle; margin-left: 0.5rem\">ORG</span>\\n</mark>\\n, \\'Türkiye: Aklease Multisector Facility\\', \\'\\n<mark class=\"entity\" style=\"background: #feca74; padding: 0.45em 0.6em; margin: 0 0.25em; line-height: 1; border-radius: 0.35em;\">\\n    Singapore\\n    <span style=\"font-size: 0.8em; font-weight: bold; line-height: 1; border-radius: 0.35em; vertical-align: middle; margin-left: 0.5rem\">GPE</span>\\n</mark>\\n: Asia Infrastructure Securitization Program II\\', \\'\\n<mark class=\"entity\" style=\"background: #feca74; padding: 0.45em 0.6em; margin: 0 0.25em; line-height: 1; border-radius: 0.35em;\">\\n    China\\n    <span style=\"font-size: 0.8em; font-weight: bold; line-height: 1; border-radius: 0.35em; vertical-align: middle; margin-left: 0.5rem\">GPE</span>\\n</mark>\\n: \\n<mark class=\"entity\" style=\"background: #7aecec; padding: 0.45em 0.6em; margin: 0 0.25em; line-height: 1; border-radius: 0.35em;\">\\n    Haier Social Infrastructure Leasing\\'\\n    <span style=\"font-size: 0.8em; font-weight: bold; line-height: 1; border-radius: 0.35em; vertical-align: middle; margin-left: 0.5rem\">ORG</span>\\n</mark>\\n, \\'Fiji: Sustainable and Resilient Recovery Program for Fiji\\', \\'\\n<mark class=\"entity\" style=\"background: #7aecec; padding: 0.45em 0.6em; margin: 0 0.25em; line-height: 1; border-radius: 0.35em;\">\\n    Alcazar Energy Partners II\\n    <span style=\"font-size: 0.8em; font-weight: bold; line-height: 1; border-radius: 0.35em; vertical-align: middle; margin-left: 0.5rem\">ORG</span>\\n</mark>\\n (“\\n<mark class=\"entity\" style=\"background: #7aecec; padding: 0.45em 0.6em; margin: 0 0.25em; line-height: 1; border-radius: 0.35em;\">\\n    AEP-II\\n    <span style=\"font-size: 0.8em; font-weight: bold; line-height: 1; border-radius: 0.35em; vertical-align: middle; margin-left: 0.5rem\">ORG</span>\\n</mark>\\n”)\\', \\'Multicountry: \\n<mark class=\"entity\" style=\"background: #7aecec; padding: 0.45em 0.6em; margin: 0 0.25em; line-height: 1; border-radius: 0.35em;\">\\n    CITIC Capital Pan Eurasia Fund - Co-Investment Superfreeze Cold Storage Logistics\\n    <span style=\"font-size: 0.8em; font-weight: bold; line-height: 1; border-radius: 0.35em; vertical-align: middle; margin-left: 0.5rem\">ORG</span>\\n</mark>\\n (Multicountry)\\', \\'Multicountry: \\n<mark class=\"entity\" style=\"background: #7aecec; padding: 0.45em 0.6em; margin: 0 0.25em; line-height: 1; border-radius: 0.35em;\">\\n    CITIC Capital Pan Eurasia Fund - Co-Investment Project Spark\\n    <span style=\"font-size: 0.8em; font-weight: bold; line-height: 1; border-radius: 0.35em; vertical-align: middle; margin-left: 0.5rem\">ORG</span>\\n</mark>\\n (\\n<mark class=\"entity\" style=\"background: #feca74; padding: 0.45em 0.6em; margin: 0 0.25em; line-height: 1; border-radius: 0.35em;\">\\n    China\\n    <span style=\"font-size: 0.8em; font-weight: bold; line-height: 1; border-radius: 0.35em; vertical-align: middle; margin-left: 0.5rem\">GPE</span>\\n</mark>\\n)\\', \\'Türkiye: COVID-19 \\n<mark class=\"entity\" style=\"background: #7aecec; padding: 0.45em 0.6em; margin: 0 0.25em; line-height: 1; border-radius: 0.35em;\">\\n    Vaccine Project\\n    <span style=\"font-size: 0.8em; font-weight: bold; line-height: 1; border-radius: 0.35em; vertical-align: middle; margin-left: 0.5rem\">ORG</span>\\n</mark>\\n under the COVID-19 Crisis Recovery Facility\\', \\'\\n<mark class=\"entity\" style=\"background: #f0d0ff; padding: 0.45em 0.6em; margin: 0 0.25em; line-height: 1; border-radius: 0.35em;\">\\n    Multicountry: Everbright Infrastructure Investment Fund II\\'\\n    <span style=\"font-size: 0.8em; font-weight: bold; line-height: 1; border-radius: 0.35em; vertical-align: middle; margin-left: 0.5rem\">WORK_OF_ART</span>\\n</mark>\\n, \\'India: Assam Secondary Road Network Improvement Project\\', \\'Solar IPP Equity Investment\\', \\'\\n<mark class=\"entity\" style=\"background: #feca74; padding: 0.45em 0.6em; margin: 0 0.25em; line-height: 1; border-radius: 0.35em;\">\\n    Thailand\\n    <span style=\"font-size: 0.8em; font-weight: bold; line-height: 1; border-radius: 0.35em; vertical-align: middle; margin-left: 0.5rem\">GPE</span>\\n</mark>\\n: \\n<mark class=\"entity\" style=\"background: #7aecec; padding: 0.45em 0.6em; margin: 0 0.25em; line-height: 1; border-radius: 0.35em;\">\\n    U-Tapao International Airport Expansion Project\\'\\n    <span style=\"font-size: 0.8em; font-weight: bold; line-height: 1; border-radius: 0.35em; vertical-align: middle; margin-left: 0.5rem\">ORG</span>\\n</mark>\\n, \\'\\n<mark class=\"entity\" style=\"background: #aa9cfc; padding: 0.45em 0.6em; margin: 0 0.25em; line-height: 1; border-radius: 0.35em;\">\\n    Indonesia\\n    <span style=\"font-size: 0.8em; font-weight: bold; line-height: 1; border-radius: 0.35em; vertical-align: middle; margin-left: 0.5rem\">PERSON</span>\\n</mark>\\n: Trans-Sumatra Toll Road Project – Cinto \\n<mark class=\"entity\" style=\"background: #aa9cfc; padding: 0.45em 0.6em; margin: 0 0.25em; line-height: 1; border-radius: 0.35em;\">\\n    Kenang\\n    <span style=\"font-size: 0.8em; font-weight: bold; line-height: 1; border-radius: 0.35em; vertical-align: middle; margin-left: 0.5rem\">PERSON</span>\\n</mark>\\n to \\n<mark class=\"entity\" style=\"background: #7aecec; padding: 0.45em 0.6em; margin: 0 0.25em; line-height: 1; border-radius: 0.35em;\">\\n    Sentjalang\\'\\n    <span style=\"font-size: 0.8em; font-weight: bold; line-height: 1; border-radius: 0.35em; vertical-align: middle; margin-left: 0.5rem\">ORG</span>\\n</mark>\\n, \\'Philippines: \\n<mark class=\"entity\" style=\"background: #7aecec; padding: 0.45em 0.6em; margin: 0 0.25em; line-height: 1; border-radius: 0.35em;\">\\n    Integrated Flood Resilience and Adaptation Project I\\'\\n    <span style=\"font-size: 0.8em; font-weight: bold; line-height: 1; border-radius: 0.35em; vertical-align: middle; margin-left: 0.5rem\">ORG</span>\\n</mark>\\n, \\'Côte d’Ivoire: Strengthening of \\n<mark class=\"entity\" style=\"background: #7aecec; padding: 0.45em 0.6em; margin: 0 0.25em; line-height: 1; border-radius: 0.35em;\">\\n    Vaccination and Health Systems\\n    <span style=\"font-size: 0.8em; font-weight: bold; line-height: 1; border-radius: 0.35em; vertical-align: middle; margin-left: 0.5rem\">ORG</span>\\n</mark>\\n under the COVID-19 Strategic Preparedness and \\n<mark class=\"entity\" style=\"background: #7aecec; padding: 0.45em 0.6em; margin: 0 0.25em; line-height: 1; border-radius: 0.35em;\">\\n    Response Project\\'\\n    <span style=\"font-size: 0.8em; font-weight: bold; line-height: 1; border-radius: 0.35em; vertical-align: middle; margin-left: 0.5rem\">ORG</span>\\n</mark>\\n, \\'Cambodia: Emergency and Crisis Response Facility\\', \\'\\n<mark class=\"entity\" style=\"background: #f0d0ff; padding: 0.45em 0.6em; margin: 0 0.25em; line-height: 1; border-radius: 0.35em;\">\\n    Uzbekistan: Bukhara Region Water Supply and Sewerage Phase II\\n    <span style=\"font-size: 0.8em; font-weight: bold; line-height: 1; border-radius: 0.35em; vertical-align: middle; margin-left: 0.5rem\">WORK_OF_ART</span>\\n</mark>\\n (\\n<mark class=\"entity\" style=\"background: #7aecec; padding: 0.45em 0.6em; margin: 0 0.25em; line-height: 1; border-radius: 0.35em;\">\\n    BRWSSP II\\n    <span style=\"font-size: 0.8em; font-weight: bold; line-height: 1; border-radius: 0.35em; vertical-align: middle; margin-left: 0.5rem\">ORG</span>\\n</mark>\\n)\\', \\'\\n<mark class=\"entity\" style=\"background: #feca74; padding: 0.45em 0.6em; margin: 0 0.25em; line-height: 1; border-radius: 0.35em;\">\\n    Cambodia\\n    <span style=\"font-size: 0.8em; font-weight: bold; line-height: 1; border-radius: 0.35em; vertical-align: middle; margin-left: 0.5rem\">GPE</span>\\n</mark>\\n: \\n<mark class=\"entity\" style=\"background: #feca74; padding: 0.45em 0.6em; margin: 0 0.25em; line-height: 1; border-radius: 0.35em;\">\\n    Cambodia\\n    <span style=\"font-size: 0.8em; font-weight: bold; line-height: 1; border-radius: 0.35em; vertical-align: middle; margin-left: 0.5rem\">GPE</span>\\n</mark>\\n PRASAC COVID-19 \\n<mark class=\"entity\" style=\"background: #7aecec; padding: 0.45em 0.6em; margin: 0 0.25em; line-height: 1; border-radius: 0.35em;\">\\n    Response Facility\\'\\n    <span style=\"font-size: 0.8em; font-weight: bold; line-height: 1; border-radius: 0.35em; vertical-align: middle; margin-left: 0.5rem\">ORG</span>\\n</mark>\\n, \\'Indonesia: Development of Pumped Storage Hydropower in \\n<mark class=\"entity\" style=\"background: #7aecec; padding: 0.45em 0.6em; margin: 0 0.25em; line-height: 1; border-radius: 0.35em;\">\\n    Java Bali System\\n    <span style=\"font-size: 0.8em; font-weight: bold; line-height: 1; border-radius: 0.35em; vertical-align: middle; margin-left: 0.5rem\">ORG</span>\\n</mark>\\n (the Project)\\', \\'\\n<mark class=\"entity\" style=\"background: #feca74; padding: 0.45em 0.6em; margin: 0 0.25em; line-height: 1; border-radius: 0.35em;\">\\n    China\\n    <span style=\"font-size: 0.8em; font-weight: bold; line-height: 1; border-radius: 0.35em; vertical-align: middle; margin-left: 0.5rem\">GPE</span>\\n</mark>\\n: \\n<mark class=\"entity\" style=\"background: #7aecec; padding: 0.45em 0.6em; margin: 0 0.25em; line-height: 1; border-radius: 0.35em;\">\\n    GLP China Logistics Fund III\\'\\n    <span style=\"font-size: 0.8em; font-weight: bold; line-height: 1; border-radius: 0.35em; vertical-align: middle; margin-left: 0.5rem\">ORG</span>\\n</mark>\\n, \\'Bangladesh: IDCOL Multi-Sector On-Lending Facility\\', \\'\\n<mark class=\"entity\" style=\"background: #feca74; padding: 0.45em 0.6em; margin: 0 0.25em; line-height: 1; border-radius: 0.35em;\">\\n    India\\n    <span style=\"font-size: 0.8em; font-weight: bold; line-height: 1; border-radius: 0.35em; vertical-align: middle; margin-left: 0.5rem\">GPE</span>\\n</mark>\\n: \\n<mark class=\"entity\" style=\"background: #7aecec; padding: 0.45em 0.6em; margin: 0 0.25em; line-height: 1; border-radius: 0.35em;\">\\n    Second Dam Rehabilitation and Improvement Project\\'\\n    <span style=\"font-size: 0.8em; font-weight: bold; line-height: 1; border-radius: 0.35em; vertical-align: middle; margin-left: 0.5rem\">ORG</span>\\n</mark>\\n, \\'\\n<mark class=\"entity\" style=\"background: #f0d0ff; padding: 0.45em 0.6em; margin: 0 0.25em; line-height: 1; border-radius: 0.35em;\">\\n    Cambodia: Rapid Immunization Support Project\\'\\n    <span style=\"font-size: 0.8em; font-weight: bold; line-height: 1; border-radius: 0.35em; vertical-align: middle; margin-left: 0.5rem\">WORK_OF_ART</span>\\n</mark>\\n, \\'India: Assam Electricity Distribution System Enhancement Project\\', \\'\\n<mark class=\"entity\" style=\"background: #f0d0ff; padding: 0.45em 0.6em; margin: 0 0.25em; line-height: 1; border-radius: 0.35em;\">\\n    Uzbekistan: Bukhara-Miskin-Urgench-Khiva Railway Electrification Project\\', \\'China\\n    <span style=\"font-size: 0.8em; font-weight: bold; line-height: 1; border-radius: 0.35em; vertical-align: middle; margin-left: 0.5rem\">WORK_OF_ART</span>\\n</mark>\\n: \\n<mark class=\"entity\" style=\"background: #7aecec; padding: 0.45em 0.6em; margin: 0 0.25em; line-height: 1; border-radius: 0.35em;\">\\n    Zhengzhou International Logistics Hub\\n    <span style=\"font-size: 0.8em; font-weight: bold; line-height: 1; border-radius: 0.35em; vertical-align: middle; margin-left: 0.5rem\">ORG</span>\\n</mark>\\n (Previously: \\n<mark class=\"entity\" style=\"background: #7aecec; padding: 0.45em 0.6em; margin: 0 0.25em; line-height: 1; border-radius: 0.35em;\">\\n    Zhengzhou International Hub Expansion\\n    <span style=\"font-size: 0.8em; font-weight: bold; line-height: 1; border-radius: 0.35em; vertical-align: middle; margin-left: 0.5rem\">ORG</span>\\n</mark>\\n)\\', \\'\\n<mark class=\"entity\" style=\"background: #feca74; padding: 0.45em 0.6em; margin: 0 0.25em; line-height: 1; border-radius: 0.35em;\">\\n    India\\n    <span style=\"font-size: 0.8em; font-weight: bold; line-height: 1; border-radius: 0.35em; vertical-align: middle; margin-left: 0.5rem\">GPE</span>\\n</mark>\\n: West Bengal Electricity Distribution Grid Modernization Project\\', \\'\\n<mark class=\"entity\" style=\"background: #feca74; padding: 0.45em 0.6em; margin: 0 0.25em; line-height: 1; border-radius: 0.35em;\">\\n    China\\n    <span style=\"font-size: 0.8em; font-weight: bold; line-height: 1; border-radius: 0.35em; vertical-align: middle; margin-left: 0.5rem\">GPE</span>\\n</mark>\\n: \\n<mark class=\"entity\" style=\"background: #feca74; padding: 0.45em 0.6em; margin: 0 0.25em; line-height: 1; border-radius: 0.35em;\">\\n    China\\n    <span style=\"font-size: 0.8em; font-weight: bold; line-height: 1; border-radius: 0.35em; vertical-align: middle; margin-left: 0.5rem\">GPE</span>\\n</mark>\\n EXIM Bank Green On-lending \\n<mark class=\"entity\" style=\"background: #7aecec; padding: 0.45em 0.6em; margin: 0 0.25em; line-height: 1; border-radius: 0.35em;\">\\n    Facility\\'\\n    <span style=\"font-size: 0.8em; font-weight: bold; line-height: 1; border-radius: 0.35em; vertical-align: middle; margin-left: 0.5rem\">ORG</span>\\n</mark>\\n, \\'\\n<mark class=\"entity\" style=\"background: #feca74; padding: 0.45em 0.6em; margin: 0 0.25em; line-height: 1; border-radius: 0.35em;\">\\n    Brazil\\n    <span style=\"font-size: 0.8em; font-weight: bold; line-height: 1; border-radius: 0.35em; vertical-align: middle; margin-left: 0.5rem\">GPE</span>\\n</mark>\\n: BDMG Renewables and \\n<mark class=\"entity\" style=\"background: #7aecec; padding: 0.45em 0.6em; margin: 0 0.25em; line-height: 1; border-radius: 0.35em;\">\\n    Asia Connectivity Facility\\'\\n    <span style=\"font-size: 0.8em; font-weight: bold; line-height: 1; border-radius: 0.35em; vertical-align: middle; margin-left: 0.5rem\">ORG</span>\\n</mark>\\n, \\'\\n<mark class=\"entity\" style=\"background: #feca74; padding: 0.45em 0.6em; margin: 0 0.25em; line-height: 1; border-radius: 0.35em;\">\\n    China\\n    <span style=\"font-size: 0.8em; font-weight: bold; line-height: 1; border-radius: 0.35em; vertical-align: middle; margin-left: 0.5rem\">GPE</span>\\n</mark>\\n: \\n<mark class=\"entity\" style=\"background: #7aecec; padding: 0.45em 0.6em; margin: 0 0.25em; line-height: 1; border-radius: 0.35em;\">\\n    NIO Capital Eve ONE Fund II\\'\\n    <span style=\"font-size: 0.8em; font-weight: bold; line-height: 1; border-radius: 0.35em; vertical-align: middle; margin-left: 0.5rem\">ORG</span>\\n</mark>\\n, \\'India: Responsive COVID-19 Vaccines for Recovery Project\\', \\'\\n<mark class=\"entity\" style=\"background: #aa9cfc; padding: 0.45em 0.6em; margin: 0 0.25em; line-height: 1; border-radius: 0.35em;\">\\n    Indonesia\\n    <span style=\"font-size: 0.8em; font-weight: bold; line-height: 1; border-radius: 0.35em; vertical-align: middle; margin-left: 0.5rem\">PERSON</span>\\n</mark>\\n: \\n<mark class=\"entity\" style=\"background: #7aecec; padding: 0.45em 0.6em; margin: 0 0.25em; line-height: 1; border-radius: 0.35em;\">\\n    Batam Bintan Bridge Project\\'\\n    <span style=\"font-size: 0.8em; font-weight: bold; line-height: 1; border-radius: 0.35em; vertical-align: middle; margin-left: 0.5rem\">ORG</span>\\n</mark>\\n, \\'Türkiye: Scaling-up Distributed Solar PVs in \\n<mark class=\"entity\" style=\"background: #feca74; padding: 0.45em 0.6em; margin: 0 0.25em; line-height: 1; border-radius: 0.35em;\">\\n    Türkiye\\n    <span style=\"font-size: 0.8em; font-weight: bold; line-height: 1; border-radius: 0.35em; vertical-align: middle; margin-left: 0.5rem\">GPE</span>\\n</mark>\\n, Program for Results (PforR)\\', \\n<mark class=\"entity\" style=\"background: #7aecec; padding: 0.45em 0.6em; margin: 0 0.25em; line-height: 1; border-radius: 0.35em;\">\\n    \\'Russian Federation:\\n    <span style=\"font-size: 0.8em; font-weight: bold; line-height: 1; border-radius: 0.35em; vertical-align: middle; margin-left: 0.5rem\">ORG</span>\\n</mark>\\n Upgrade of \\n<mark class=\"entity\" style=\"background: #7aecec; padding: 0.45em 0.6em; margin: 0 0.25em; line-height: 1; border-radius: 0.35em;\">\\n    the Electric Rail Fleet Project\\'\\n    <span style=\"font-size: 0.8em; font-weight: bold; line-height: 1; border-radius: 0.35em; vertical-align: middle; margin-left: 0.5rem\">ORG</span>\\n</mark>\\n, \\'Pakistan: Punjab Arterial Roads Improvement Project\\', \\'Türkiye: \\n<mark class=\"entity\" style=\"background: #aa9cfc; padding: 0.45em 0.6em; margin: 0 0.25em; line-height: 1; border-radius: 0.35em;\">\\n    Izmir Metro\\n    <span style=\"font-size: 0.8em; font-weight: bold; line-height: 1; border-radius: 0.35em; vertical-align: middle; margin-left: 0.5rem\">PERSON</span>\\n</mark>\\n Phase \\n<mark class=\"entity\" style=\"background: #e4e7d2; padding: 0.45em 0.6em; margin: 0 0.25em; line-height: 1; border-radius: 0.35em;\">\\n    5\\n    <span style=\"font-size: 0.8em; font-weight: bold; line-height: 1; border-radius: 0.35em; vertical-align: middle; margin-left: 0.5rem\">CARDINAL</span>\\n</mark>\\n: Üçyol - Buca Line\\', \\'Bangladesh: Bangladesh Responsive COVID-19 Vaccines for Recovery Project\\', \\'\\n<mark class=\"entity\" style=\"background: #f0d0ff; padding: 0.45em 0.6em; margin: 0 0.25em; line-height: 1; border-radius: 0.35em;\">\\n    Bangladesh: Southern Chattogram and Kaliakoir Transmission Infrastructure Development Project\\'\\n    <span style=\"font-size: 0.8em; font-weight: bold; line-height: 1; border-radius: 0.35em; vertical-align: middle; margin-left: 0.5rem\">WORK_OF_ART</span>\\n</mark>\\n, \\'\\n<mark class=\"entity\" style=\"background: #f0d0ff; padding: 0.45em 0.6em; margin: 0 0.25em; line-height: 1; border-radius: 0.35em;\">\\n    Belarus: Belarus Emergency Response and Public Healthcare Support Project\\'\\n    <span style=\"font-size: 0.8em; font-weight: bold; line-height: 1; border-radius: 0.35em; vertical-align: middle; margin-left: 0.5rem\">WORK_OF_ART</span>\\n</mark>\\n, \\'India: Extension, Renovation, and Modernization of Grand Anicut Canal System\\', \\'Oman: Oman Broadband Company – Tranche 2\\', \\'\\n<mark class=\"entity\" style=\"background: #feca74; padding: 0.45em 0.6em; margin: 0 0.25em; line-height: 1; border-radius: 0.35em;\">\\n    Rwanda\\n    <span style=\"font-size: 0.8em; font-weight: bold; line-height: 1; border-radius: 0.35em; vertical-align: middle; margin-left: 0.5rem\">GPE</span>\\n</mark>\\n: \\n<mark class=\"entity\" style=\"background: #7aecec; padding: 0.45em 0.6em; margin: 0 0.25em; line-height: 1; border-radius: 0.35em;\">\\n    Rwanda Digital Acceleration Project\\n    <span style=\"font-size: 0.8em; font-weight: bold; line-height: 1; border-radius: 0.35em; vertical-align: middle; margin-left: 0.5rem\">ORG</span>\\n</mark>\\n (Digital Investment for Recovery, Resilience and Connectivity)\\', \\'\\n<mark class=\"entity\" style=\"background: #feca74; padding: 0.45em 0.6em; margin: 0 0.25em; line-height: 1; border-radius: 0.35em;\">\\n    Philippines\\n    <span style=\"font-size: 0.8em; font-weight: bold; line-height: 1; border-radius: 0.35em; vertical-align: middle; margin-left: 0.5rem\">GPE</span>\\n</mark>\\n: \\n<mark class=\"entity\" style=\"background: #7aecec; padding: 0.45em 0.6em; margin: 0 0.25em; line-height: 1; border-radius: 0.35em;\">\\n    Second Health System Enhancement\\n    <span style=\"font-size: 0.8em; font-weight: bold; line-height: 1; border-radius: 0.35em; vertical-align: middle; margin-left: 0.5rem\">ORG</span>\\n</mark>\\n to Address and Limit COVID-19 Under the Asia Pacific Vaccine Access Facility Additional Financing Project (HEAL2-AF)\\', \\'\\n<mark class=\"entity\" style=\"background: #feca74; padding: 0.45em 0.6em; margin: 0 0.25em; line-height: 1; border-radius: 0.35em;\">\\n    Pakistan\\n    <span style=\"font-size: 0.8em; font-weight: bold; line-height: 1; border-radius: 0.35em; vertical-align: middle; margin-left: 0.5rem\">GPE</span>\\n</mark>\\n: \\n<mark class=\"entity\" style=\"background: #7aecec; padding: 0.45em 0.6em; margin: 0 0.25em; line-height: 1; border-radius: 0.35em;\">\\n    Khyber Pakhtunkhwa Cities Improvement Project\\'\\n    <span style=\"font-size: 0.8em; font-weight: bold; line-height: 1; border-radius: 0.35em; vertical-align: middle; margin-left: 0.5rem\">ORG</span>\\n</mark>\\n, \\'\\n<mark class=\"entity\" style=\"background: #feca74; padding: 0.45em 0.6em; margin: 0 0.25em; line-height: 1; border-radius: 0.35em;\">\\n    India\\n    <span style=\"font-size: 0.8em; font-weight: bold; line-height: 1; border-radius: 0.35em; vertical-align: middle; margin-left: 0.5rem\">GPE</span>\\n</mark>\\n: \\n<mark class=\"entity\" style=\"background: #7aecec; padding: 0.45em 0.6em; margin: 0 0.25em; line-height: 1; border-radius: 0.35em;\">\\n    Gujarat Education Infrastructure and Technology Modernization Program\\'\\n    <span style=\"font-size: 0.8em; font-weight: bold; line-height: 1; border-radius: 0.35em; vertical-align: middle; margin-left: 0.5rem\">ORG</span>\\n</mark>\\n, \\'Türkiye: Osmangazi Electricity Distribution Network Modernization and Expansion Project\\', \\'\\n<mark class=\"entity\" style=\"background: #feca74; padding: 0.45em 0.6em; margin: 0 0.25em; line-height: 1; border-radius: 0.35em;\">\\n    China\\n    <span style=\"font-size: 0.8em; font-weight: bold; line-height: 1; border-radius: 0.35em; vertical-align: middle; margin-left: 0.5rem\">GPE</span>\\n</mark>\\n: \\n<mark class=\"entity\" style=\"background: #7aecec; padding: 0.45em 0.6em; margin: 0 0.25em; line-height: 1; border-radius: 0.35em;\">\\n    Henan Flood Emergency Rehabilitation and Recovery Project\\'\\n    <span style=\"font-size: 0.8em; font-weight: bold; line-height: 1; border-radius: 0.35em; vertical-align: middle; margin-left: 0.5rem\">ORG</span>\\n</mark>\\n, \\'Türkiye: \\n<mark class=\"entity\" style=\"background: #7aecec; padding: 0.45em 0.6em; margin: 0 0.25em; line-height: 1; border-radius: 0.35em;\">\\n    Ispartakule-Cerkezkoy Rail Project\\n    <span style=\"font-size: 0.8em; font-weight: bold; line-height: 1; border-radius: 0.35em; vertical-align: middle; margin-left: 0.5rem\">ORG</span>\\n</mark>\\n (Previously: Halkali-Cerkezkoy Rail Project)\\', \\'Egypt: Inclusive Growth for Sustainable Recovery DPF Program\\', \\'\\n<mark class=\"entity\" style=\"background: #feca74; padding: 0.45em 0.6em; margin: 0 0.25em; line-height: 1; border-radius: 0.35em;\">\\n    India\\n    <span style=\"font-size: 0.8em; font-weight: bold; line-height: 1; border-radius: 0.35em; vertical-align: middle; margin-left: 0.5rem\">GPE</span>\\n</mark>\\n: \\n<mark class=\"entity\" style=\"background: #7aecec; padding: 0.45em 0.6em; margin: 0 0.25em; line-height: 1; border-radius: 0.35em;\">\\n    Chennai City Partnership:\\n    <span style=\"font-size: 0.8em; font-weight: bold; line-height: 1; border-radius: 0.35em; vertical-align: middle; margin-left: 0.5rem\">ORG</span>\\n</mark>\\n Sustainable Urban Services Program\\', \\'Viet Nam: \\n<mark class=\"entity\" style=\"background: #aa9cfc; padding: 0.45em 0.6em; margin: 0 0.25em; line-height: 1; border-radius: 0.35em;\">\\n    Dakdrinh 125MW\\n    <span style=\"font-size: 0.8em; font-weight: bold; line-height: 1; border-radius: 0.35em; vertical-align: middle; margin-left: 0.5rem\">PERSON</span>\\n</mark>\\n Hydropower Plant\\', \\'\\n<mark class=\"entity\" style=\"background: #feca74; padding: 0.45em 0.6em; margin: 0 0.25em; line-height: 1; border-radius: 0.35em;\">\\n    China\\n    <span style=\"font-size: 0.8em; font-weight: bold; line-height: 1; border-radius: 0.35em; vertical-align: middle; margin-left: 0.5rem\">GPE</span>\\n</mark>\\n: \\n<mark class=\"entity\" style=\"background: #7aecec; padding: 0.45em 0.6em; margin: 0 0.25em; line-height: 1; border-radius: 0.35em;\">\\n    Liaoning Green Smart Public Transport Demonstration Project\\'\\n    <span style=\"font-size: 0.8em; font-weight: bold; line-height: 1; border-radius: 0.35em; vertical-align: middle; margin-left: 0.5rem\">ORG</span>\\n</mark>\\n, \\'Bangladesh: Bangladesh Sustainable Economic Recovery Program (Subprogram 1)\\', \\'Türkiye: \\n<mark class=\"entity\" style=\"background: #7aecec; padding: 0.45em 0.6em; margin: 0 0.25em; line-height: 1; border-radius: 0.35em;\">\\n    Istanbul Waste to Energy Generation Project\\n    <span style=\"font-size: 0.8em; font-weight: bold; line-height: 1; border-radius: 0.35em; vertical-align: middle; margin-left: 0.5rem\">ORG</span>\\n</mark>\\n (Previously: Construction and Operation of a Waste Incineration and Energy Generation Plant)\\', \\'\\n<mark class=\"entity\" style=\"background: #f0d0ff; padding: 0.45em 0.6em; margin: 0 0.25em; line-height: 1; border-radius: 0.35em;\">\\n    Multicountry: STIC Asia Infrastructure Innovation Fund\\'\\n    <span style=\"font-size: 0.8em; font-weight: bold; line-height: 1; border-radius: 0.35em; vertical-align: middle; margin-left: 0.5rem\">WORK_OF_ART</span>\\n</mark>\\n, \\'\\n<mark class=\"entity\" style=\"background: #f0d0ff; padding: 0.45em 0.6em; margin: 0 0.25em; line-height: 1; border-radius: 0.35em;\">\\n    Multicountry: Data Center Development in Emerging Asia\\'\\n    <span style=\"font-size: 0.8em; font-weight: bold; line-height: 1; border-radius: 0.35em; vertical-align: middle; margin-left: 0.5rem\">WORK_OF_ART</span>\\n</mark>\\n, \\'Türkiye: Türkiye Isbank COVID-19 \\n<mark class=\"entity\" style=\"background: #7aecec; padding: 0.45em 0.6em; margin: 0 0.25em; line-height: 1; border-radius: 0.35em;\">\\n    Credit Line Project\\'\\n    <span style=\"font-size: 0.8em; font-weight: bold; line-height: 1; border-radius: 0.35em; vertical-align: middle; margin-left: 0.5rem\">ORG</span>\\n</mark>\\n, \\'China: Sinovation Disrupt Fund\\', \\'Multicountry: \\n<mark class=\"entity\" style=\"background: #7aecec; padding: 0.45em 0.6em; margin: 0 0.25em; line-height: 1; border-radius: 0.35em;\">\\n    Keppel-Pierfront Private Credit Fund L.P\\'\\n    <span style=\"font-size: 0.8em; font-weight: bold; line-height: 1; border-radius: 0.35em; vertical-align: middle; margin-left: 0.5rem\">ORG</span>\\n</mark>\\n, \\'\\n<mark class=\"entity\" style=\"background: #feca74; padding: 0.45em 0.6em; margin: 0 0.25em; line-height: 1; border-radius: 0.35em;\">\\n    India\\n    <span style=\"font-size: 0.8em; font-weight: bold; line-height: 1; border-radius: 0.35em; vertical-align: middle; margin-left: 0.5rem\">GPE</span>\\n</mark>\\n: Chennai Metro Rail Phase 2 Project - Corridor 4\\', \\'\\n<mark class=\"entity\" style=\"background: #feca74; padding: 0.45em 0.6em; margin: 0 0.25em; line-height: 1; border-radius: 0.35em;\">\\n    China\\n    <span style=\"font-size: 0.8em; font-weight: bold; line-height: 1; border-radius: 0.35em; vertical-align: middle; margin-left: 0.5rem\">GPE</span>\\n</mark>\\n: FOSUN COVID-19 \\n<mark class=\"entity\" style=\"background: #7aecec; padding: 0.45em 0.6em; margin: 0 0.25em; line-height: 1; border-radius: 0.35em;\">\\n    Vaccine Project\\'\\n    <span style=\"font-size: 0.8em; font-weight: bold; line-height: 1; border-radius: 0.35em; vertical-align: middle; margin-left: 0.5rem\">ORG</span>\\n</mark>\\n, \\'Jordan: Inclusive Transparent and Climate Responsive Investments Program for Results (the \\n<mark class=\"entity\" style=\"background: #7aecec; padding: 0.45em 0.6em; margin: 0 0.25em; line-height: 1; border-radius: 0.35em;\">\\n    Program\\n    <span style=\"font-size: 0.8em; font-weight: bold; line-height: 1; border-radius: 0.35em; vertical-align: middle; margin-left: 0.5rem\">ORG</span>\\n</mark>\\n or PforR)\\', \\'Hungary: Emergency Assistance for \\n<mark class=\"entity\" style=\"background: #7aecec; padding: 0.45em 0.6em; margin: 0 0.25em; line-height: 1; border-radius: 0.35em;\">\\n    Healthcare Expenditures\\'\\n    <span style=\"font-size: 0.8em; font-weight: bold; line-height: 1; border-radius: 0.35em; vertical-align: middle; margin-left: 0.5rem\">ORG</span>\\n</mark>\\n, \\'India: Creating a Coordinated and Responsive Indian Social Protection System (CCRISP)\\', \\'India: Enel Green \\n<mark class=\"entity\" style=\"background: #e4e7d2; padding: 0.45em 0.6em; margin: 0 0.25em; line-height: 1; border-radius: 0.35em;\">\\n    300\\n    <span style=\"font-size: 0.8em; font-weight: bold; line-height: 1; border-radius: 0.35em; vertical-align: middle; margin-left: 0.5rem\">CARDINAL</span>\\n</mark>\\n MW Solar Project - Rajasthan\\', \\'\\n<mark class=\"entity\" style=\"background: #feca74; padding: 0.45em 0.6em; margin: 0 0.25em; line-height: 1; border-radius: 0.35em;\">\\n    Pakistan\\n    <span style=\"font-size: 0.8em; font-weight: bold; line-height: 1; border-radius: 0.35em; vertical-align: middle; margin-left: 0.5rem\">GPE</span>\\n</mark>\\n: \\n<mark class=\"entity\" style=\"background: #7aecec; padding: 0.45em 0.6em; margin: 0 0.25em; line-height: 1; border-radius: 0.35em;\">\\n    Balakot Hydropower Development Project\\'\\n    <span style=\"font-size: 0.8em; font-weight: bold; line-height: 1; border-radius: 0.35em; vertical-align: middle; margin-left: 0.5rem\">ORG</span>\\n</mark>\\n, \\'\\n<mark class=\"entity\" style=\"background: #feca74; padding: 0.45em 0.6em; margin: 0 0.25em; line-height: 1; border-radius: 0.35em;\">\\n    Azerbaijan\\n    <span style=\"font-size: 0.8em; font-weight: bold; line-height: 1; border-radius: 0.35em; vertical-align: middle; margin-left: 0.5rem\">GPE</span>\\n</mark>\\n: Republic of Azerbaijan COVID-19 Active Response and Expenditure Support (\\n<mark class=\"entity\" style=\"background: #7aecec; padding: 0.45em 0.6em; margin: 0 0.25em; line-height: 1; border-radius: 0.35em;\">\\n    CARES\\n    <span style=\"font-size: 0.8em; font-weight: bold; line-height: 1; border-radius: 0.35em; vertical-align: middle; margin-left: 0.5rem\">ORG</span>\\n</mark>\\n) Program\\', \\'\\n<mark class=\"entity\" style=\"background: #f0d0ff; padding: 0.45em 0.6em; margin: 0 0.25em; line-height: 1; border-radius: 0.35em;\">\\n    India: Resilient Kerala Program\\n    <span style=\"font-size: 0.8em; font-weight: bold; line-height: 1; border-radius: 0.35em; vertical-align: middle; margin-left: 0.5rem\">WORK_OF_ART</span>\\n</mark>\\n for Results\\', \\'\\n<mark class=\"entity\" style=\"background: #f0d0ff; padding: 0.45em 0.6em; margin: 0 0.25em; line-height: 1; border-radius: 0.35em;\">\\n    Indonesia: Emergency Response\\n    <span style=\"font-size: 0.8em; font-weight: bold; line-height: 1; border-radius: 0.35em; vertical-align: middle; margin-left: 0.5rem\">WORK_OF_ART</span>\\n</mark>\\n to COVID-19 \\n<mark class=\"entity\" style=\"background: #7aecec; padding: 0.45em 0.6em; margin: 0 0.25em; line-height: 1; border-radius: 0.35em;\">\\n    Program - Additional Financing\\'\\n    <span style=\"font-size: 0.8em; font-weight: bold; line-height: 1; border-radius: 0.35em; vertical-align: middle; margin-left: 0.5rem\">ORG</span>\\n</mark>\\n, \\'\\n<mark class=\"entity\" style=\"background: #feca74; padding: 0.45em 0.6em; margin: 0 0.25em; line-height: 1; border-radius: 0.35em;\">\\n    Rwanda\\n    <span style=\"font-size: 0.8em; font-weight: bold; line-height: 1; border-radius: 0.35em; vertical-align: middle; margin-left: 0.5rem\">GPE</span>\\n</mark>\\n: Private-Sector Access to Finance for \\n<mark class=\"entity\" style=\"background: #7aecec; padding: 0.45em 0.6em; margin: 0 0.25em; line-height: 1; border-radius: 0.35em;\">\\n    Post-COVID Recovery and Resilience\\'\\n    <span style=\"font-size: 0.8em; font-weight: bold; line-height: 1; border-radius: 0.35em; vertical-align: middle; margin-left: 0.5rem\">ORG</span>\\n</mark>\\n, \\'\\n<mark class=\"entity\" style=\"background: #feca74; padding: 0.45em 0.6em; margin: 0 0.25em; line-height: 1; border-radius: 0.35em;\">\\n    China\\n    <span style=\"font-size: 0.8em; font-weight: bold; line-height: 1; border-radius: 0.35em; vertical-align: middle; margin-left: 0.5rem\">GPE</span>\\n</mark>\\n: Guangxi Chongzuo Border Connectivity Improvement Project\\', \\'Mongolia: Support for COVID-19 \\n<mark class=\"entity\" style=\"background: #aa9cfc; padding: 0.45em 0.6em; margin: 0 0.25em; line-height: 1; border-radius: 0.35em;\">\\n    Vaccine Delivery\\n    <span style=\"font-size: 0.8em; font-weight: bold; line-height: 1; border-radius: 0.35em; vertical-align: middle; margin-left: 0.5rem\">PERSON</span>\\n</mark>\\n in \\n<mark class=\"entity\" style=\"background: #feca74; padding: 0.45em 0.6em; margin: 0 0.25em; line-height: 1; border-radius: 0.35em;\">\\n    Mongolia\\n    <span style=\"font-size: 0.8em; font-weight: bold; line-height: 1; border-radius: 0.35em; vertical-align: middle; margin-left: 0.5rem\">GPE</span>\\n</mark>\\n under \\n<mark class=\"entity\" style=\"background: #7aecec; padding: 0.45em 0.6em; margin: 0 0.25em; line-height: 1; border-radius: 0.35em;\">\\n    the Asia Pacific Vaccine Access Facility\\'\\n    <span style=\"font-size: 0.8em; font-weight: bold; line-height: 1; border-radius: 0.35em; vertical-align: middle; margin-left: 0.5rem\">ORG</span>\\n</mark>\\n, \\'\\n<mark class=\"entity\" style=\"background: #f0d0ff; padding: 0.45em 0.6em; margin: 0 0.25em; line-height: 1; border-radius: 0.35em;\">\\n    Uzbekistan: Sirdarya 1,500MW\\n    <span style=\"font-size: 0.8em; font-weight: bold; line-height: 1; border-radius: 0.35em; vertical-align: middle; margin-left: 0.5rem\">WORK_OF_ART</span>\\n</mark>\\n \\n<mark class=\"entity\" style=\"background: #7aecec; padding: 0.45em 0.6em; margin: 0 0.25em; line-height: 1; border-radius: 0.35em;\">\\n    CCGT Power Project\\'\\n    <span style=\"font-size: 0.8em; font-weight: bold; line-height: 1; border-radius: 0.35em; vertical-align: middle; margin-left: 0.5rem\">ORG</span>\\n</mark>\\n, \\'\\n<mark class=\"entity\" style=\"background: #f0d0ff; padding: 0.45em 0.6em; margin: 0 0.25em; line-height: 1; border-radius: 0.35em;\">\\n    Uzbekistan: Medium\\n    <span style=\"font-size: 0.8em; font-weight: bold; line-height: 1; border-radius: 0.35em; vertical-align: middle; margin-left: 0.5rem\">WORK_OF_ART</span>\\n</mark>\\n-size \\n<mark class=\"entity\" style=\"background: #7aecec; padding: 0.45em 0.6em; margin: 0 0.25em; line-height: 1; border-radius: 0.35em;\">\\n    Cities Integrated Urban Development Project\\'\\n    <span style=\"font-size: 0.8em; font-weight: bold; line-height: 1; border-radius: 0.35em; vertical-align: middle; margin-left: 0.5rem\">ORG</span>\\n</mark>\\n, \\'\\n<mark class=\"entity\" style=\"background: #f0d0ff; padding: 0.45em 0.6em; margin: 0 0.25em; line-height: 1; border-radius: 0.35em;\">\\n    Multicountry: Global Infrastructure Partners Emerging Markets Fund\\n    <span style=\"font-size: 0.8em; font-weight: bold; line-height: 1; border-radius: 0.35em; vertical-align: middle; margin-left: 0.5rem\">WORK_OF_ART</span>\\n</mark>\\n I (“\\n<mark class=\"entity\" style=\"background: #f0d0ff; padding: 0.45em 0.6em; margin: 0 0.25em; line-height: 1; border-radius: 0.35em;\">\\n    GIP EM\\n    <span style=\"font-size: 0.8em; font-weight: bold; line-height: 1; border-radius: 0.35em; vertical-align: middle; margin-left: 0.5rem\">WORK_OF_ART</span>\\n</mark>\\n” or \\n<mark class=\"entity\" style=\"background: #7aecec; padding: 0.45em 0.6em; margin: 0 0.25em; line-height: 1; border-radius: 0.35em;\">\\n    the “Fund\\n    <span style=\"font-size: 0.8em; font-weight: bold; line-height: 1; border-radius: 0.35em; vertical-align: middle; margin-left: 0.5rem\">ORG</span>\\n</mark>\\n”)\\', \\'\\n<mark class=\"entity\" style=\"background: #feca74; padding: 0.45em 0.6em; margin: 0 0.25em; line-height: 1; border-radius: 0.35em;\">\\n    Singapore\\n    <span style=\"font-size: 0.8em; font-weight: bold; line-height: 1; border-radius: 0.35em; vertical-align: middle; margin-left: 0.5rem\">GPE</span>\\n</mark>\\n: \\n<mark class=\"entity\" style=\"background: #7aecec; padding: 0.45em 0.6em; margin: 0 0.25em; line-height: 1; border-radius: 0.35em;\">\\n    Asia Infrastructure Securitization Program\\'\\n    <span style=\"font-size: 0.8em; font-weight: bold; line-height: 1; border-radius: 0.35em; vertical-align: middle; margin-left: 0.5rem\">ORG</span>\\n</mark>\\n, \\'\\n<mark class=\"entity\" style=\"background: #feca74; padding: 0.45em 0.6em; margin: 0 0.25em; line-height: 1; border-radius: 0.35em;\">\\n    India\\n    <span style=\"font-size: 0.8em; font-weight: bold; line-height: 1; border-radius: 0.35em; vertical-align: middle; margin-left: 0.5rem\">GPE</span>\\n</mark>\\n: \\n<mark class=\"entity\" style=\"background: #7aecec; padding: 0.45em 0.6em; margin: 0 0.25em; line-height: 1; border-radius: 0.35em;\">\\n    India City Gas Distribution\\n    <span style=\"font-size: 0.8em; font-weight: bold; line-height: 1; border-radius: 0.35em; vertical-align: middle; margin-left: 0.5rem\">ORG</span>\\n</mark>\\n (CGD) Financing AGPCGPL\\', \\'Türkiye: Eximbank COVID-19 \\n<mark class=\"entity\" style=\"background: #7aecec; padding: 0.45em 0.6em; margin: 0 0.25em; line-height: 1; border-radius: 0.35em;\">\\n    Credit Line Project\\'\\n    <span style=\"font-size: 0.8em; font-weight: bold; line-height: 1; border-radius: 0.35em; vertical-align: middle; margin-left: 0.5rem\">ORG</span>\\n</mark>\\n, \\'\\n<mark class=\"entity\" style=\"background: #feca74; padding: 0.45em 0.6em; margin: 0 0.25em; line-height: 1; border-radius: 0.35em;\">\\n    Georgia\\n    <span style=\"font-size: 0.8em; font-weight: bold; line-height: 1; border-radius: 0.35em; vertical-align: middle; margin-left: 0.5rem\">GPE</span>\\n</mark>\\n: \\n<mark class=\"entity\" style=\"background: #7aecec; padding: 0.45em 0.6em; margin: 0 0.25em; line-height: 1; border-radius: 0.35em;\">\\n    TBC Bank\\n    <span style=\"font-size: 0.8em; font-weight: bold; line-height: 1; border-radius: 0.35em; vertical-align: middle; margin-left: 0.5rem\">ORG</span>\\n</mark>\\n COVID-19 \\n<mark class=\"entity\" style=\"background: #7aecec; padding: 0.45em 0.6em; margin: 0 0.25em; line-height: 1; border-radius: 0.35em;\">\\n    Credit Line Project\\'\\n    <span style=\"font-size: 0.8em; font-weight: bold; line-height: 1; border-radius: 0.35em; vertical-align: middle; margin-left: 0.5rem\">ORG</span>\\n</mark>\\n, \\'India: Punjab Municipal Services Improvement Project\\', \\'\\n<mark class=\"entity\" style=\"background: #feca74; padding: 0.45em 0.6em; margin: 0 0.25em; line-height: 1; border-radius: 0.35em;\">\\n    India\\n    <span style=\"font-size: 0.8em; font-weight: bold; line-height: 1; border-radius: 0.35em; vertical-align: middle; margin-left: 0.5rem\">GPE</span>\\n</mark>\\n: \\n<mark class=\"entity\" style=\"background: #7aecec; padding: 0.45em 0.6em; margin: 0 0.25em; line-height: 1; border-radius: 0.35em;\">\\n    Kerala Solid Waste Management Project\\'\\n    <span style=\"font-size: 0.8em; font-weight: bold; line-height: 1; border-radius: 0.35em; vertical-align: middle; margin-left: 0.5rem\">ORG</span>\\n</mark>\\n, \\'\\n<mark class=\"entity\" style=\"background: #f0d0ff; padding: 0.45em 0.6em; margin: 0 0.25em; line-height: 1; border-radius: 0.35em;\">\\n    Multicountry\\n    <span style=\"font-size: 0.8em; font-weight: bold; line-height: 1; border-radius: 0.35em; vertical-align: middle; margin-left: 0.5rem\">WORK_OF_ART</span>\\n</mark>\\n: Aberdeen Standard Investcorp Infrastructure Partners\\', \\'\\n<mark class=\"entity\" style=\"background: #feca74; padding: 0.45em 0.6em; margin: 0 0.25em; line-height: 1; border-radius: 0.35em;\">\\n    Philippines\\n    <span style=\"font-size: 0.8em; font-weight: bold; line-height: 1; border-radius: 0.35em; vertical-align: middle; margin-left: 0.5rem\">GPE</span>\\n</mark>\\n: \\n<mark class=\"entity\" style=\"background: #7aecec; padding: 0.45em 0.6em; margin: 0 0.25em; line-height: 1; border-radius: 0.35em;\">\\n    Second Health System Enhancement\\n    <span style=\"font-size: 0.8em; font-weight: bold; line-height: 1; border-radius: 0.35em; vertical-align: middle; margin-left: 0.5rem\">ORG</span>\\n</mark>\\n to Address and Limit COVID-19 under \\n<mark class=\"entity\" style=\"background: #7aecec; padding: 0.45em 0.6em; margin: 0 0.25em; line-height: 1; border-radius: 0.35em;\">\\n    Asia Pacific Vaccine Access Facility Project\\n    <span style=\"font-size: 0.8em; font-weight: bold; line-height: 1; border-radius: 0.35em; vertical-align: middle; margin-left: 0.5rem\">ORG</span>\\n</mark>\\n (HEAL \\n<mark class=\"entity\" style=\"background: #e4e7d2; padding: 0.45em 0.6em; margin: 0 0.25em; line-height: 1; border-radius: 0.35em;\">\\n    2\\n    <span style=\"font-size: 0.8em; font-weight: bold; line-height: 1; border-radius: 0.35em; vertical-align: middle; margin-left: 0.5rem\">CARDINAL</span>\\n</mark>\\n)\\', \\'\\n<mark class=\"entity\" style=\"background: #feca74; padding: 0.45em 0.6em; margin: 0 0.25em; line-height: 1; border-radius: 0.35em;\">\\n    Sri Lanka\\n    <span style=\"font-size: 0.8em; font-weight: bold; line-height: 1; border-radius: 0.35em; vertical-align: middle; margin-left: 0.5rem\">GPE</span>\\n</mark>\\n: COVID-19 Emergency and Crisis Response Facility\\', \\'Maldives: \\n<mark class=\"entity\" style=\"background: #7aecec; padding: 0.45em 0.6em; margin: 0 0.25em; line-height: 1; border-radius: 0.35em;\">\\n    Solar Power Development and Energy Storage Solution\\'\\n    <span style=\"font-size: 0.8em; font-weight: bold; line-height: 1; border-radius: 0.35em; vertical-align: middle; margin-left: 0.5rem\">ORG</span>\\n</mark>\\n, \\'Bangladesh: Mymensingh \\n<mark class=\"entity\" style=\"background: #7aecec; padding: 0.45em 0.6em; margin: 0 0.25em; line-height: 1; border-radius: 0.35em;\">\\n    Kewatkhali Bridge Project\\'\\n    <span style=\"font-size: 0.8em; font-weight: bold; line-height: 1; border-radius: 0.35em; vertical-align: middle; margin-left: 0.5rem\">ORG</span>\\n</mark>\\n, \\'Bangladesh: COVID-19 Emergency and Crisis Response Facility\\', \\'\\n<mark class=\"entity\" style=\"background: #feca74; padding: 0.45em 0.6em; margin: 0 0.25em; line-height: 1; border-radius: 0.35em;\">\\n    India\\n    <span style=\"font-size: 0.8em; font-weight: bold; line-height: 1; border-radius: 0.35em; vertical-align: middle; margin-left: 0.5rem\">GPE</span>\\n</mark>\\n: \\n<mark class=\"entity\" style=\"background: #aa9cfc; padding: 0.45em 0.6em; margin: 0 0.25em; line-height: 1; border-radius: 0.35em;\">\\n    Assam Intra-State Transmission System Enhancement Project\\'\\n    <span style=\"font-size: 0.8em; font-weight: bold; line-height: 1; border-radius: 0.35em; vertical-align: middle; margin-left: 0.5rem\">PERSON</span>\\n</mark>\\n, \\'\\n<mark class=\"entity\" style=\"background: #feca74; padding: 0.45em 0.6em; margin: 0 0.25em; line-height: 1; border-radius: 0.35em;\">\\n    Indonesia\\n    <span style=\"font-size: 0.8em; font-weight: bold; line-height: 1; border-radius: 0.35em; vertical-align: middle; margin-left: 0.5rem\">GPE</span>\\n</mark>\\n: \\n<mark class=\"entity\" style=\"background: #7aecec; padding: 0.45em 0.6em; margin: 0 0.25em; line-height: 1; border-radius: 0.35em;\">\\n    PLN East Java &amp; Bali Power Distribution Strengthening Project\\'\\n    <span style=\"font-size: 0.8em; font-weight: bold; line-height: 1; border-radius: 0.35em; vertical-align: middle; margin-left: 0.5rem\">ORG</span>\\n</mark>\\n, \\'\\n<mark class=\"entity\" style=\"background: #f0d0ff; padding: 0.45em 0.6em; margin: 0 0.25em; line-height: 1; border-radius: 0.35em;\">\\n    Multi-Country\\n    <span style=\"font-size: 0.8em; font-weight: bold; line-height: 1; border-radius: 0.35em; vertical-align: middle; margin-left: 0.5rem\">WORK_OF_ART</span>\\n</mark>\\n: ISQ Growth Markets Infrastructure Fund\\', \\'\\n<mark class=\"entity\" style=\"background: #feca74; padding: 0.45em 0.6em; margin: 0 0.25em; line-height: 1; border-radius: 0.35em;\">\\n    Sri Lanka\\n    <span style=\"font-size: 0.8em; font-weight: bold; line-height: 1; border-radius: 0.35em; vertical-align: middle; margin-left: 0.5rem\">GPE</span>\\n</mark>\\n: Kerawalapitiya – \\n<mark class=\"entity\" style=\"background: #7aecec; padding: 0.45em 0.6em; margin: 0 0.25em; line-height: 1; border-radius: 0.35em;\">\\n    Port 2nd Transmission Line Project\\'\\n    <span style=\"font-size: 0.8em; font-weight: bold; line-height: 1; border-radius: 0.35em; vertical-align: middle; margin-left: 0.5rem\">ORG</span>\\n</mark>\\n, \\'\\n<mark class=\"entity\" style=\"background: #feca74; padding: 0.45em 0.6em; margin: 0 0.25em; line-height: 1; border-radius: 0.35em;\">\\n    Pakistan\\n    <span style=\"font-size: 0.8em; font-weight: bold; line-height: 1; border-radius: 0.35em; vertical-align: middle; margin-left: 0.5rem\">GPE</span>\\n</mark>\\n: \\n<mark class=\"entity\" style=\"background: #aa9cfc; padding: 0.45em 0.6em; margin: 0 0.25em; line-height: 1; border-radius: 0.35em;\">\\n    Karachi Water\\n    <span style=\"font-size: 0.8em; font-weight: bold; line-height: 1; border-radius: 0.35em; vertical-align: middle; margin-left: 0.5rem\">PERSON</span>\\n</mark>\\n and Sewerage Services Improvement Project-2 (KWSSIP-2)\\', \\'\\n<mark class=\"entity\" style=\"background: #aa9cfc; padding: 0.45em 0.6em; margin: 0 0.25em; line-height: 1; border-radius: 0.35em;\">\\n    Cook Islands\\n    <span style=\"font-size: 0.8em; font-weight: bold; line-height: 1; border-radius: 0.35em; vertical-align: middle; margin-left: 0.5rem\">PERSON</span>\\n</mark>\\n: \\n<mark class=\"entity\" style=\"background: #7aecec; padding: 0.45em 0.6em; margin: 0 0.25em; line-height: 1; border-radius: 0.35em;\">\\n    COVID-19 Active Response and Economic Support Program\\'\\n    <span style=\"font-size: 0.8em; font-weight: bold; line-height: 1; border-radius: 0.35em; vertical-align: middle; margin-left: 0.5rem\">ORG</span>\\n</mark>\\n, \\'Cambodia: National Restoration of Rural Productive Capacity Project\\', \\'\\n<mark class=\"entity\" style=\"background: #feca74; padding: 0.45em 0.6em; margin: 0 0.25em; line-height: 1; border-radius: 0.35em;\">\\n    India\\n    <span style=\"font-size: 0.8em; font-weight: bold; line-height: 1; border-radius: 0.35em; vertical-align: middle; margin-left: 0.5rem\">GPE</span>\\n</mark>\\n: \\n<mark class=\"entity\" style=\"background: #7aecec; padding: 0.45em 0.6em; margin: 0 0.25em; line-height: 1; border-radius: 0.35em;\">\\n    Ayana Anantapuramu NTPC Solar Project\\'\\n    <span style=\"font-size: 0.8em; font-weight: bold; line-height: 1; border-radius: 0.35em; vertical-align: middle; margin-left: 0.5rem\">ORG</span>\\n</mark>\\n, \\'Ecuador: CONAFIPS COVID-19 \\n<mark class=\"entity\" style=\"background: #7aecec; padding: 0.45em 0.6em; margin: 0 0.25em; line-height: 1; border-radius: 0.35em;\">\\n    Credit Line Project\\n    <span style=\"font-size: 0.8em; font-weight: bold; line-height: 1; border-radius: 0.35em; vertical-align: middle; margin-left: 0.5rem\">ORG</span>\\n</mark>\\n (Previously: Corporación Financiera Nacional COVID-19 Credit Line Project)\\', \\'\\n<mark class=\"entity\" style=\"background: #f0d0ff; padding: 0.45em 0.6em; margin: 0 0.25em; line-height: 1; border-radius: 0.35em;\">\\n    Multicountry\\n    <span style=\"font-size: 0.8em; font-weight: bold; line-height: 1; border-radius: 0.35em; vertical-align: middle; margin-left: 0.5rem\">WORK_OF_ART</span>\\n</mark>\\n: \\n<mark class=\"entity\" style=\"background: #7aecec; padding: 0.45em 0.6em; margin: 0 0.25em; line-height: 1; border-radius: 0.35em;\">\\n    ADM Capital\\n    <span style=\"font-size: 0.8em; font-weight: bold; line-height: 1; border-radius: 0.35em; vertical-align: middle; margin-left: 0.5rem\">ORG</span>\\n</mark>\\n [Elkhorn] Emerging Asia Renewable Energy Fund\\', \\'Türkiye: Akbank COVID-19 Crisis Recovery Facility\\', \\'\\n<mark class=\"entity\" style=\"background: #7aecec; padding: 0.45em 0.6em; margin: 0 0.25em; line-height: 1; border-radius: 0.35em;\">\\n    Uzbekistan: National Bank for Foreign Economic Activity of\\n    <span style=\"font-size: 0.8em; font-weight: bold; line-height: 1; border-radius: 0.35em; vertical-align: middle; margin-left: 0.5rem\">ORG</span>\\n</mark>\\n \\n<mark class=\"entity\" style=\"background: #feca74; padding: 0.45em 0.6em; margin: 0 0.25em; line-height: 1; border-radius: 0.35em;\">\\n    the Republic of Uzbekistan\\n    <span style=\"font-size: 0.8em; font-weight: bold; line-height: 1; border-radius: 0.35em; vertical-align: middle; margin-left: 0.5rem\">GPE</span>\\n</mark>\\n COVID-19 Credit Line Project\\', \\'\\n<mark class=\"entity\" style=\"background: #feca74; padding: 0.45em 0.6em; margin: 0 0.25em; line-height: 1; border-radius: 0.35em;\">\\n    India\\n    <span style=\"font-size: 0.8em; font-weight: bold; line-height: 1; border-radius: 0.35em; vertical-align: middle; margin-left: 0.5rem\">GPE</span>\\n</mark>\\n: \\n<mark class=\"entity\" style=\"background: #7aecec; padding: 0.45em 0.6em; margin: 0 0.25em; line-height: 1; border-radius: 0.35em;\">\\n    Delhi-Meerut Regional Rapid Transit System\\'\\n    <span style=\"font-size: 0.8em; font-weight: bold; line-height: 1; border-radius: 0.35em; vertical-align: middle; margin-left: 0.5rem\">ORG</span>\\n</mark>\\n, \\'Bangladesh: Rural Water, Sanitation and Hygiene for Human Capital Development Project\\', \\'Russian Federation: \\n<mark class=\"entity\" style=\"background: #c887fb; padding: 0.45em 0.6em; margin: 0 0.25em; line-height: 1; border-radius: 0.35em;\">\\n    Russian\\n    <span style=\"font-size: 0.8em; font-weight: bold; line-height: 1; border-radius: 0.35em; vertical-align: middle; margin-left: 0.5rem\">NORP</span>\\n</mark>\\n Railways COVID-19 Emergency Response Project\\', \\'\\n<mark class=\"entity\" style=\"background: #f0d0ff; padding: 0.45em 0.6em; margin: 0 0.25em; line-height: 1; border-radius: 0.35em;\">\\n    Multicountry\\n    <span style=\"font-size: 0.8em; font-weight: bold; line-height: 1; border-radius: 0.35em; vertical-align: middle; margin-left: 0.5rem\">WORK_OF_ART</span>\\n</mark>\\n: Lightsmith Climate Resilience Partners\\', \\'\\n<mark class=\"entity\" style=\"background: #feca74; padding: 0.45em 0.6em; margin: 0 0.25em; line-height: 1; border-radius: 0.35em;\">\\n    China\\n    <span style=\"font-size: 0.8em; font-weight: bold; line-height: 1; border-radius: 0.35em; vertical-align: middle; margin-left: 0.5rem\">GPE</span>\\n</mark>\\n: \\n<mark class=\"entity\" style=\"background: #7aecec; padding: 0.45em 0.6em; margin: 0 0.25em; line-height: 1; border-radius: 0.35em;\">\\n    Legend Capital Healthcare Technology Fund\\'\\n    <span style=\"font-size: 0.8em; font-weight: bold; line-height: 1; border-radius: 0.35em; vertical-align: middle; margin-left: 0.5rem\">ORG</span>\\n</mark>\\n, \\'\\n<mark class=\"entity\" style=\"background: #f0d0ff; padding: 0.45em 0.6em; margin: 0 0.25em; line-height: 1; border-radius: 0.35em;\">\\n    Lao PDR\\n    <span style=\"font-size: 0.8em; font-weight: bold; line-height: 1; border-radius: 0.35em; vertical-align: middle; margin-left: 0.5rem\">WORK_OF_ART</span>\\n</mark>\\n: \\n<mark class=\"entity\" style=\"background: #7aecec; padding: 0.45em 0.6em; margin: 0 0.25em; line-height: 1; border-radius: 0.35em;\">\\n    Climate Resilience Improvement of\\n    <span style=\"font-size: 0.8em; font-weight: bold; line-height: 1; border-radius: 0.35em; vertical-align: middle; margin-left: 0.5rem\">ORG</span>\\n</mark>\\n National Road 13 South Project (Section 3)\\', \\'\\n<mark class=\"entity\" style=\"background: #aa9cfc; padding: 0.45em 0.6em; margin: 0 0.25em; line-height: 1; border-radius: 0.35em;\">\\n    Indonesia\\n    <span style=\"font-size: 0.8em; font-weight: bold; line-height: 1; border-radius: 0.35em; vertical-align: middle; margin-left: 0.5rem\">PERSON</span>\\n</mark>\\n: Multifunctional Satellite PPP Project\\', \\'India: HDFC Line of Credit for Affordable Housing\\', \\'Maldives: Greater Malé Waste-to-Energy Project\\', \\'Bangladesh: COVID-19 Emergency Response and Pandemic Preparedness Project\\', \\'Türkiye: COVID-19 Medical Emergency Response (\\n<mark class=\"entity\" style=\"background: #7aecec; padding: 0.45em 0.6em; margin: 0 0.25em; line-height: 1; border-radius: 0.35em;\">\\n    MER\\n    <span style=\"font-size: 0.8em; font-weight: bold; line-height: 1; border-radius: 0.35em; vertical-align: middle; margin-left: 0.5rem\">ORG</span>\\n</mark>\\n) \\n<mark class=\"entity\" style=\"background: #7aecec; padding: 0.45em 0.6em; margin: 0 0.25em; line-height: 1; border-radius: 0.35em;\">\\n    Project\\'\\n    <span style=\"font-size: 0.8em; font-weight: bold; line-height: 1; border-radius: 0.35em; vertical-align: middle; margin-left: 0.5rem\">ORG</span>\\n</mark>\\n, \\'\\n<mark class=\"entity\" style=\"background: #f0d0ff; padding: 0.45em 0.6em; margin: 0 0.25em; line-height: 1; border-radius: 0.35em;\">\\n    Uzbekistan: Healthcare Emergency Response Project\\'\\n    <span style=\"font-size: 0.8em; font-weight: bold; line-height: 1; border-radius: 0.35em; vertical-align: middle; margin-left: 0.5rem\">WORK_OF_ART</span>\\n</mark>\\n, \\n<mark class=\"entity\" style=\"background: #feca74; padding: 0.45em 0.6em; margin: 0 0.25em; line-height: 1; border-radius: 0.35em;\">\\n    \\'Kyrgyz Republic:\\n    <span style=\"font-size: 0.8em; font-weight: bold; line-height: 1; border-radius: 0.35em; vertical-align: middle; margin-left: 0.5rem\">GPE</span>\\n</mark>\\n Kyrgyz Emergency Support for Private and \\n<mark class=\"entity\" style=\"background: #7aecec; padding: 0.45em 0.6em; margin: 0 0.25em; line-height: 1; border-radius: 0.35em;\">\\n    Financial Sector Project\\'\\n    <span style=\"font-size: 0.8em; font-weight: bold; line-height: 1; border-radius: 0.35em; vertical-align: middle; margin-left: 0.5rem\">ORG</span>\\n</mark>\\n, \\'Fiji: Sustained Private Sector-Led Growth Reform Program\\', \\'Viet Nam: VP Bank COVID-19 \\n<mark class=\"entity\" style=\"background: #7aecec; padding: 0.45em 0.6em; margin: 0 0.25em; line-height: 1; border-radius: 0.35em;\">\\n    Response Facility\\'\\n    <span style=\"font-size: 0.8em; font-weight: bold; line-height: 1; border-radius: 0.35em; vertical-align: middle; margin-left: 0.5rem\">ORG</span>\\n</mark>\\n, \\'\\n<mark class=\"entity\" style=\"background: #7aecec; padding: 0.45em 0.6em; margin: 0 0.25em; line-height: 1; border-radius: 0.35em;\">\\n    Georgia: Economic Management and Competitiveness Program:\\n    <span style=\"font-size: 0.8em; font-weight: bold; line-height: 1; border-radius: 0.35em; vertical-align: middle; margin-left: 0.5rem\">ORG</span>\\n</mark>\\n COVID-19 Crisis Mitigation\\', \\'Türkiye: \\n<mark class=\"entity\" style=\"background: #aa9cfc; padding: 0.45em 0.6em; margin: 0 0.25em; line-height: 1; border-radius: 0.35em;\">\\n    Izmir Metro\\n    <span style=\"font-size: 0.8em; font-weight: bold; line-height: 1; border-radius: 0.35em; vertical-align: middle; margin-left: 0.5rem\">PERSON</span>\\n</mark>\\n Expansion Phase \\n<mark class=\"entity\" style=\"background: #e4e7d2; padding: 0.45em 0.6em; margin: 0 0.25em; line-height: 1; border-radius: 0.35em;\">\\n    4\\n    <span style=\"font-size: 0.8em; font-weight: bold; line-height: 1; border-radius: 0.35em; vertical-align: middle; margin-left: 0.5rem\">CARDINAL</span>\\n</mark>\\n: Fahrettin Altay – Narlidere Line Project\\', \\'\\n<mark class=\"entity\" style=\"background: #f0d0ff; padding: 0.45em 0.6em; margin: 0 0.25em; line-height: 1; border-radius: 0.35em;\">\\n    Pakistan: Resilient Institutions for Sustainable Economy\\n    <span style=\"font-size: 0.8em; font-weight: bold; line-height: 1; border-radius: 0.35em; vertical-align: middle; margin-left: 0.5rem\">WORK_OF_ART</span>\\n</mark>\\n (RISE) Program\\', \\'Türkiye: COVID-19 \\n<mark class=\"entity\" style=\"background: #7aecec; padding: 0.45em 0.6em; margin: 0 0.25em; line-height: 1; border-radius: 0.35em;\">\\n    Credit Line Project\\'\\n    <span style=\"font-size: 0.8em; font-weight: bold; line-height: 1; border-radius: 0.35em; vertical-align: middle; margin-left: 0.5rem\">ORG</span>\\n</mark>\\n, \\'Kazakhstan: \\n<mark class=\"entity\" style=\"background: #7aecec; padding: 0.45em 0.6em; margin: 0 0.25em; line-height: 1; border-radius: 0.35em;\">\\n    COVID-19 Active Response and Expenditure Support\\n    <span style=\"font-size: 0.8em; font-weight: bold; line-height: 1; border-radius: 0.35em; vertical-align: middle; margin-left: 0.5rem\">ORG</span>\\n</mark>\\n (\\n<mark class=\"entity\" style=\"background: #7aecec; padding: 0.45em 0.6em; margin: 0 0.25em; line-height: 1; border-radius: 0.35em;\">\\n    CARES\\n    <span style=\"font-size: 0.8em; font-weight: bold; line-height: 1; border-radius: 0.35em; vertical-align: middle; margin-left: 0.5rem\">ORG</span>\\n</mark>\\n) Program\\', \\'Maldives: COVID-19 Emergency Response and \\n<mark class=\"entity\" style=\"background: #7aecec; padding: 0.45em 0.6em; margin: 0 0.25em; line-height: 1; border-radius: 0.35em;\">\\n    Health Systems\\n    <span style=\"font-size: 0.8em; font-weight: bold; line-height: 1; border-radius: 0.35em; vertical-align: middle; margin-left: 0.5rem\">ORG</span>\\n</mark>\\n Preparedness Project\\', \\'\\n<mark class=\"entity\" style=\"background: #f0d0ff; padding: 0.45em 0.6em; margin: 0 0.25em; line-height: 1; border-radius: 0.35em;\">\\n    Indonesia: Emergency Response\\n    <span style=\"font-size: 0.8em; font-weight: bold; line-height: 1; border-radius: 0.35em; vertical-align: middle; margin-left: 0.5rem\">WORK_OF_ART</span>\\n</mark>\\n to \\n<mark class=\"entity\" style=\"background: #7aecec; padding: 0.45em 0.6em; margin: 0 0.25em; line-height: 1; border-radius: 0.35em;\">\\n    COVID-19 Program\\'\\n    <span style=\"font-size: 0.8em; font-weight: bold; line-height: 1; border-radius: 0.35em; vertical-align: middle; margin-left: 0.5rem\">ORG</span>\\n</mark>\\n, \\'\\n<mark class=\"entity\" style=\"background: #f0d0ff; padding: 0.45em 0.6em; margin: 0 0.25em; line-height: 1; border-radius: 0.35em;\">\\n    Uzbekistan: Bukhara Road Network Improvement Project (Phase 1\\n    <span style=\"font-size: 0.8em; font-weight: bold; line-height: 1; border-radius: 0.35em; vertical-align: middle; margin-left: 0.5rem\">WORK_OF_ART</span>\\n</mark>\\n)\\', \\'Pakistan: COVID-19 Active Response and Expenditure Support (\\n<mark class=\"entity\" style=\"background: #7aecec; padding: 0.45em 0.6em; margin: 0 0.25em; line-height: 1; border-radius: 0.35em;\">\\n    CARES\\n    <span style=\"font-size: 0.8em; font-weight: bold; line-height: 1; border-radius: 0.35em; vertical-align: middle; margin-left: 0.5rem\">ORG</span>\\n</mark>\\n) Program\\', \\'\\n<mark class=\"entity\" style=\"background: #feca74; padding: 0.45em 0.6em; margin: 0 0.25em; line-height: 1; border-radius: 0.35em;\">\\n    India\\n    <span style=\"font-size: 0.8em; font-weight: bold; line-height: 1; border-radius: 0.35em; vertical-align: middle; margin-left: 0.5rem\">GPE</span>\\n</mark>\\n: \\n<mark class=\"entity\" style=\"background: #7aecec; padding: 0.45em 0.6em; margin: 0 0.25em; line-height: 1; border-radius: 0.35em;\">\\n    COVID-19 Active Response and Expenditure Support\\n    <span style=\"font-size: 0.8em; font-weight: bold; line-height: 1; border-radius: 0.35em; vertical-align: middle; margin-left: 0.5rem\">ORG</span>\\n</mark>\\n (\\n<mark class=\"entity\" style=\"background: #7aecec; padding: 0.45em 0.6em; margin: 0 0.25em; line-height: 1; border-radius: 0.35em;\">\\n    CARES\\n    <span style=\"font-size: 0.8em; font-weight: bold; line-height: 1; border-radius: 0.35em; vertical-align: middle; margin-left: 0.5rem\">ORG</span>\\n</mark>\\n)\\', \\'Mongolia: COVID-19 Rapid Response Program\\', \\'Philippines: \\n<mark class=\"entity\" style=\"background: #7aecec; padding: 0.45em 0.6em; margin: 0 0.25em; line-height: 1; border-radius: 0.35em;\">\\n    COVID-19 Active Response and Expenditure Support\\n    <span style=\"font-size: 0.8em; font-weight: bold; line-height: 1; border-radius: 0.35em; vertical-align: middle; margin-left: 0.5rem\">ORG</span>\\n</mark>\\n (\\n<mark class=\"entity\" style=\"background: #7aecec; padding: 0.45em 0.6em; margin: 0 0.25em; line-height: 1; border-radius: 0.35em;\">\\n    CARES\\n    <span style=\"font-size: 0.8em; font-weight: bold; line-height: 1; border-radius: 0.35em; vertical-align: middle; margin-left: 0.5rem\">ORG</span>\\n</mark>\\n) Program\\', \\'\\n<mark class=\"entity\" style=\"background: #feca74; padding: 0.45em 0.6em; margin: 0 0.25em; line-height: 1; border-radius: 0.35em;\">\\n    Georgia\\n    <span style=\"font-size: 0.8em; font-weight: bold; line-height: 1; border-radius: 0.35em; vertical-align: middle; margin-left: 0.5rem\">GPE</span>\\n</mark>\\n: Emergency COVID-19 \\n<mark class=\"entity\" style=\"background: #7aecec; padding: 0.45em 0.6em; margin: 0 0.25em; line-height: 1; border-radius: 0.35em;\">\\n    Response Project\\'\\n    <span style=\"font-size: 0.8em; font-weight: bold; line-height: 1; border-radius: 0.35em; vertical-align: middle; margin-left: 0.5rem\">ORG</span>\\n</mark>\\n, \\'Bangladesh: COVID-19 Active Response and Expenditure Support (\\n<mark class=\"entity\" style=\"background: #7aecec; padding: 0.45em 0.6em; margin: 0 0.25em; line-height: 1; border-radius: 0.35em;\">\\n    CARES\\n    <span style=\"font-size: 0.8em; font-weight: bold; line-height: 1; border-radius: 0.35em; vertical-align: middle; margin-left: 0.5rem\">ORG</span>\\n</mark>\\n) Program\\', \\'Indonesia: \\n<mark class=\"entity\" style=\"background: #7aecec; padding: 0.45em 0.6em; margin: 0 0.25em; line-height: 1; border-radius: 0.35em;\">\\n    COVID-19 Active Response and Expenditure Support Program\\'\\n    <span style=\"font-size: 0.8em; font-weight: bold; line-height: 1; border-radius: 0.35em; vertical-align: middle; margin-left: 0.5rem\">ORG</span>\\n</mark>\\n, \\'\\n<mark class=\"entity\" style=\"background: #feca74; padding: 0.45em 0.6em; margin: 0 0.25em; line-height: 1; border-radius: 0.35em;\">\\n    India\\n    <span style=\"font-size: 0.8em; font-weight: bold; line-height: 1; border-radius: 0.35em; vertical-align: middle; margin-left: 0.5rem\">GPE</span>\\n</mark>\\n: COVID-19 Emergency Response and \\n<mark class=\"entity\" style=\"background: #7aecec; padding: 0.45em 0.6em; margin: 0 0.25em; line-height: 1; border-radius: 0.35em;\">\\n    Health Systems\\n    <span style=\"font-size: 0.8em; font-weight: bold; line-height: 1; border-radius: 0.35em; vertical-align: middle; margin-left: 0.5rem\">ORG</span>\\n</mark>\\n Preparedness Project\\', \\'Bangladesh: Dhaka Sanitation Improvement\\', \\'\\n<mark class=\"entity\" style=\"background: #f0d0ff; padding: 0.45em 0.6em; margin: 0 0.25em; line-height: 1; border-radius: 0.35em;\">\\n    Multicountry: Keppel Asia Infrastructure Fund\\'\\n    <span style=\"font-size: 0.8em; font-weight: bold; line-height: 1; border-radius: 0.35em; vertical-align: middle; margin-left: 0.5rem\">WORK_OF_ART</span>\\n</mark>\\n, \\'\\n<mark class=\"entity\" style=\"background: #feca74; padding: 0.45em 0.6em; margin: 0 0.25em; line-height: 1; border-radius: 0.35em;\">\\n    China\\n    <span style=\"font-size: 0.8em; font-weight: bold; line-height: 1; border-radius: 0.35em; vertical-align: middle; margin-left: 0.5rem\">GPE</span>\\n</mark>\\n: Emergency Assistance to \\n<mark class=\"entity\" style=\"background: #7aecec; padding: 0.45em 0.6em; margin: 0 0.25em; line-height: 1; border-radius: 0.35em;\">\\n    China Public Health Infrastructure Project\\'\\n    <span style=\"font-size: 0.8em; font-weight: bold; line-height: 1; border-radius: 0.35em; vertical-align: middle; margin-left: 0.5rem\">ORG</span>\\n</mark>\\n, \\'\\n<mark class=\"entity\" style=\"background: #f0d0ff; padding: 0.45em 0.6em; margin: 0 0.25em; line-height: 1; border-radius: 0.35em;\">\\n    Uzbekistan: Bukhara Region Water Supply and Sewerage\\n    <span style=\"font-size: 0.8em; font-weight: bold; line-height: 1; border-radius: 0.35em; vertical-align: middle; margin-left: 0.5rem\">WORK_OF_ART</span>\\n</mark>\\n (\\n<mark class=\"entity\" style=\"background: #7aecec; padding: 0.45em 0.6em; margin: 0 0.25em; line-height: 1; border-radius: 0.35em;\">\\n    BRWSSP\\n    <span style=\"font-size: 0.8em; font-weight: bold; line-height: 1; border-radius: 0.35em; vertical-align: middle; margin-left: 0.5rem\">ORG</span>\\n</mark>\\n)\\', \\'Bangladesh: Sylhet to \\n<mark class=\"entity\" style=\"background: #7aecec; padding: 0.45em 0.6em; margin: 0 0.25em; line-height: 1; border-radius: 0.35em;\">\\n    Tamabil Road Upgrade Project\\'\\n    <span style=\"font-size: 0.8em; font-weight: bold; line-height: 1; border-radius: 0.35em; vertical-align: middle; margin-left: 0.5rem\">ORG</span>\\n</mark>\\n, \\'Oman: Ibri II 500MW Solar PV Independent Power Plant Project\\', \\'Bangladesh: \\n<mark class=\"entity\" style=\"background: #feca74; padding: 0.45em 0.6em; margin: 0 0.25em; line-height: 1; border-radius: 0.35em;\">\\n    Dhaka\\n    <span style=\"font-size: 0.8em; font-weight: bold; line-height: 1; border-radius: 0.35em; vertical-align: middle; margin-left: 0.5rem\">GPE</span>\\n</mark>\\n and \\n<mark class=\"entity\" style=\"background: #feca74; padding: 0.45em 0.6em; margin: 0 0.25em; line-height: 1; border-radius: 0.35em;\">\\n    West Zone Transmission Grid Expansion Project\\'\\n    <span style=\"font-size: 0.8em; font-weight: bold; line-height: 1; border-radius: 0.35em; vertical-align: middle; margin-left: 0.5rem\">GPE</span>\\n</mark>\\n, \\'\\n<mark class=\"entity\" style=\"background: #feca74; padding: 0.45em 0.6em; margin: 0 0.25em; line-height: 1; border-radius: 0.35em;\">\\n    Uzbekistan\\n    <span style=\"font-size: 0.8em; font-weight: bold; line-height: 1; border-radius: 0.35em; vertical-align: middle; margin-left: 0.5rem\">GPE</span>\\n</mark>\\n: \\n<mark class=\"entity\" style=\"background: #feca74; padding: 0.45em 0.6em; margin: 0 0.25em; line-height: 1; border-radius: 0.35em;\">\\n    Karakalpakstan\\n    <span style=\"font-size: 0.8em; font-weight: bold; line-height: 1; border-radius: 0.35em; vertical-align: middle; margin-left: 0.5rem\">GPE</span>\\n</mark>\\n and \\n<mark class=\"entity\" style=\"background: #7aecec; padding: 0.45em 0.6em; margin: 0 0.25em; line-height: 1; border-radius: 0.35em;\">\\n    Khorezm Water Supply\\n    <span style=\"font-size: 0.8em; font-weight: bold; line-height: 1; border-radius: 0.35em; vertical-align: middle; margin-left: 0.5rem\">ORG</span>\\n</mark>\\n and \\n<mark class=\"entity\" style=\"background: #7aecec; padding: 0.45em 0.6em; margin: 0 0.25em; line-height: 1; border-radius: 0.35em;\">\\n    Sanitation Project\\'\\n    <span style=\"font-size: 0.8em; font-weight: bold; line-height: 1; border-radius: 0.35em; vertical-align: middle; margin-left: 0.5rem\">ORG</span>\\n</mark>\\n, \\'\\n<mark class=\"entity\" style=\"background: #feca74; padding: 0.45em 0.6em; margin: 0 0.25em; line-height: 1; border-radius: 0.35em;\">\\n    India\\n    <span style=\"font-size: 0.8em; font-weight: bold; line-height: 1; border-radius: 0.35em; vertical-align: middle; margin-left: 0.5rem\">GPE</span>\\n</mark>\\n: \\n<mark class=\"entity\" style=\"background: #7aecec; padding: 0.45em 0.6em; margin: 0 0.25em; line-height: 1; border-radius: 0.35em;\">\\n    Maharashtra Multi-Modal Corridor Package III Project\\'\\n    <span style=\"font-size: 0.8em; font-weight: bold; line-height: 1; border-radius: 0.35em; vertical-align: middle; margin-left: 0.5rem\">ORG</span>\\n</mark>\\n, \\'Bangladesh: Hatikumrul-Bonpara-Jhenaidah Phase I Road Improvement Project\\', \\'\\n<mark class=\"entity\" style=\"background: #feca74; padding: 0.45em 0.6em; margin: 0 0.25em; line-height: 1; border-radius: 0.35em;\">\\n    India\\n    <span style=\"font-size: 0.8em; font-weight: bold; line-height: 1; border-radius: 0.35em; vertical-align: middle; margin-left: 0.5rem\">GPE</span>\\n</mark>\\n: Chennai Metro Rail Phase 2 Project – Balance Corridor 5\\', \\'\\n<mark class=\"entity\" style=\"background: #feca74; padding: 0.45em 0.6em; margin: 0 0.25em; line-height: 1; border-radius: 0.35em;\">\\n    India\\n    <span style=\"font-size: 0.8em; font-weight: bold; line-height: 1; border-radius: 0.35em; vertical-align: middle; margin-left: 0.5rem\">GPE</span>\\n</mark>\\n: \\n<mark class=\"entity\" style=\"background: #feca74; padding: 0.45em 0.6em; margin: 0 0.25em; line-height: 1; border-radius: 0.35em;\">\\n    Mumbai\\n    <span style=\"font-size: 0.8em; font-weight: bold; line-height: 1; border-radius: 0.35em; vertical-align: middle; margin-left: 0.5rem\">GPE</span>\\n</mark>\\n Metro Line \\n<mark class=\"entity\" style=\"background: #e4e7d2; padding: 0.45em 0.6em; margin: 0 0.25em; line-height: 1; border-radius: 0.35em;\">\\n    5\\n    <span style=\"font-size: 0.8em; font-weight: bold; line-height: 1; border-radius: 0.35em; vertical-align: middle; margin-left: 0.5rem\">CARDINAL</span>\\n</mark>\\n\\', \\'\\n<mark class=\"entity\" style=\"background: #feca74; padding: 0.45em 0.6em; margin: 0 0.25em; line-height: 1; border-radius: 0.35em;\">\\n    India\\n    <span style=\"font-size: 0.8em; font-weight: bold; line-height: 1; border-radius: 0.35em; vertical-align: middle; margin-left: 0.5rem\">GPE</span>\\n</mark>\\n: \\n<mark class=\"entity\" style=\"background: #7aecec; padding: 0.45em 0.6em; margin: 0 0.25em; line-height: 1; border-radius: 0.35em;\">\\n    Mumbai Urban Transport\\n    <span style=\"font-size: 0.8em; font-weight: bold; line-height: 1; border-radius: 0.35em; vertical-align: middle; margin-left: 0.5rem\">ORG</span>\\n</mark>\\n Project 3A-1\\', \\'\\n<mark class=\"entity\" style=\"background: #f0d0ff; padding: 0.45em 0.6em; margin: 0 0.25em; line-height: 1; border-radius: 0.35em;\">\\n    Bangladesh: Municipal Water Supply and Sanitation Project\\'\\n    <span style=\"font-size: 0.8em; font-weight: bold; line-height: 1; border-radius: 0.35em; vertical-align: middle; margin-left: 0.5rem\">WORK_OF_ART</span>\\n</mark>\\n, \\'Bangladesh: Power System Upgrade and Expansion\\', \\'Cambodia: \\n<mark class=\"entity\" style=\"background: #7aecec; padding: 0.45em 0.6em; margin: 0 0.25em; line-height: 1; border-radius: 0.35em;\">\\n    Fiber Optic Communication Network Project\\'\\n    <span style=\"font-size: 0.8em; font-weight: bold; line-height: 1; border-radius: 0.35em; vertical-align: middle; margin-left: 0.5rem\">ORG</span>\\n</mark>\\n, \\'\\n<mark class=\"entity\" style=\"background: #feca74; padding: 0.45em 0.6em; margin: 0 0.25em; line-height: 1; border-radius: 0.35em;\">\\n    China\\n    <span style=\"font-size: 0.8em; font-weight: bold; line-height: 1; border-radius: 0.35em; vertical-align: middle; margin-left: 0.5rem\">GPE</span>\\n</mark>\\n: \\n<mark class=\"entity\" style=\"background: #feca74; padding: 0.45em 0.6em; margin: 0 0.25em; line-height: 1; border-radius: 0.35em;\">\\n    Beijing\\n    <span style=\"font-size: 0.8em; font-weight: bold; line-height: 1; border-radius: 0.35em; vertical-align: middle; margin-left: 0.5rem\">GPE</span>\\n</mark>\\n-Tianjin-Hebei Low Carbon Energy Transition and \\n<mark class=\"entity\" style=\"background: #7aecec; padding: 0.45em 0.6em; margin: 0 0.25em; line-height: 1; border-radius: 0.35em;\">\\n    Air Quality Improvement Project\\'\\n    <span style=\"font-size: 0.8em; font-weight: bold; line-height: 1; border-radius: 0.35em; vertical-align: middle; margin-left: 0.5rem\">ORG</span>\\n</mark>\\n, \\'\\n<mark class=\"entity\" style=\"background: #feca74; padding: 0.45em 0.6em; margin: 0 0.25em; line-height: 1; border-radius: 0.35em;\">\\n    Egypt\\n    <span style=\"font-size: 0.8em; font-weight: bold; line-height: 1; border-radius: 0.35em; vertical-align: middle; margin-left: 0.5rem\">GPE</span>\\n</mark>\\n: \\n<mark class=\"entity\" style=\"background: #7aecec; padding: 0.45em 0.6em; margin: 0 0.25em; line-height: 1; border-radius: 0.35em;\">\\n    National Bank of Egypt\\n    <span style=\"font-size: 0.8em; font-weight: bold; line-height: 1; border-radius: 0.35em; vertical-align: middle; margin-left: 0.5rem\">ORG</span>\\n</mark>\\n On-Lending Facility for Infrastructure\\', \\'India: L&amp;T- Sustainable Infrastructure on-lending \\n<mark class=\"entity\" style=\"background: #7aecec; padding: 0.45em 0.6em; margin: 0 0.25em; line-height: 1; border-radius: 0.35em;\">\\n    Facility\\'\\n    <span style=\"font-size: 0.8em; font-weight: bold; line-height: 1; border-radius: 0.35em; vertical-align: middle; margin-left: 0.5rem\">ORG</span>\\n</mark>\\n, \\'\\n<mark class=\"entity\" style=\"background: #feca74; padding: 0.45em 0.6em; margin: 0 0.25em; line-height: 1; border-radius: 0.35em;\">\\n    India\\n    <span style=\"font-size: 0.8em; font-weight: bold; line-height: 1; border-radius: 0.35em; vertical-align: middle; margin-left: 0.5rem\">GPE</span>\\n</mark>\\n: \\n<mark class=\"entity\" style=\"background: #7aecec; padding: 0.45em 0.6em; margin: 0 0.25em; line-height: 1; border-radius: 0.35em;\">\\n    Mumbai Urban Transport\\n    <span style=\"font-size: 0.8em; font-weight: bold; line-height: 1; border-radius: 0.35em; vertical-align: middle; margin-left: 0.5rem\">ORG</span>\\n</mark>\\n Project - Phase III (MUTP)\\', \\'\\n<mark class=\"entity\" style=\"background: #feca74; padding: 0.45em 0.6em; margin: 0 0.25em; line-height: 1; border-radius: 0.35em;\">\\n    India\\n    <span style=\"font-size: 0.8em; font-weight: bold; line-height: 1; border-radius: 0.35em; vertical-align: middle; margin-left: 0.5rem\">GPE</span>\\n</mark>\\n: Rajasthan \\n<mark class=\"entity\" style=\"background: #e4e7d2; padding: 0.45em 0.6em; margin: 0 0.25em; line-height: 1; border-radius: 0.35em;\">\\n    250\\n    <span style=\"font-size: 0.8em; font-weight: bold; line-height: 1; border-radius: 0.35em; vertical-align: middle; margin-left: 0.5rem\">CARDINAL</span>\\n</mark>\\n MW Solar Project–Hero Future Energies\\', \\'\\n<mark class=\"entity\" style=\"background: #feca74; padding: 0.45em 0.6em; margin: 0 0.25em; line-height: 1; border-radius: 0.35em;\">\\n    India\\n    <span style=\"font-size: 0.8em; font-weight: bold; line-height: 1; border-radius: 0.35em; vertical-align: middle; margin-left: 0.5rem\">GPE</span>\\n</mark>\\n: \\n<mark class=\"entity\" style=\"background: #7aecec; padding: 0.45em 0.6em; margin: 0 0.25em; line-height: 1; border-radius: 0.35em;\">\\n    Tata Cleantech Sustainable Infrastructure\\n    <span style=\"font-size: 0.8em; font-weight: bold; line-height: 1; border-radius: 0.35em; vertical-align: middle; margin-left: 0.5rem\">ORG</span>\\n</mark>\\n On-Lending Facility\\', \\'\\n<mark class=\"entity\" style=\"background: #feca74; padding: 0.45em 0.6em; margin: 0 0.25em; line-height: 1; border-radius: 0.35em;\">\\n    India\\n    <span style=\"font-size: 0.8em; font-weight: bold; line-height: 1; border-radius: 0.35em; vertical-align: middle; margin-left: 0.5rem\">GPE</span>\\n</mark>\\n: West Bengal \\n<mark class=\"entity\" style=\"background: #7aecec; padding: 0.45em 0.6em; margin: 0 0.25em; line-height: 1; border-radius: 0.35em;\">\\n    Major Irrigation and Flood Management\\'\\n    <span style=\"font-size: 0.8em; font-weight: bold; line-height: 1; border-radius: 0.35em; vertical-align: middle; margin-left: 0.5rem\">ORG</span>\\n</mark>\\n, \\'Kazakhstan: Zhanatas \\n<mark class=\"entity\" style=\"background: #e4e7d2; padding: 0.45em 0.6em; margin: 0 0.25em; line-height: 1; border-radius: 0.35em;\">\\n    100\\n    <span style=\"font-size: 0.8em; font-weight: bold; line-height: 1; border-radius: 0.35em; vertical-align: middle; margin-left: 0.5rem\">CARDINAL</span>\\n</mark>\\n MW Wind Power Plant\\', \\'Lao People’s Democratic Republic: National Road 13 Improvement and \\n<mark class=\"entity\" style=\"background: #7aecec; padding: 0.45em 0.6em; margin: 0 0.25em; line-height: 1; border-radius: 0.35em;\">\\n    Maintenance Project\\'\\n    <span style=\"font-size: 0.8em; font-weight: bold; line-height: 1; border-radius: 0.35em; vertical-align: middle; margin-left: 0.5rem\">ORG</span>\\n</mark>\\n, \\'\\n<mark class=\"entity\" style=\"background: #f0d0ff; padding: 0.45em 0.6em; margin: 0 0.25em; line-height: 1; border-radius: 0.35em;\">\\n    Multicountry: Asia Climate Bond Portfolio\\'\\n    <span style=\"font-size: 0.8em; font-weight: bold; line-height: 1; border-radius: 0.35em; vertical-align: middle; margin-left: 0.5rem\">WORK_OF_ART</span>\\n</mark>\\n, \\'\\n<mark class=\"entity\" style=\"background: #f0d0ff; padding: 0.45em 0.6em; margin: 0 0.25em; line-height: 1; border-radius: 0.35em;\">\\n    Multicountry: Asia Investment Limited Partnership Fund (Previously: Asia Investment Fund\\n    <span style=\"font-size: 0.8em; font-weight: bold; line-height: 1; border-radius: 0.35em; vertical-align: middle; margin-left: 0.5rem\">WORK_OF_ART</span>\\n</mark>\\n)\\', \\'Multicountry: \\n<mark class=\"entity\" style=\"background: #7aecec; padding: 0.45em 0.6em; margin: 0 0.25em; line-height: 1; border-radius: 0.35em;\">\\n    CITIC Capital Pan Eurasia Fund\\'\\n    <span style=\"font-size: 0.8em; font-weight: bold; line-height: 1; border-radius: 0.35em; vertical-align: middle; margin-left: 0.5rem\">ORG</span>\\n</mark>\\n, \\'\\n<mark class=\"entity\" style=\"background: #f0d0ff; padding: 0.45em 0.6em; margin: 0 0.25em; line-height: 1; border-radius: 0.35em;\">\\n    Multicountry\\n    <span style=\"font-size: 0.8em; font-weight: bold; line-height: 1; border-radius: 0.35em; vertical-align: middle; margin-left: 0.5rem\">WORK_OF_ART</span>\\n</mark>\\n: \\n<mark class=\"entity\" style=\"background: #7aecec; padding: 0.45em 0.6em; margin: 0 0.25em; line-height: 1; border-radius: 0.35em;\">\\n    SUSI Asia Energy Transition Fund\\'\\n    <span style=\"font-size: 0.8em; font-weight: bold; line-height: 1; border-radius: 0.35em; vertical-align: middle; margin-left: 0.5rem\">ORG</span>\\n</mark>\\n, \\'Nepal: Power Distribution System Upgrade and Expansion Project\\', \\'Nepal: Upper Trishuli-1 \\n<mark class=\"entity\" style=\"background: #7aecec; padding: 0.45em 0.6em; margin: 0 0.25em; line-height: 1; border-radius: 0.35em;\">\\n    Hydropower Project\\'\\n    <span style=\"font-size: 0.8em; font-weight: bold; line-height: 1; border-radius: 0.35em; vertical-align: middle; margin-left: 0.5rem\">ORG</span>\\n</mark>\\n, \\'\\n<mark class=\"entity\" style=\"background: #feca74; padding: 0.45em 0.6em; margin: 0 0.25em; line-height: 1; border-radius: 0.35em;\">\\n    Pakistan\\n    <span style=\"font-size: 0.8em; font-weight: bold; line-height: 1; border-radius: 0.35em; vertical-align: middle; margin-left: 0.5rem\">GPE</span>\\n</mark>\\n: \\n<mark class=\"entity\" style=\"background: #7aecec; padding: 0.45em 0.6em; margin: 0 0.25em; line-height: 1; border-radius: 0.35em;\">\\n    Karachi Bus Rapid Transit Red Line Project\\'\\n    <span style=\"font-size: 0.8em; font-weight: bold; line-height: 1; border-radius: 0.35em; vertical-align: middle; margin-left: 0.5rem\">ORG</span>\\n</mark>\\n, \\'\\n<mark class=\"entity\" style=\"background: #feca74; padding: 0.45em 0.6em; margin: 0 0.25em; line-height: 1; border-radius: 0.35em;\">\\n    Pakistan\\n    <span style=\"font-size: 0.8em; font-weight: bold; line-height: 1; border-radius: 0.35em; vertical-align: middle; margin-left: 0.5rem\">GPE</span>\\n</mark>\\n: \\n<mark class=\"entity\" style=\"background: #aa9cfc; padding: 0.45em 0.6em; margin: 0 0.25em; line-height: 1; border-radius: 0.35em;\">\\n    Karachi Water\\n    <span style=\"font-size: 0.8em; font-weight: bold; line-height: 1; border-radius: 0.35em; vertical-align: middle; margin-left: 0.5rem\">PERSON</span>\\n</mark>\\n and Sewerage Services Improvement\\', \\n<mark class=\"entity\" style=\"background: #7aecec; padding: 0.45em 0.6em; margin: 0 0.25em; line-height: 1; border-radius: 0.35em;\">\\n    \\'Russian Federation: Infrastructure Development Program\\n    <span style=\"font-size: 0.8em; font-weight: bold; line-height: 1; border-radius: 0.35em; vertical-align: middle; margin-left: 0.5rem\">ORG</span>\\n</mark>\\n (Previously: Russian Federation Transport Sector Investment Loan)\\', \\'\\n<mark class=\"entity\" style=\"background: #feca74; padding: 0.45em 0.6em; margin: 0 0.25em; line-height: 1; border-radius: 0.35em;\">\\n    Singapore\\n    <span style=\"font-size: 0.8em; font-weight: bold; line-height: 1; border-radius: 0.35em; vertical-align: middle; margin-left: 0.5rem\">GPE</span>\\n</mark>\\n: Infrastructure Private Capital Mobilization Platform\\', \\'Sri Lanka: Reduction of Landslide Vulnerability by Mitigation Measures (RLVMM) Project\\', \\'\\n<mark class=\"entity\" style=\"background: #feca74; padding: 0.45em 0.6em; margin: 0 0.25em; line-height: 1; border-radius: 0.35em;\">\\n    Sri Lanka\\n    <span style=\"font-size: 0.8em; font-weight: bold; line-height: 1; border-radius: 0.35em; vertical-align: middle; margin-left: 0.5rem\">GPE</span>\\n</mark>\\n: Support to \\n<mark class=\"entity\" style=\"background: #7aecec; padding: 0.45em 0.6em; margin: 0 0.25em; line-height: 1; border-radius: 0.35em;\">\\n    Colombo Urban Regeneration Project\\'\\n    <span style=\"font-size: 0.8em; font-weight: bold; line-height: 1; border-radius: 0.35em; vertical-align: middle; margin-left: 0.5rem\">ORG</span>\\n</mark>\\n, \\'Türkiye: Efeler 97.6MWE \\n<mark class=\"entity\" style=\"background: #7aecec; padding: 0.45em 0.6em; margin: 0 0.25em; line-height: 1; border-radius: 0.35em;\">\\n    Geothermal Power Plant Expansion Project\\'\\n    <span style=\"font-size: 0.8em; font-weight: bold; line-height: 1; border-radius: 0.35em; vertical-align: middle; margin-left: 0.5rem\">ORG</span>\\n</mark>\\n, \\'Türkiye: Istanbul Seismic Risk Mitigation and Emergency Preparedness Project\\', \\'Türkiye: TKYB Renewable Energy and Energy Efficiency On-Lending Facility\\', \\'\\n<mark class=\"entity\" style=\"background: #f0d0ff; padding: 0.45em 0.6em; margin: 0 0.25em; line-height: 1; border-radius: 0.35em;\">\\n    Uzbekistan: Rural Infrastructure Development Project (Previously: Prosperous Villages Project\\n    <span style=\"font-size: 0.8em; font-weight: bold; line-height: 1; border-radius: 0.35em; vertical-align: middle; margin-left: 0.5rem\">WORK_OF_ART</span>\\n</mark>\\n)\\', \\'Bangladesh: Ultra-high Voltage Transmission line \\n<mark class=\"entity\" style=\"background: #7aecec; padding: 0.45em 0.6em; margin: 0 0.25em; line-height: 1; border-radius: 0.35em;\">\\n    Madunaghat-Bhulta and Sustainable Electricity Access Project\\'\\n    <span style=\"font-size: 0.8em; font-weight: bold; line-height: 1; border-radius: 0.35em; vertical-align: middle; margin-left: 0.5rem\">ORG</span>\\n</mark>\\n, \\'\\n<mark class=\"entity\" style=\"background: #f0d0ff; padding: 0.45em 0.6em; margin: 0 0.25em; line-height: 1; border-radius: 0.35em;\">\\n    Belarus: Rehabilitation and Upgrading of National Road R46\\'\\n    <span style=\"font-size: 0.8em; font-weight: bold; line-height: 1; border-radius: 0.35em; vertical-align: middle; margin-left: 0.5rem\">WORK_OF_ART</span>\\n</mark>\\n, \\'\\n<mark class=\"entity\" style=\"background: #feca74; padding: 0.45em 0.6em; margin: 0 0.25em; line-height: 1; border-radius: 0.35em;\">\\n    India\\n    <span style=\"font-size: 0.8em; font-weight: bold; line-height: 1; border-radius: 0.35em; vertical-align: middle; margin-left: 0.5rem\">GPE</span>\\n</mark>\\n: \\n<mark class=\"entity\" style=\"background: #7aecec; padding: 0.45em 0.6em; margin: 0 0.25em; line-height: 1; border-radius: 0.35em;\">\\n    Karnataka Rural Water Supply Project\\n    <span style=\"font-size: 0.8em; font-weight: bold; line-height: 1; border-radius: 0.35em; vertical-align: middle; margin-left: 0.5rem\">ORG</span>\\n</mark>\\n (KRWSP)\\', \\'\\n<mark class=\"entity\" style=\"background: #feca74; padding: 0.45em 0.6em; margin: 0 0.25em; line-height: 1; border-radius: 0.35em;\">\\n    India\\n    <span style=\"font-size: 0.8em; font-weight: bold; line-height: 1; border-radius: 0.35em; vertical-align: middle; margin-left: 0.5rem\">GPE</span>\\n</mark>\\n: Nangal Chaudhary Integrated Multi-Modal Logistics Hub (IMLH) Project\\', \\'\\n<mark class=\"entity\" style=\"background: #c887fb; padding: 0.45em 0.6em; margin: 0 0.25em; line-height: 1; border-radius: 0.35em;\">\\n    Tajikistan\\n    <span style=\"font-size: 0.8em; font-weight: bold; line-height: 1; border-radius: 0.35em; vertical-align: middle; margin-left: 0.5rem\">NORP</span>\\n</mark>\\n: \\n<mark class=\"entity\" style=\"background: #7aecec; padding: 0.45em 0.6em; margin: 0 0.25em; line-height: 1; border-radius: 0.35em;\">\\n    Obigarm-Nurobod Road Project\\n    <span style=\"font-size: 0.8em; font-weight: bold; line-height: 1; border-radius: 0.35em; vertical-align: middle; margin-left: 0.5rem\">ORG</span>\\n</mark>\\n–Long Bridge and Approach Roads\\', \\'Bangladesh: Bangladesh Bhola IPP\\', \\'Egypt: Sustainable Rural Sanitation Services Program, Phase-2\\', \\'\\n<mark class=\"entity\" style=\"background: #feca74; padding: 0.45em 0.6em; margin: 0 0.25em; line-height: 1; border-radius: 0.35em;\">\\n    India\\n    <span style=\"font-size: 0.8em; font-weight: bold; line-height: 1; border-radius: 0.35em; vertical-align: middle; margin-left: 0.5rem\">GPE</span>\\n</mark>\\n: Andhra Pradesh Rural Roads\\', \\'\\n<mark class=\"entity\" style=\"background: #feca74; padding: 0.45em 0.6em; margin: 0 0.25em; line-height: 1; border-radius: 0.35em;\">\\n    India\\n    <span style=\"font-size: 0.8em; font-weight: bold; line-height: 1; border-radius: 0.35em; vertical-align: middle; margin-left: 0.5rem\">GPE</span>\\n</mark>\\n: \\n<mark class=\"entity\" style=\"background: #7aecec; padding: 0.45em 0.6em; margin: 0 0.25em; line-height: 1; border-radius: 0.35em;\">\\n    Andhra Pradesh Urban Water Supply and Septage Management Improvement\\'\\n    <span style=\"font-size: 0.8em; font-weight: bold; line-height: 1; border-radius: 0.35em; vertical-align: middle; margin-left: 0.5rem\">ORG</span>\\n</mark>\\n, \\'\\n<mark class=\"entity\" style=\"background: #f0d0ff; padding: 0.45em 0.6em; margin: 0 0.25em; line-height: 1; border-radius: 0.35em;\">\\n    India: Madhya Pradesh Rural Connectivity\\'\\n    <span style=\"font-size: 0.8em; font-weight: bold; line-height: 1; border-radius: 0.35em; vertical-align: middle; margin-left: 0.5rem\">WORK_OF_ART</span>\\n</mark>\\n, \\'\\n<mark class=\"entity\" style=\"background: #feca74; padding: 0.45em 0.6em; margin: 0 0.25em; line-height: 1; border-radius: 0.35em;\">\\n    India\\n    <span style=\"font-size: 0.8em; font-weight: bold; line-height: 1; border-radius: 0.35em; vertical-align: middle; margin-left: 0.5rem\">GPE</span>\\n</mark>\\n: \\n<mark class=\"entity\" style=\"background: #7aecec; padding: 0.45em 0.6em; margin: 0 0.25em; line-height: 1; border-radius: 0.35em;\">\\n    National Investment and Infrastructure Fund Phase I\\'\\n    <span style=\"font-size: 0.8em; font-weight: bold; line-height: 1; border-radius: 0.35em; vertical-align: middle; margin-left: 0.5rem\">ORG</span>\\n</mark>\\n, \\'\\n<mark class=\"entity\" style=\"background: #f0d0ff; padding: 0.45em 0.6em; margin: 0 0.25em; line-height: 1; border-radius: 0.35em;\">\\n    Indonesia: Mandalika Urban and Tourism Infrastructure\\'\\n    <span style=\"font-size: 0.8em; font-weight: bold; line-height: 1; border-radius: 0.35em; vertical-align: middle; margin-left: 0.5rem\">WORK_OF_ART</span>\\n</mark>\\n, \\'\\n<mark class=\"entity\" style=\"background: #f0d0ff; padding: 0.45em 0.6em; margin: 0 0.25em; line-height: 1; border-radius: 0.35em;\">\\n    Indonesia: Strategic Irrigation Modernization and Urgent Rehabilitation Project\\'\\n    <span style=\"font-size: 0.8em; font-weight: bold; line-height: 1; border-radius: 0.35em; vertical-align: middle; margin-left: 0.5rem\">WORK_OF_ART</span>\\n</mark>\\n, \\'\\n<mark class=\"entity\" style=\"background: #f0d0ff; padding: 0.45em 0.6em; margin: 0 0.25em; line-height: 1; border-radius: 0.35em;\">\\n    Multicountry\\n    <span style=\"font-size: 0.8em; font-weight: bold; line-height: 1; border-radius: 0.35em; vertical-align: middle; margin-left: 0.5rem\">WORK_OF_ART</span>\\n</mark>\\n: AIIB Asia ESG Enhanced Credit Managed Portfolio\\', \\'Türkiye: \\n<mark class=\"entity\" style=\"background: #7aecec; padding: 0.45em 0.6em; margin: 0 0.25em; line-height: 1; border-radius: 0.35em;\">\\n    TSKB Sustainable Energy and Infrastructure\\n    <span style=\"font-size: 0.8em; font-weight: bold; line-height: 1; border-radius: 0.35em; vertical-align: middle; margin-left: 0.5rem\">ORG</span>\\n</mark>\\n On-lending \\n<mark class=\"entity\" style=\"background: #7aecec; padding: 0.45em 0.6em; margin: 0 0.25em; line-height: 1; border-radius: 0.35em;\">\\n    Facility\\'\\n    <span style=\"font-size: 0.8em; font-weight: bold; line-height: 1; border-radius: 0.35em; vertical-align: middle; margin-left: 0.5rem\">ORG</span>\\n</mark>\\n, \\'Türkiye: Tuz Golu Türkiye Gas Storage Expansion Project\\', \\'\\n<mark class=\"entity\" style=\"background: #feca74; padding: 0.45em 0.6em; margin: 0 0.25em; line-height: 1; border-radius: 0.35em;\">\\n    India\\n    <span style=\"font-size: 0.8em; font-weight: bold; line-height: 1; border-radius: 0.35em; vertical-align: middle; margin-left: 0.5rem\">GPE</span>\\n</mark>\\n: \\n<mark class=\"entity\" style=\"background: #7aecec; padding: 0.45em 0.6em; margin: 0 0.25em; line-height: 1; border-radius: 0.35em;\">\\n    OSE InvIT\\'\\n    <span style=\"font-size: 0.8em; font-weight: bold; line-height: 1; border-radius: 0.35em; vertical-align: middle; margin-left: 0.5rem\">ORG</span>\\n</mark>\\n, \\'Nepal: Tamakoshi V Hydroelectric Project (TV-HEP)\\', \\'\\n<mark class=\"entity\" style=\"background: #feca74; padding: 0.45em 0.6em; margin: 0 0.25em; line-height: 1; border-radius: 0.35em;\">\\n    Pakistan\\n    <span style=\"font-size: 0.8em; font-weight: bold; line-height: 1; border-radius: 0.35em; vertical-align: middle; margin-left: 0.5rem\">GPE</span>\\n</mark>\\n: Lahore Water and Wastewater Management\\', \\'\\n<mark class=\"entity\" style=\"background: #feca74; padding: 0.45em 0.6em; margin: 0 0.25em; line-height: 1; border-radius: 0.35em;\">\\n    Sri Lanka\\n    <span style=\"font-size: 0.8em; font-weight: bold; line-height: 1; border-radius: 0.35em; vertical-align: middle; margin-left: 0.5rem\">GPE</span>\\n</mark>\\n: \\n<mark class=\"entity\" style=\"background: #7aecec; padding: 0.45em 0.6em; margin: 0 0.25em; line-height: 1; border-radius: 0.35em;\">\\n    Anuradhapura Wastewater Management\\'\\n    <span style=\"font-size: 0.8em; font-weight: bold; line-height: 1; border-radius: 0.35em; vertical-align: middle; margin-left: 0.5rem\">ORG</span>\\n</mark>\\n, \\'Bangladesh: Natural Gas Infrastructure and Efficiency Improvement\\', \\'\\n<mark class=\"entity\" style=\"background: #feca74; padding: 0.45em 0.6em; margin: 0 0.25em; line-height: 1; border-radius: 0.35em;\">\\n    China\\n    <span style=\"font-size: 0.8em; font-weight: bold; line-height: 1; border-radius: 0.35em; vertical-align: middle; margin-left: 0.5rem\">GPE</span>\\n</mark>\\n: \\n<mark class=\"entity\" style=\"background: #7aecec; padding: 0.45em 0.6em; margin: 0 0.25em; line-height: 1; border-radius: 0.35em;\">\\n    Beijing Air Quality Improvement\\n    <span style=\"font-size: 0.8em; font-weight: bold; line-height: 1; border-radius: 0.35em; vertical-align: middle; margin-left: 0.5rem\">ORG</span>\\n</mark>\\n and \\n<mark class=\"entity\" style=\"background: #feca74; padding: 0.45em 0.6em; margin: 0 0.25em; line-height: 1; border-radius: 0.35em;\">\\n    Coal Replacement\\'\\n    <span style=\"font-size: 0.8em; font-weight: bold; line-height: 1; border-radius: 0.35em; vertical-align: middle; margin-left: 0.5rem\">GPE</span>\\n</mark>\\n, \\'\\n<mark class=\"entity\" style=\"background: #feca74; padding: 0.45em 0.6em; margin: 0 0.25em; line-height: 1; border-radius: 0.35em;\">\\n    Egypt\\n    <span style=\"font-size: 0.8em; font-weight: bold; line-height: 1; border-radius: 0.35em; vertical-align: middle; margin-left: 0.5rem\">GPE</span>\\n</mark>\\n: \\n<mark class=\"entity\" style=\"background: #7aecec; padding: 0.45em 0.6em; margin: 0 0.25em; line-height: 1; border-radius: 0.35em;\">\\n    Egypt Round II\\n    <span style=\"font-size: 0.8em; font-weight: bold; line-height: 1; border-radius: 0.35em; vertical-align: middle; margin-left: 0.5rem\">ORG</span>\\n</mark>\\n Solar PV Feed-in \\n<mark class=\"entity\" style=\"background: #7aecec; padding: 0.45em 0.6em; margin: 0 0.25em; line-height: 1; border-radius: 0.35em;\">\\n    Tariffs Program\\'\\n    <span style=\"font-size: 0.8em; font-weight: bold; line-height: 1; border-radius: 0.35em; vertical-align: middle; margin-left: 0.5rem\">ORG</span>\\n</mark>\\n, \\'\\n<mark class=\"entity\" style=\"background: #feca74; padding: 0.45em 0.6em; margin: 0 0.25em; line-height: 1; border-radius: 0.35em;\">\\n    Georgia\\n    <span style=\"font-size: 0.8em; font-weight: bold; line-height: 1; border-radius: 0.35em; vertical-align: middle; margin-left: 0.5rem\">GPE</span>\\n</mark>\\n: Batumi Bypass Road\\', \\'\\n<mark class=\"entity\" style=\"background: #feca74; padding: 0.45em 0.6em; margin: 0 0.25em; line-height: 1; border-radius: 0.35em;\">\\n    India\\n    <span style=\"font-size: 0.8em; font-weight: bold; line-height: 1; border-radius: 0.35em; vertical-align: middle; margin-left: 0.5rem\">GPE</span>\\n</mark>\\n: Andhra Pradesh \\n<mark class=\"entity\" style=\"background: #e4e7d2; padding: 0.45em 0.6em; margin: 0 0.25em; line-height: 1; border-radius: 0.35em;\">\\n    24x7\\n    <span style=\"font-size: 0.8em; font-weight: bold; line-height: 1; border-radius: 0.35em; vertical-align: middle; margin-left: 0.5rem\">CARDINAL</span>\\n</mark>\\n – Power For All\\', \\'\\n<mark class=\"entity\" style=\"background: #feca74; padding: 0.45em 0.6em; margin: 0 0.25em; line-height: 1; border-radius: 0.35em;\">\\n    India\\n    <span style=\"font-size: 0.8em; font-weight: bold; line-height: 1; border-radius: 0.35em; vertical-align: middle; margin-left: 0.5rem\">GPE</span>\\n</mark>\\n: Bangalore Metro Rail Project - Line R6\\', \\'\\n<mark class=\"entity\" style=\"background: #feca74; padding: 0.45em 0.6em; margin: 0 0.25em; line-height: 1; border-radius: 0.35em;\">\\n    India\\n    <span style=\"font-size: 0.8em; font-weight: bold; line-height: 1; border-radius: 0.35em; vertical-align: middle; margin-left: 0.5rem\">GPE</span>\\n</mark>\\n: Gujarat Rural Roads (MMGSY)\\', \\'\\n<mark class=\"entity\" style=\"background: #f0d0ff; padding: 0.45em 0.6em; margin: 0 0.25em; line-height: 1; border-radius: 0.35em;\">\\n    India: Transmission System Strengthening (Tamil Nadu\\n    <span style=\"font-size: 0.8em; font-weight: bold; line-height: 1; border-radius: 0.35em; vertical-align: middle; margin-left: 0.5rem\">WORK_OF_ART</span>\\n</mark>\\n)\\', \\'\\n<mark class=\"entity\" style=\"background: #f0d0ff; padding: 0.45em 0.6em; margin: 0 0.25em; line-height: 1; border-radius: 0.35em;\">\\n    Indonesia: Dam Operational Improvement and Safety Project Phase II\\'\\n    <span style=\"font-size: 0.8em; font-weight: bold; line-height: 1; border-radius: 0.35em; vertical-align: middle; margin-left: 0.5rem\">WORK_OF_ART</span>\\n</mark>\\n, \\'\\n<mark class=\"entity\" style=\"background: #f0d0ff; padding: 0.45em 0.6em; margin: 0 0.25em; line-height: 1; border-radius: 0.35em;\">\\n    Indonesia: Regional Infrastructure Development Fund\\'\\n    <span style=\"font-size: 0.8em; font-weight: bold; line-height: 1; border-radius: 0.35em; vertical-align: middle; margin-left: 0.5rem\">WORK_OF_ART</span>\\n</mark>\\n, \\'\\n<mark class=\"entity\" style=\"background: #f0d0ff; padding: 0.45em 0.6em; margin: 0 0.25em; line-height: 1; border-radius: 0.35em;\">\\n    Multicountry: International Finance Corporation Emerging Asia Fund\\'\\n    <span style=\"font-size: 0.8em; font-weight: bold; line-height: 1; border-radius: 0.35em; vertical-align: middle; margin-left: 0.5rem\">WORK_OF_ART</span>\\n</mark>\\n, \\'Oman: Oman Broadband Infrastructure\\', \\'\\n<mark class=\"entity\" style=\"background: #feca74; padding: 0.45em 0.6em; margin: 0 0.25em; line-height: 1; border-radius: 0.35em;\">\\n    Philippines\\n    <span style=\"font-size: 0.8em; font-weight: bold; line-height: 1; border-radius: 0.35em; vertical-align: middle; margin-left: 0.5rem\">GPE</span>\\n</mark>\\n: \\n<mark class=\"entity\" style=\"background: #7aecec; padding: 0.45em 0.6em; margin: 0 0.25em; line-height: 1; border-radius: 0.35em;\">\\n    Metro Manila Flood Management\\'\\n    <span style=\"font-size: 0.8em; font-weight: bold; line-height: 1; border-radius: 0.35em; vertical-align: middle; margin-left: 0.5rem\">ORG</span>\\n</mark>\\n, \\'\\n<mark class=\"entity\" style=\"background: #c887fb; padding: 0.45em 0.6em; margin: 0 0.25em; line-height: 1; border-radius: 0.35em;\">\\n    Tajikistan\\n    <span style=\"font-size: 0.8em; font-weight: bold; line-height: 1; border-radius: 0.35em; vertical-align: middle; margin-left: 0.5rem\">NORP</span>\\n</mark>\\n: \\n<mark class=\"entity\" style=\"background: #7aecec; padding: 0.45em 0.6em; margin: 0 0.25em; line-height: 1; border-radius: 0.35em;\">\\n    Nurek Hydropower Rehabilitation\\n    <span style=\"font-size: 0.8em; font-weight: bold; line-height: 1; border-radius: 0.35em; vertical-align: middle; margin-left: 0.5rem\">ORG</span>\\n</mark>\\n, Phase I\\', \\'\\n<mark class=\"entity\" style=\"background: #feca74; padding: 0.45em 0.6em; margin: 0 0.25em; line-height: 1; border-radius: 0.35em;\">\\n    India\\n    <span style=\"font-size: 0.8em; font-weight: bold; line-height: 1; border-radius: 0.35em; vertical-align: middle; margin-left: 0.5rem\">GPE</span>\\n</mark>\\n: \\n<mark class=\"entity\" style=\"background: #7aecec; padding: 0.45em 0.6em; margin: 0 0.25em; line-height: 1; border-radius: 0.35em;\">\\n    North Haven India Infrastructure Fund\\n    <span style=\"font-size: 0.8em; font-weight: bold; line-height: 1; border-radius: 0.35em; vertical-align: middle; margin-left: 0.5rem\">ORG</span>\\n</mark>\\n (Previously: India Infrastructure Fund)\\', \\'\\n<mark class=\"entity\" style=\"background: #feca74; padding: 0.45em 0.6em; margin: 0 0.25em; line-height: 1; border-radius: 0.35em;\">\\n    Georgia\\n    <span style=\"font-size: 0.8em; font-weight: bold; line-height: 1; border-radius: 0.35em; vertical-align: middle; margin-left: 0.5rem\">GPE</span>\\n</mark>\\n: \\n<mark class=\"entity\" style=\"background: #e4e7d2; padding: 0.45em 0.6em; margin: 0 0.25em; line-height: 1; border-radius: 0.35em;\">\\n    280\\n    <span style=\"font-size: 0.8em; font-weight: bold; line-height: 1; border-radius: 0.35em; vertical-align: middle; margin-left: 0.5rem\">CARDINAL</span>\\n</mark>\\n MW \\n<mark class=\"entity\" style=\"background: #7aecec; padding: 0.45em 0.6em; margin: 0 0.25em; line-height: 1; border-radius: 0.35em;\">\\n    Nenskra Hydropower Plant\\'\\n    <span style=\"font-size: 0.8em; font-weight: bold; line-height: 1; border-radius: 0.35em; vertical-align: middle; margin-left: 0.5rem\">ORG</span>\\n</mark>\\n, \\'\\n<mark class=\"entity\" style=\"background: #aa9cfc; padding: 0.45em 0.6em; margin: 0 0.25em; line-height: 1; border-radius: 0.35em;\">\\n    Azerbaijan\\n    <span style=\"font-size: 0.8em; font-weight: bold; line-height: 1; border-radius: 0.35em; vertical-align: middle; margin-left: 0.5rem\">PERSON</span>\\n</mark>\\n: \\n<mark class=\"entity\" style=\"background: #7aecec; padding: 0.45em 0.6em; margin: 0 0.25em; line-height: 1; border-radius: 0.35em;\">\\n    Trans Anatolian Natural Gas Pipeline Project\\n    <span style=\"font-size: 0.8em; font-weight: bold; line-height: 1; border-radius: 0.35em; vertical-align: middle; margin-left: 0.5rem\">ORG</span>\\n</mark>\\n (TANAP)\\', \\'Bangladesh: Distribution System Upgrade and Expansion\\', \\'Indonesia: National Slum Upgrading Project\\', \\'Myanmar: Myingyan \\n<mark class=\"entity\" style=\"background: #e4e7d2; padding: 0.45em 0.6em; margin: 0 0.25em; line-height: 1; border-radius: 0.35em;\">\\n    225\\n    <span style=\"font-size: 0.8em; font-weight: bold; line-height: 1; border-radius: 0.35em; vertical-align: middle; margin-left: 0.5rem\">CARDINAL</span>\\n</mark>\\n MW Combined Cycle Gas Turbine (CCGT) \\n<mark class=\"entity\" style=\"background: #7aecec; padding: 0.45em 0.6em; margin: 0 0.25em; line-height: 1; border-radius: 0.35em;\">\\n    Power Plant Project\\'\\n    <span style=\"font-size: 0.8em; font-weight: bold; line-height: 1; border-radius: 0.35em; vertical-align: middle; margin-left: 0.5rem\">ORG</span>\\n</mark>\\n, \\'Oman: Duqm Port Commercial Terminal and Operational Zone Development\\', \\'\\n<mark class=\"entity\" style=\"background: #feca74; padding: 0.45em 0.6em; margin: 0 0.25em; line-height: 1; border-radius: 0.35em;\">\\n    Pakistan\\n    <span style=\"font-size: 0.8em; font-weight: bold; line-height: 1; border-radius: 0.35em; vertical-align: middle; margin-left: 0.5rem\">GPE</span>\\n</mark>\\n: \\n<mark class=\"entity\" style=\"background: #7aecec; padding: 0.45em 0.6em; margin: 0 0.25em; line-height: 1; border-radius: 0.35em;\">\\n    National Motorway M-4\\n    <span style=\"font-size: 0.8em; font-weight: bold; line-height: 1; border-radius: 0.35em; vertical-align: middle; margin-left: 0.5rem\">ORG</span>\\n</mark>\\n (Shorkot-Khanewal Section)\\', \\'\\n<mark class=\"entity\" style=\"background: #feca74; padding: 0.45em 0.6em; margin: 0 0.25em; line-height: 1; border-radius: 0.35em;\">\\n    Pakistan\\n    <span style=\"font-size: 0.8em; font-weight: bold; line-height: 1; border-radius: 0.35em; vertical-align: middle; margin-left: 0.5rem\">GPE</span>\\n</mark>\\n: \\n<mark class=\"entity\" style=\"background: #7aecec; padding: 0.45em 0.6em; margin: 0 0.25em; line-height: 1; border-radius: 0.35em;\">\\n    Tarbela 5 Hydropower Extension\\'\\n    <span style=\"font-size: 0.8em; font-weight: bold; line-height: 1; border-radius: 0.35em; vertical-align: middle; margin-left: 0.5rem\">ORG</span>\\n</mark>\\n, \\'\\n<mark class=\"entity\" style=\"background: #c887fb; padding: 0.45em 0.6em; margin: 0 0.25em; line-height: 1; border-radius: 0.35em;\">\\n    Tajikistan\\n    <span style=\"font-size: 0.8em; font-weight: bold; line-height: 1; border-radius: 0.35em; vertical-align: middle; margin-left: 0.5rem\">NORP</span>\\n</mark>\\n: \\n<mark class=\"entity\" style=\"background: #7aecec; padding: 0.45em 0.6em; margin: 0 0.25em; line-height: 1; border-radius: 0.35em;\">\\n    Dushanbe-Uzbekistan Border Road Improvement\\'\\n    <span style=\"font-size: 0.8em; font-weight: bold; line-height: 1; border-radius: 0.35em; vertical-align: middle; margin-left: 0.5rem\">ORG</span>\\n</mark>\\n]</div>'"
            ],
            "application/vnd.google.colaboratory.intrinsic+json": {
              "type": "string"
            }
          },
          "metadata": {},
          "execution_count": 22
        }
      ]
    },
    {
      "cell_type": "markdown",
      "source": [
        "**Visualization**"
      ],
      "metadata": {
        "id": "sk9q3LmlseQL"
      }
    },
    {
      "cell_type": "code",
      "source": [
        "sns.set_style('whitegrid')\n",
        "sns.countplot(x=\"Status\",data=df2)"
      ],
      "metadata": {
        "colab": {
          "base_uri": "https://localhost:8080/",
          "height": 296
        },
        "id": "BzjuBKm_sk_7",
        "outputId": "6f74facc-ee30-4483-a3e8-fd7f6c5368c2"
      },
      "execution_count": null,
      "outputs": [
        {
          "output_type": "execute_result",
          "data": {
            "text/plain": [
              "<AxesSubplot:xlabel='Status', ylabel='count'>"
            ]
          },
          "metadata": {},
          "execution_count": 23
        },
        {
          "output_type": "display_data",
          "data": {
            "text/plain": [
              "<Figure size 432x288 with 1 Axes>"
            ],
            "image/png": "[encoded data removed]"
          },
          "metadata": {}
        }
      ]
    },
    {
      "cell_type": "code",
      "source": [
        "sns.scatterplot(data=df2,x=\"Financing Type\",y=\"Status\")"
      ],
      "metadata": {
        "colab": {
          "base_uri": "https://localhost:8080/",
          "height": 296
        },
        "id": "NGmINZFUst5N",
        "outputId": "4fcd847d-470c-4227-a107-d03eababfbf7"
      },
      "execution_count": null,
      "outputs": [
        {
          "output_type": "execute_result",
          "data": {
            "text/plain": [
              "<AxesSubplot:xlabel='Financing Type', ylabel='Status'>"
            ]
          },
          "metadata": {},
          "execution_count": 24
        },
        {
          "output_type": "display_data",
          "data": {
            "text/plain": [
              "<Figure size 432x288 with 1 Axes>"
            ],
            "image/png": "[encoded data removed]"
          },
          "metadata": {}
        }
      ]
    },
    {
      "cell_type": "code",
      "source": [
        "sns.scatterplot(data=df2,x=\"member\",y=\"sector\",hue=\"member\")"
      ],
      "metadata": {
        "colab": {
          "base_uri": "https://localhost:8080/",
          "height": 611
        },
        "id": "fT0rIZ22szUs",
        "outputId": "6edbc33c-13fe-4874-ace2-f82c539739b8"
      },
      "execution_count": null,
      "outputs": [
        {
          "output_type": "execute_result",
          "data": {
            "text/plain": [
              "<AxesSubplot:xlabel='member', ylabel='sector'>"
            ]
          },
          "metadata": {},
          "execution_count": 25
        },
        {
          "output_type": "display_data",
          "data": {
            "text/plain": [
              "<Figure size 432x288 with 1 Axes>"
            ],
            "image/png": "[encoded data removed]"
          },
          "metadata": {}
        }
      ]
    },
    {
      "cell_type": "code",
      "source": [
        "sns.histplot(x=\"Financing Type\",data=df2)"
      ],
      "metadata": {
        "colab": {
          "base_uri": "https://localhost:8080/",
          "height": 296
        },
        "id": "fx5dhiVps7Vp",
        "outputId": "f41c519b-255a-4395-f732-74592bb34329"
      },
      "execution_count": null,
      "outputs": [
        {
          "output_type": "execute_result",
          "data": {
            "text/plain": [
              "<AxesSubplot:xlabel='Financing Type', ylabel='Count'>"
            ]
          },
          "metadata": {},
          "execution_count": 26
        },
        {
          "output_type": "display_data",
          "data": {
            "text/plain": [
              "<Figure size 432x288 with 1 Axes>"
            ],
            "image/png": "[encoded data removed]"
          },
          "metadata": {}
        }
      ]
    },
    {
      "cell_type": "markdown",
      "source": [
        "**Analysis** : 1.Most of the projects are approved\n",
        "               2.All the members are equally distributed in sectors\n",
        "               3.Count of Sovereign is high"
      ],
      "metadata": {
        "id": "KJIug4W0tMgk"
      }
    },
    {
      "cell_type": "markdown",
      "source": [
        "*Finish....*"
      ],
      "metadata": {
        "id": "iSQjWKiWuJ_X"
      }
    },
    {
      "cell_type": "markdown",
      "source": [
        "**3.Data from world bank projects**"
      ],
      "metadata": {
        "id": "-0PvrQQMuNiO"
      }
    },
    {
      "cell_type": "code",
      "source": [
        "df3=pd.read_csv(\"/content/dataset3.csv\")\n",
        "df3.head()"
      ],
      "metadata": {
        "colab": {
          "base_uri": "https://localhost:8080/",
          "height": 206
        },
        "id": "UBWY5hOau96p",
        "outputId": "c0c40a63-5406-4e00-f845-70a20647e258"
      },
      "execution_count": null,
      "outputs": [
        {
          "output_type": "execute_result",
          "data": {
            "text/plain": [
              "                                       Project Title  Unnamed: 1  \\\n",
              "0  Technology for Youth and Jobs Additional Finan...         NaN   \n",
              "1  Cabo Verde Resilient Tourism and Blue Economy ...         NaN   \n",
              "2  Improving public financial management for the ...         NaN   \n",
              "3  Zambia Education Enhancement Project Second Ad...         NaN   \n",
              "4  First Serbia Green Transition Programmatic Dev...         NaN   \n",
              "\n",
              "                  Country Approval Date  \n",
              "0      West Bank and Gaza     10-Mar-23  \n",
              "1  Republic of Cabo Verde     10-Mar-23  \n",
              "2      Republic of Serbia      9-Mar-23  \n",
              "3      Republic of Zambia      9-Mar-23  \n",
              "4      Republic of Serbia      9-Mar-23  "
            ],
            "text/html": [
              "\n",
              "  <div id=\"df-b2e82bd5-ff77-4589-a7ac-90e300c62bf9\">\n",
              "    <div class=\"colab-df-container\">\n",
              "      <div>\n",
              "<style scoped>\n",
              "    .dataframe tbody tr th:only-of-type {\n",
              "        vertical-align: middle;\n",
              "    }\n",
              "\n",
              "    .dataframe tbody tr th {\n",
              "        vertical-align: top;\n",
              "    }\n",
              "\n",
              "    .dataframe thead th {\n",
              "        text-align: right;\n",
              "    }\n",
              "</style>\n",
              "<table border=\"1\" class=\"dataframe\">\n",
              "  <thead>\n",
              "    <tr style=\"text-align: right;\">\n",
              "      <th></th>\n",
              "      <th>Project Title</th>\n",
              "      <th>Unnamed: 1</th>\n",
              "      <th>Country</th>\n",
              "      <th>Approval Date</th>\n",
              "    </tr>\n",
              "  </thead>\n",
              "  <tbody>\n",
              "    <tr>\n",
              "      <th>0</th>\n",
              "      <td>Technology for Youth and Jobs Additional Finan...</td>\n",
              "      <td>NaN</td>\n",
              "      <td>West Bank and Gaza</td>\n",
              "      <td>10-Mar-23</td>\n",
              "    </tr>\n",
              "    <tr>\n",
              "      <th>1</th>\n",
              "      <td>Cabo Verde Resilient Tourism and Blue Economy ...</td>\n",
              "      <td>NaN</td>\n",
              "      <td>Republic of Cabo Verde</td>\n",
              "      <td>10-Mar-23</td>\n",
              "    </tr>\n",
              "    <tr>\n",
              "      <th>2</th>\n",
              "      <td>Improving public financial management for the ...</td>\n",
              "      <td>NaN</td>\n",
              "      <td>Republic of Serbia</td>\n",
              "      <td>9-Mar-23</td>\n",
              "    </tr>\n",
              "    <tr>\n",
              "      <th>3</th>\n",
              "      <td>Zambia Education Enhancement Project Second Ad...</td>\n",
              "      <td>NaN</td>\n",
              "      <td>Republic of Zambia</td>\n",
              "      <td>9-Mar-23</td>\n",
              "    </tr>\n",
              "    <tr>\n",
              "      <th>4</th>\n",
              "      <td>First Serbia Green Transition Programmatic Dev...</td>\n",
              "      <td>NaN</td>\n",
              "      <td>Republic of Serbia</td>\n",
              "      <td>9-Mar-23</td>\n",
              "    </tr>\n",
              "  </tbody>\n",
              "</table>\n",
              "</div>\n",
              "      <button class=\"colab-df-convert\" onclick=\"convertToInteractive('df-b2e82bd5-ff77-4589-a7ac-90e300c62bf9')\"\n",
              "              title=\"Convert this dataframe to an interactive table.\"\n",
              "              style=\"display:none;\">\n",
              "        \n",
              "  <svg xmlns=\"http://www.w3.org/2000/svg\" height=\"24px\"viewBox=\"0 0 24 24\"\n",
              "       width=\"24px\">\n",
              "    <path d=\"M0 0h24v24H0V0z\" fill=\"none\"/>\n",
              "    <path d=\"M18.56 5.44l.94 2.06.94-2.06 2.06-.94-2.06-.94-.94-2.06-.94 2.06-2.06.94zm-11 1L8.5 8.5l.94-2.06 2.06-.94-2.06-.94L8.5 2.5l-.94 2.06-2.06.94zm10 10l.94 2.06.94-2.06 2.06-.94-2.06-.94-.94-2.06-.94 2.06-2.06.94z\"/><path d=\"M17.41 7.96l-1.37-1.37c-.4-.4-.92-.59-1.43-.59-.52 0-1.04.2-1.43.59L10.3 9.45l-7.72 7.72c-.78.78-.78 2.05 0 2.83L4 21.41c.39.39.9.59 1.41.59.51 0 1.02-.2 1.41-.59l7.78-7.78 2.81-2.81c.8-.78.8-2.07 0-2.86zM5.41 20L4 18.59l7.72-7.72 1.47 1.35L5.41 20z\"/>\n",
              "  </svg>\n",
              "      </button>\n",
              "      \n",
              "  <style>\n",
              "    .colab-df-container {\n",
              "      display:flex;\n",
              "      flex-wrap:wrap;\n",
              "      gap: 12px;\n",
              "    }\n",
              "\n",
              "    .colab-df-convert {\n",
              "      background-color: #E8F0FE;\n",
              "      border: none;\n",
              "      border-radius: 50%;\n",
              "      cursor: pointer;\n",
              "      display: none;\n",
              "      fill: #1967D2;\n",
              "      height: 32px;\n",
              "      padding: 0 0 0 0;\n",
              "      width: 32px;\n",
              "    }\n",
              "\n",
              "    .colab-df-convert:hover {\n",
              "      background-color: #E2EBFA;\n",
              "      box-shadow: 0px 1px 2px rgba(60, 64, 67, 0.3), 0px 1px 3px 1px rgba(60, 64, 67, 0.15);\n",
              "      fill: #174EA6;\n",
              "    }\n",
              "\n",
              "    [theme=dark] .colab-df-convert {\n",
              "      background-color: #3B4455;\n",
              "      fill: #D2E3FC;\n",
              "    }\n",
              "\n",
              "    [theme=dark] .colab-df-convert:hover {\n",
              "      background-color: #434B5C;\n",
              "      box-shadow: 0px 1px 3px 1px rgba(0, 0, 0, 0.15);\n",
              "      filter: drop-shadow(0px 1px 2px rgba(0, 0, 0, 0.3));\n",
              "      fill: #FFFFFF;\n",
              "    }\n",
              "  </style>\n",
              "\n",
              "      <script>\n",
              "        const buttonEl =\n",
              "          document.querySelector('#df-b2e82bd5-ff77-4589-a7ac-90e300c62bf9 button.colab-df-convert');\n",
              "        buttonEl.style.display =\n",
              "          google.colab.kernel.accessAllowed ? 'block' : 'none';\n",
              "\n",
              "        async function convertToInteractive(key) {\n",
              "          const element = document.querySelector('#df-b2e82bd5-ff77-4589-a7ac-90e300c62bf9');\n",
              "          const dataTable =\n",
              "            await google.colab.kernel.invokeFunction('convertToInteractive',\n",
              "                                                     [key], {});\n",
              "          if (!dataTable) return;\n",
              "\n",
              "          const docLinkHtml = 'Like what you see? Visit the ' +\n",
              "            '<a target=\"_blank\" href=https://colab.research.google.com/notebooks/data_table.ipynb>data table notebook</a>'\n",
              "            + ' to learn more about interactive tables.';\n",
              "          element.innerHTML = '';\n",
              "          dataTable['output_type'] = 'display_data';\n",
              "          await google.colab.output.renderOutput(dataTable, element);\n",
              "          const docLink = document.createElement('div');\n",
              "          docLink.innerHTML = docLinkHtml;\n",
              "          element.appendChild(docLink);\n",
              "        }\n",
              "      </script>\n",
              "    </div>\n",
              "  </div>\n",
              "  "
            ]
          },
          "metadata": {},
          "execution_count": 29
        }
      ]
    },
    {
      "cell_type": "code",
      "source": [
        "df3.rename(columns={'Project Title':'Project'},inplace=True)\n",
        "df3=df3.drop(['Unnamed: 1'],axis=1)\n",
        "df3.head()"
      ],
      "metadata": {
        "colab": {
          "base_uri": "https://localhost:8080/",
          "height": 206
        },
        "id": "Evyz_jfTvF9K",
        "outputId": "ee2d4703-1d6e-4efc-e662-1b5d2b26072d"
      },
      "execution_count": null,
      "outputs": [
        {
          "output_type": "execute_result",
          "data": {
            "text/plain": [
              "                                             Project                 Country  \\\n",
              "0  Technology for Youth and Jobs Additional Finan...      West Bank and Gaza   \n",
              "1  Cabo Verde Resilient Tourism and Blue Economy ...  Republic of Cabo Verde   \n",
              "2  Improving public financial management for the ...      Republic of Serbia   \n",
              "3  Zambia Education Enhancement Project Second Ad...      Republic of Zambia   \n",
              "4  First Serbia Green Transition Programmatic Dev...      Republic of Serbia   \n",
              "\n",
              "  Approval Date  \n",
              "0     10-Mar-23  \n",
              "1     10-Mar-23  \n",
              "2      9-Mar-23  \n",
              "3      9-Mar-23  \n",
              "4      9-Mar-23  "
            ],
            "text/html": [
              "\n",
              "  <div id=\"df-c59bee7b-f7e1-4942-8b43-2a2b90302077\">\n",
              "    <div class=\"colab-df-container\">\n",
              "      <div>\n",
              "<style scoped>\n",
              "    .dataframe tbody tr th:only-of-type {\n",
              "        vertical-align: middle;\n",
              "    }\n",
              "\n",
              "    .dataframe tbody tr th {\n",
              "        vertical-align: top;\n",
              "    }\n",
              "\n",
              "    .dataframe thead th {\n",
              "        text-align: right;\n",
              "    }\n",
              "</style>\n",
              "<table border=\"1\" class=\"dataframe\">\n",
              "  <thead>\n",
              "    <tr style=\"text-align: right;\">\n",
              "      <th></th>\n",
              "      <th>Project</th>\n",
              "      <th>Country</th>\n",
              "      <th>Approval Date</th>\n",
              "    </tr>\n",
              "  </thead>\n",
              "  <tbody>\n",
              "    <tr>\n",
              "      <th>0</th>\n",
              "      <td>Technology for Youth and Jobs Additional Finan...</td>\n",
              "      <td>West Bank and Gaza</td>\n",
              "      <td>10-Mar-23</td>\n",
              "    </tr>\n",
              "    <tr>\n",
              "      <th>1</th>\n",
              "      <td>Cabo Verde Resilient Tourism and Blue Economy ...</td>\n",
              "      <td>Republic of Cabo Verde</td>\n",
              "      <td>10-Mar-23</td>\n",
              "    </tr>\n",
              "    <tr>\n",
              "      <th>2</th>\n",
              "      <td>Improving public financial management for the ...</td>\n",
              "      <td>Republic of Serbia</td>\n",
              "      <td>9-Mar-23</td>\n",
              "    </tr>\n",
              "    <tr>\n",
              "      <th>3</th>\n",
              "      <td>Zambia Education Enhancement Project Second Ad...</td>\n",
              "      <td>Republic of Zambia</td>\n",
              "      <td>9-Mar-23</td>\n",
              "    </tr>\n",
              "    <tr>\n",
              "      <th>4</th>\n",
              "      <td>First Serbia Green Transition Programmatic Dev...</td>\n",
              "      <td>Republic of Serbia</td>\n",
              "      <td>9-Mar-23</td>\n",
              "    </tr>\n",
              "  </tbody>\n",
              "</table>\n",
              "</div>\n",
              "      <button class=\"colab-df-convert\" onclick=\"convertToInteractive('df-c59bee7b-f7e1-4942-8b43-2a2b90302077')\"\n",
              "              title=\"Convert this dataframe to an interactive table.\"\n",
              "              style=\"display:none;\">\n",
              "        \n",
              "  <svg xmlns=\"http://www.w3.org/2000/svg\" height=\"24px\"viewBox=\"0 0 24 24\"\n",
              "       width=\"24px\">\n",
              "    <path d=\"M0 0h24v24H0V0z\" fill=\"none\"/>\n",
              "    <path d=\"M18.56 5.44l.94 2.06.94-2.06 2.06-.94-2.06-.94-.94-2.06-.94 2.06-2.06.94zm-11 1L8.5 8.5l.94-2.06 2.06-.94-2.06-.94L8.5 2.5l-.94 2.06-2.06.94zm10 10l.94 2.06.94-2.06 2.06-.94-2.06-.94-.94-2.06-.94 2.06-2.06.94z\"/><path d=\"M17.41 7.96l-1.37-1.37c-.4-.4-.92-.59-1.43-.59-.52 0-1.04.2-1.43.59L10.3 9.45l-7.72 7.72c-.78.78-.78 2.05 0 2.83L4 21.41c.39.39.9.59 1.41.59.51 0 1.02-.2 1.41-.59l7.78-7.78 2.81-2.81c.8-.78.8-2.07 0-2.86zM5.41 20L4 18.59l7.72-7.72 1.47 1.35L5.41 20z\"/>\n",
              "  </svg>\n",
              "      </button>\n",
              "      \n",
              "  <style>\n",
              "    .colab-df-container {\n",
              "      display:flex;\n",
              "      flex-wrap:wrap;\n",
              "      gap: 12px;\n",
              "    }\n",
              "\n",
              "    .colab-df-convert {\n",
              "      background-color: #E8F0FE;\n",
              "      border: none;\n",
              "      border-radius: 50%;\n",
              "      cursor: pointer;\n",
              "      display: none;\n",
              "      fill: #1967D2;\n",
              "      height: 32px;\n",
              "      padding: 0 0 0 0;\n",
              "      width: 32px;\n",
              "    }\n",
              "\n",
              "    .colab-df-convert:hover {\n",
              "      background-color: #E2EBFA;\n",
              "      box-shadow: 0px 1px 2px rgba(60, 64, 67, 0.3), 0px 1px 3px 1px rgba(60, 64, 67, 0.15);\n",
              "      fill: #174EA6;\n",
              "    }\n",
              "\n",
              "    [theme=dark] .colab-df-convert {\n",
              "      background-color: #3B4455;\n",
              "      fill: #D2E3FC;\n",
              "    }\n",
              "\n",
              "    [theme=dark] .colab-df-convert:hover {\n",
              "      background-color: #434B5C;\n",
              "      box-shadow: 0px 1px 3px 1px rgba(0, 0, 0, 0.15);\n",
              "      filter: drop-shadow(0px 1px 2px rgba(0, 0, 0, 0.3));\n",
              "      fill: #FFFFFF;\n",
              "    }\n",
              "  </style>\n",
              "\n",
              "      <script>\n",
              "        const buttonEl =\n",
              "          document.querySelector('#df-c59bee7b-f7e1-4942-8b43-2a2b90302077 button.colab-df-convert');\n",
              "        buttonEl.style.display =\n",
              "          google.colab.kernel.accessAllowed ? 'block' : 'none';\n",
              "\n",
              "        async function convertToInteractive(key) {\n",
              "          const element = document.querySelector('#df-c59bee7b-f7e1-4942-8b43-2a2b90302077');\n",
              "          const dataTable =\n",
              "            await google.colab.kernel.invokeFunction('convertToInteractive',\n",
              "                                                     [key], {});\n",
              "          if (!dataTable) return;\n",
              "\n",
              "          const docLinkHtml = 'Like what you see? Visit the ' +\n",
              "            '<a target=\"_blank\" href=https://colab.research.google.com/notebooks/data_table.ipynb>data table notebook</a>'\n",
              "            + ' to learn more about interactive tables.';\n",
              "          element.innerHTML = '';\n",
              "          dataTable['output_type'] = 'display_data';\n",
              "          await google.colab.output.renderOutput(dataTable, element);\n",
              "          const docLink = document.createElement('div');\n",
              "          docLink.innerHTML = docLinkHtml;\n",
              "          element.appendChild(docLink);\n",
              "        }\n",
              "      </script>\n",
              "    </div>\n",
              "  </div>\n",
              "  "
            ]
          },
          "metadata": {},
          "execution_count": 30
        }
      ]
    },
    {
      "cell_type": "markdown",
      "source": [
        "**NLP Operations**"
      ],
      "metadata": {
        "id": "NHY6ziTVvP07"
      }
    },
    {
      "cell_type": "code",
      "source": [
        "tokens3 = nlp(''.join(str(df3.Project.tolist())))\n",
        "tokens3"
      ],
      "metadata": {
        "colab": {
          "base_uri": "https://localhost:8080/"
        },
        "id": "qiCxDQqJvTiY",
        "outputId": "d5b8fe6c-034a-4ff4-b71c-9ae10c344752"
      },
      "execution_count": null,
      "outputs": [
        {
          "output_type": "execute_result",
          "data": {
            "text/plain": [
              "['Technology for Youth and Jobs Additional Financing', 'Cabo Verde Resilient Tourism and Blue Economy Development AF', 'Improving public financial management for the green transition', 'Zambia Education Enhancement Project Second Additional Financing', 'First Serbia Green Transition Programmatic Development Policy Loan', 'West Bank and Gaza Resilient Municipal Services Project']"
            ]
          },
          "metadata": {},
          "execution_count": 31
        }
      ]
    },
    {
      "cell_type": "code",
      "source": [
        "for ent in tokens3.ents:\n",
        "  print(ent.text, \"|\", ent.label_)"
      ],
      "metadata": {
        "colab": {
          "base_uri": "https://localhost:8080/"
        },
        "id": "ksP25URSvZUd",
        "outputId": "0f3da8e8-bb87-4c25-8d40-378e9cfff8bd"
      },
      "execution_count": null,
      "outputs": [
        {
          "output_type": "stream",
          "name": "stdout",
          "text": [
            "Jobs Additional Financing' | ORG\n",
            "Blue Economy Development AF' | ORG\n",
            "West Bank | GPE\n",
            "Gaza Resilient Municipal Services Project | ORG\n"
          ]
        }
      ]
    },
    {
      "cell_type": "code",
      "source": [
        "from spacy import displacy\n",
        "displacy.render(tokens3, style='ent')"
      ],
      "metadata": {
        "colab": {
          "base_uri": "https://localhost:8080/",
          "height": 140
        },
        "id": "aQeKkUa6vdoa",
        "outputId": "aa583d93-3e91-4299-d2cd-06846d1911ca"
      },
      "execution_count": null,
      "outputs": [
        {
          "output_type": "execute_result",
          "data": {
            "text/plain": [
              "'<div class=\"entities\" style=\"line-height: 2.5; direction: ltr\">[\\'Technology for Youth and \\n<mark class=\"entity\" style=\"background: #7aecec; padding: 0.45em 0.6em; margin: 0 0.25em; line-height: 1; border-radius: 0.35em;\">\\n    Jobs Additional Financing\\'\\n    <span style=\"font-size: 0.8em; font-weight: bold; line-height: 1; border-radius: 0.35em; vertical-align: middle; margin-left: 0.5rem\">ORG</span>\\n</mark>\\n, \\'Cabo Verde Resilient Tourism and \\n<mark class=\"entity\" style=\"background: #7aecec; padding: 0.45em 0.6em; margin: 0 0.25em; line-height: 1; border-radius: 0.35em;\">\\n    Blue Economy Development AF\\'\\n    <span style=\"font-size: 0.8em; font-weight: bold; line-height: 1; border-radius: 0.35em; vertical-align: middle; margin-left: 0.5rem\">ORG</span>\\n</mark>\\n, \\'Improving public financial management for the green transition\\', \\'Zambia Education Enhancement Project Second Additional Financing\\', \\'First Serbia Green Transition Programmatic Development Policy Loan\\', \\'\\n<mark class=\"entity\" style=\"background: #feca74; padding: 0.45em 0.6em; margin: 0 0.25em; line-height: 1; border-radius: 0.35em;\">\\n    West Bank\\n    <span style=\"font-size: 0.8em; font-weight: bold; line-height: 1; border-radius: 0.35em; vertical-align: middle; margin-left: 0.5rem\">GPE</span>\\n</mark>\\n and \\n<mark class=\"entity\" style=\"background: #7aecec; padding: 0.45em 0.6em; margin: 0 0.25em; line-height: 1; border-radius: 0.35em;\">\\n    Gaza Resilient Municipal Services Project\\n    <span style=\"font-size: 0.8em; font-weight: bold; line-height: 1; border-radius: 0.35em; vertical-align: middle; margin-left: 0.5rem\">ORG</span>\\n</mark>\\n\\']</div>'"
            ],
            "application/vnd.google.colaboratory.intrinsic+json": {
              "type": "string"
            }
          },
          "metadata": {},
          "execution_count": 33
        }
      ]
    },
    {
      "cell_type": "markdown",
      "source": [
        "**Visualization**"
      ],
      "metadata": {
        "id": "yYpOg6Wsvj0H"
      }
    },
    {
      "cell_type": "code",
      "source": [
        "sns.scatterplot(data=df3,x=\"Country\",y=\"Approval Date\",hue=\"Country\")"
      ],
      "metadata": {
        "colab": {
          "base_uri": "https://localhost:8080/",
          "height": 296
        },
        "id": "SlxSNxXkvnKL",
        "outputId": "b51396a2-8cb3-4a4a-e6c5-ec5a032b2460"
      },
      "execution_count": null,
      "outputs": [
        {
          "output_type": "execute_result",
          "data": {
            "text/plain": [
              "<AxesSubplot:xlabel='Country', ylabel='Approval Date'>"
            ]
          },
          "metadata": {},
          "execution_count": 34
        },
        {
          "output_type": "display_data",
          "data": {
            "text/plain": [
              "<Figure size 432x288 with 1 Axes>"
            ],
            "image/png": "[encoded data removed]"
          },
          "metadata": {}
        }
      ]
    },
    {
      "cell_type": "code",
      "source": [
        "sns.set_style('whitegrid')\n",
        "sns.countplot(x=\"Approval Date\",data=df3)"
      ],
      "metadata": {
        "colab": {
          "base_uri": "https://localhost:8080/",
          "height": 296
        },
        "id": "Bh-3SUWKvxFl",
        "outputId": "0ef2e67a-d353-4efd-b27c-c7d1bc2aa4d2"
      },
      "execution_count": null,
      "outputs": [
        {
          "output_type": "execute_result",
          "data": {
            "text/plain": [
              "<AxesSubplot:xlabel='Approval Date', ylabel='count'>"
            ]
          },
          "metadata": {},
          "execution_count": 35
        },
        {
          "output_type": "display_data",
          "data": {
            "text/plain": [
              "<Figure size 432x288 with 1 Axes>"
            ],
            "image/png": "[encoded data removed]"
          },
          "metadata": {}
        }
      ]
    },
    {
      "cell_type": "code",
      "source": [
        "sns.heatmap(df3.isnull(),yticklabels=False)"
      ],
      "metadata": {
        "colab": {
          "base_uri": "https://localhost:8080/",
          "height": 286
        },
        "id": "0q3ghgQGv2g4",
        "outputId": "4e006143-cc36-4321-aa06-5789a7d27033"
      },
      "execution_count": null,
      "outputs": [
        {
          "output_type": "execute_result",
          "data": {
            "text/plain": [
              "<AxesSubplot:>"
            ]
          },
          "metadata": {},
          "execution_count": 36
        },
        {
          "output_type": "display_data",
          "data": {
            "text/plain": [
              "<Figure size 432x288 with 2 Axes>"
            ],
            "image/png": "[encoded data removed]"
          },
          "metadata": {}
        }
      ]
    },
    {
      "cell_type": "code",
      "source": [
        "sns.histplot(x=\"Country\",data=df3)"
      ],
      "metadata": {
        "colab": {
          "base_uri": "https://localhost:8080/",
          "height": 296
        },
        "id": "MnKZwt0iv4vG",
        "outputId": "517ad900-0ddf-44f5-992a-c55dddd9f0c6"
      },
      "execution_count": null,
      "outputs": [
        {
          "output_type": "execute_result",
          "data": {
            "text/plain": [
              "<AxesSubplot:xlabel='Country', ylabel='Count'>"
            ]
          },
          "metadata": {},
          "execution_count": 37
        },
        {
          "output_type": "display_data",
          "data": {
            "text/plain": [
              "<Figure size 432x288 with 1 Axes>"
            ],
            "image/png": "[encoded data removed]"
          },
          "metadata": {}
        }
      ]
    },
    {
      "cell_type": "markdown",
      "source": [
        "**Analysis : By observing above graphs we can conclude that West bank and Republic of serbia has highest Approved projects**"
      ],
      "metadata": {
        "id": "zJSP10VCwBzM"
      }
    },
    {
      "cell_type": "markdown",
      "source": [
        "*Finish....*"
      ],
      "metadata": {
        "id": "U1dhgzSjwQqv"
      }
    },
    {
      "cell_type": "markdown",
      "source": [
        "**4.Data from Florida bid Avdertisements**"
      ],
      "metadata": {
        "id": "QElSNUGtwT0o"
      }
    },
    {
      "cell_type": "code",
      "source": [
        "df4=pd.read_csv(\"/content/dataset4.csv\")\n",
        "df4.head()"
      ],
      "metadata": {
        "colab": {
          "base_uri": "https://localhost:8080/",
          "height": 206
        },
        "id": "TaiWDrhdwh0r",
        "outputId": "bddcdd6a-9489-4a87-a733-bd699c3609db"
      },
      "execution_count": null,
      "outputs": [
        {
          "output_type": "execute_result",
          "data": {
            "text/plain": [
              "                                               Topic  Unnamed: 1  \\\n",
              "0  Wakulla County - Professional Engineering Serv...         NaN   \n",
              "1  Okaloosa County - Construction Services for El...         NaN   \n",
              "2  City of Panama City - SRF PS44 Improvements [I...         NaN   \n",
              "3  City of Melbourne - Driving Range Netting and ...         NaN   \n",
              "4  Bay County - Health Department Roof Restoratio...         NaN   \n",
              "\n",
              "                                             Topic 2 First Post Date  \\\n",
              "0  Wakulla County has issued the following Reques...        3/9/2023   \n",
              "1  NOTICE TO RESPONDENTSITB GM 27-23   Notice is ...        3/9/2023   \n",
              "2               SRF PS44 Improvements [ITB PC23-028]        3/9/2023   \n",
              "3  Driving Range Netting and Poles - Harbor City ...       2/27/2023   \n",
              "4  BOARD OF COUNTY COMMISSIONERS   BAY COUNTY, FL...       2/17/2023   \n",
              "\n",
              "  Expiry Date  \n",
              "0   4/11/2023  \n",
              "1   3/29/2023  \n",
              "2   4/12/2023  \n",
              "3   3/28/2023  \n",
              "4   3/23/2023  "
            ],
            "text/html": [
              "\n",
              "  <div id=\"df-4f772c2e-e5da-42ae-92a8-793c6ee05986\">\n",
              "    <div class=\"colab-df-container\">\n",
              "      <div>\n",
              "<style scoped>\n",
              "    .dataframe tbody tr th:only-of-type {\n",
              "        vertical-align: middle;\n",
              "    }\n",
              "\n",
              "    .dataframe tbody tr th {\n",
              "        vertical-align: top;\n",
              "    }\n",
              "\n",
              "    .dataframe thead th {\n",
              "        text-align: right;\n",
              "    }\n",
              "</style>\n",
              "<table border=\"1\" class=\"dataframe\">\n",
              "  <thead>\n",
              "    <tr style=\"text-align: right;\">\n",
              "      <th></th>\n",
              "      <th>Topic</th>\n",
              "      <th>Unnamed: 1</th>\n",
              "      <th>Topic 2</th>\n",
              "      <th>First Post Date</th>\n",
              "      <th>Expiry Date</th>\n",
              "    </tr>\n",
              "  </thead>\n",
              "  <tbody>\n",
              "    <tr>\n",
              "      <th>0</th>\n",
              "      <td>Wakulla County - Professional Engineering Serv...</td>\n",
              "      <td>NaN</td>\n",
              "      <td>Wakulla County has issued the following Reques...</td>\n",
              "      <td>3/9/2023</td>\n",
              "      <td>4/11/2023</td>\n",
              "    </tr>\n",
              "    <tr>\n",
              "      <th>1</th>\n",
              "      <td>Okaloosa County - Construction Services for El...</td>\n",
              "      <td>NaN</td>\n",
              "      <td>NOTICE TO RESPONDENTSITB GM 27-23   Notice is ...</td>\n",
              "      <td>3/9/2023</td>\n",
              "      <td>3/29/2023</td>\n",
              "    </tr>\n",
              "    <tr>\n",
              "      <th>2</th>\n",
              "      <td>City of Panama City - SRF PS44 Improvements [I...</td>\n",
              "      <td>NaN</td>\n",
              "      <td>SRF PS44 Improvements [ITB PC23-028]</td>\n",
              "      <td>3/9/2023</td>\n",
              "      <td>4/12/2023</td>\n",
              "    </tr>\n",
              "    <tr>\n",
              "      <th>3</th>\n",
              "      <td>City of Melbourne - Driving Range Netting and ...</td>\n",
              "      <td>NaN</td>\n",
              "      <td>Driving Range Netting and Poles - Harbor City ...</td>\n",
              "      <td>2/27/2023</td>\n",
              "      <td>3/28/2023</td>\n",
              "    </tr>\n",
              "    <tr>\n",
              "      <th>4</th>\n",
              "      <td>Bay County - Health Department Roof Restoratio...</td>\n",
              "      <td>NaN</td>\n",
              "      <td>BOARD OF COUNTY COMMISSIONERS   BAY COUNTY, FL...</td>\n",
              "      <td>2/17/2023</td>\n",
              "      <td>3/23/2023</td>\n",
              "    </tr>\n",
              "  </tbody>\n",
              "</table>\n",
              "</div>\n",
              "      <button class=\"colab-df-convert\" onclick=\"convertToInteractive('df-4f772c2e-e5da-42ae-92a8-793c6ee05986')\"\n",
              "              title=\"Convert this dataframe to an interactive table.\"\n",
              "              style=\"display:none;\">\n",
              "        \n",
              "  <svg xmlns=\"http://www.w3.org/2000/svg\" height=\"24px\"viewBox=\"0 0 24 24\"\n",
              "       width=\"24px\">\n",
              "    <path d=\"M0 0h24v24H0V0z\" fill=\"none\"/>\n",
              "    <path d=\"M18.56 5.44l.94 2.06.94-2.06 2.06-.94-2.06-.94-.94-2.06-.94 2.06-2.06.94zm-11 1L8.5 8.5l.94-2.06 2.06-.94-2.06-.94L8.5 2.5l-.94 2.06-2.06.94zm10 10l.94 2.06.94-2.06 2.06-.94-2.06-.94-.94-2.06-.94 2.06-2.06.94z\"/><path d=\"M17.41 7.96l-1.37-1.37c-.4-.4-.92-.59-1.43-.59-.52 0-1.04.2-1.43.59L10.3 9.45l-7.72 7.72c-.78.78-.78 2.05 0 2.83L4 21.41c.39.39.9.59 1.41.59.51 0 1.02-.2 1.41-.59l7.78-7.78 2.81-2.81c.8-.78.8-2.07 0-2.86zM5.41 20L4 18.59l7.72-7.72 1.47 1.35L5.41 20z\"/>\n",
              "  </svg>\n",
              "      </button>\n",
              "      \n",
              "  <style>\n",
              "    .colab-df-container {\n",
              "      display:flex;\n",
              "      flex-wrap:wrap;\n",
              "      gap: 12px;\n",
              "    }\n",
              "\n",
              "    .colab-df-convert {\n",
              "      background-color: #E8F0FE;\n",
              "      border: none;\n",
              "      border-radius: 50%;\n",
              "      cursor: pointer;\n",
              "      display: none;\n",
              "      fill: #1967D2;\n",
              "      height: 32px;\n",
              "      padding: 0 0 0 0;\n",
              "      width: 32px;\n",
              "    }\n",
              "\n",
              "    .colab-df-convert:hover {\n",
              "      background-color: #E2EBFA;\n",
              "      box-shadow: 0px 1px 2px rgba(60, 64, 67, 0.3), 0px 1px 3px 1px rgba(60, 64, 67, 0.15);\n",
              "      fill: #174EA6;\n",
              "    }\n",
              "\n",
              "    [theme=dark] .colab-df-convert {\n",
              "      background-color: #3B4455;\n",
              "      fill: #D2E3FC;\n",
              "    }\n",
              "\n",
              "    [theme=dark] .colab-df-convert:hover {\n",
              "      background-color: #434B5C;\n",
              "      box-shadow: 0px 1px 3px 1px rgba(0, 0, 0, 0.15);\n",
              "      filter: drop-shadow(0px 1px 2px rgba(0, 0, 0, 0.3));\n",
              "      fill: #FFFFFF;\n",
              "    }\n",
              "  </style>\n",
              "\n",
              "      <script>\n",
              "        const buttonEl =\n",
              "          document.querySelector('#df-4f772c2e-e5da-42ae-92a8-793c6ee05986 button.colab-df-convert');\n",
              "        buttonEl.style.display =\n",
              "          google.colab.kernel.accessAllowed ? 'block' : 'none';\n",
              "\n",
              "        async function convertToInteractive(key) {\n",
              "          const element = document.querySelector('#df-4f772c2e-e5da-42ae-92a8-793c6ee05986');\n",
              "          const dataTable =\n",
              "            await google.colab.kernel.invokeFunction('convertToInteractive',\n",
              "                                                     [key], {});\n",
              "          if (!dataTable) return;\n",
              "\n",
              "          const docLinkHtml = 'Like what you see? Visit the ' +\n",
              "            '<a target=\"_blank\" href=https://colab.research.google.com/notebooks/data_table.ipynb>data table notebook</a>'\n",
              "            + ' to learn more about interactive tables.';\n",
              "          element.innerHTML = '';\n",
              "          dataTable['output_type'] = 'display_data';\n",
              "          await google.colab.output.renderOutput(dataTable, element);\n",
              "          const docLink = document.createElement('div');\n",
              "          docLink.innerHTML = docLinkHtml;\n",
              "          element.appendChild(docLink);\n",
              "        }\n",
              "      </script>\n",
              "    </div>\n",
              "  </div>\n",
              "  "
            ]
          },
          "metadata": {},
          "execution_count": 38
        }
      ]
    },
    {
      "cell_type": "code",
      "source": [
        "df4=df4.drop(['Unnamed: 1'],axis=1)\n",
        "df4.head()"
      ],
      "metadata": {
        "colab": {
          "base_uri": "https://localhost:8080/",
          "height": 206
        },
        "id": "LTIXsdvPwq7L",
        "outputId": "6e073a32-c5d5-44cc-d71c-6682d38eca82"
      },
      "execution_count": null,
      "outputs": [
        {
          "output_type": "execute_result",
          "data": {
            "text/plain": [
              "                                               Topic  \\\n",
              "0  Wakulla County - Professional Engineering Serv...   \n",
              "1  Okaloosa County - Construction Services for El...   \n",
              "2  City of Panama City - SRF PS44 Improvements [I...   \n",
              "3  City of Melbourne - Driving Range Netting and ...   \n",
              "4  Bay County - Health Department Roof Restoratio...   \n",
              "\n",
              "                                             Topic 2 First Post Date  \\\n",
              "0  Wakulla County has issued the following Reques...        3/9/2023   \n",
              "1  NOTICE TO RESPONDENTSITB GM 27-23   Notice is ...        3/9/2023   \n",
              "2               SRF PS44 Improvements [ITB PC23-028]        3/9/2023   \n",
              "3  Driving Range Netting and Poles - Harbor City ...       2/27/2023   \n",
              "4  BOARD OF COUNTY COMMISSIONERS   BAY COUNTY, FL...       2/17/2023   \n",
              "\n",
              "  Expiry Date  \n",
              "0   4/11/2023  \n",
              "1   3/29/2023  \n",
              "2   4/12/2023  \n",
              "3   3/28/2023  \n",
              "4   3/23/2023  "
            ],
            "text/html": [
              "\n",
              "  <div id=\"df-0157f3ec-3909-4c14-8d58-aadadd9f10e2\">\n",
              "    <div class=\"colab-df-container\">\n",
              "      <div>\n",
              "<style scoped>\n",
              "    .dataframe tbody tr th:only-of-type {\n",
              "        vertical-align: middle;\n",
              "    }\n",
              "\n",
              "    .dataframe tbody tr th {\n",
              "        vertical-align: top;\n",
              "    }\n",
              "\n",
              "    .dataframe thead th {\n",
              "        text-align: right;\n",
              "    }\n",
              "</style>\n",
              "<table border=\"1\" class=\"dataframe\">\n",
              "  <thead>\n",
              "    <tr style=\"text-align: right;\">\n",
              "      <th></th>\n",
              "      <th>Topic</th>\n",
              "      <th>Topic 2</th>\n",
              "      <th>First Post Date</th>\n",
              "      <th>Expiry Date</th>\n",
              "    </tr>\n",
              "  </thead>\n",
              "  <tbody>\n",
              "    <tr>\n",
              "      <th>0</th>\n",
              "      <td>Wakulla County - Professional Engineering Serv...</td>\n",
              "      <td>Wakulla County has issued the following Reques...</td>\n",
              "      <td>3/9/2023</td>\n",
              "      <td>4/11/2023</td>\n",
              "    </tr>\n",
              "    <tr>\n",
              "      <th>1</th>\n",
              "      <td>Okaloosa County - Construction Services for El...</td>\n",
              "      <td>NOTICE TO RESPONDENTSITB GM 27-23   Notice is ...</td>\n",
              "      <td>3/9/2023</td>\n",
              "      <td>3/29/2023</td>\n",
              "    </tr>\n",
              "    <tr>\n",
              "      <th>2</th>\n",
              "      <td>City of Panama City - SRF PS44 Improvements [I...</td>\n",
              "      <td>SRF PS44 Improvements [ITB PC23-028]</td>\n",
              "      <td>3/9/2023</td>\n",
              "      <td>4/12/2023</td>\n",
              "    </tr>\n",
              "    <tr>\n",
              "      <th>3</th>\n",
              "      <td>City of Melbourne - Driving Range Netting and ...</td>\n",
              "      <td>Driving Range Netting and Poles - Harbor City ...</td>\n",
              "      <td>2/27/2023</td>\n",
              "      <td>3/28/2023</td>\n",
              "    </tr>\n",
              "    <tr>\n",
              "      <th>4</th>\n",
              "      <td>Bay County - Health Department Roof Restoratio...</td>\n",
              "      <td>BOARD OF COUNTY COMMISSIONERS   BAY COUNTY, FL...</td>\n",
              "      <td>2/17/2023</td>\n",
              "      <td>3/23/2023</td>\n",
              "    </tr>\n",
              "  </tbody>\n",
              "</table>\n",
              "</div>\n",
              "      <button class=\"colab-df-convert\" onclick=\"convertToInteractive('df-0157f3ec-3909-4c14-8d58-aadadd9f10e2')\"\n",
              "              title=\"Convert this dataframe to an interactive table.\"\n",
              "              style=\"display:none;\">\n",
              "        \n",
              "  <svg xmlns=\"http://www.w3.org/2000/svg\" height=\"24px\"viewBox=\"0 0 24 24\"\n",
              "       width=\"24px\">\n",
              "    <path d=\"M0 0h24v24H0V0z\" fill=\"none\"/>\n",
              "    <path d=\"M18.56 5.44l.94 2.06.94-2.06 2.06-.94-2.06-.94-.94-2.06-.94 2.06-2.06.94zm-11 1L8.5 8.5l.94-2.06 2.06-.94-2.06-.94L8.5 2.5l-.94 2.06-2.06.94zm10 10l.94 2.06.94-2.06 2.06-.94-2.06-.94-.94-2.06-.94 2.06-2.06.94z\"/><path d=\"M17.41 7.96l-1.37-1.37c-.4-.4-.92-.59-1.43-.59-.52 0-1.04.2-1.43.59L10.3 9.45l-7.72 7.72c-.78.78-.78 2.05 0 2.83L4 21.41c.39.39.9.59 1.41.59.51 0 1.02-.2 1.41-.59l7.78-7.78 2.81-2.81c.8-.78.8-2.07 0-2.86zM5.41 20L4 18.59l7.72-7.72 1.47 1.35L5.41 20z\"/>\n",
              "  </svg>\n",
              "      </button>\n",
              "      \n",
              "  <style>\n",
              "    .colab-df-container {\n",
              "      display:flex;\n",
              "      flex-wrap:wrap;\n",
              "      gap: 12px;\n",
              "    }\n",
              "\n",
              "    .colab-df-convert {\n",
              "      background-color: #E8F0FE;\n",
              "      border: none;\n",
              "      border-radius: 50%;\n",
              "      cursor: pointer;\n",
              "      display: none;\n",
              "      fill: #1967D2;\n",
              "      height: 32px;\n",
              "      padding: 0 0 0 0;\n",
              "      width: 32px;\n",
              "    }\n",
              "\n",
              "    .colab-df-convert:hover {\n",
              "      background-color: #E2EBFA;\n",
              "      box-shadow: 0px 1px 2px rgba(60, 64, 67, 0.3), 0px 1px 3px 1px rgba(60, 64, 67, 0.15);\n",
              "      fill: #174EA6;\n",
              "    }\n",
              "\n",
              "    [theme=dark] .colab-df-convert {\n",
              "      background-color: #3B4455;\n",
              "      fill: #D2E3FC;\n",
              "    }\n",
              "\n",
              "    [theme=dark] .colab-df-convert:hover {\n",
              "      background-color: #434B5C;\n",
              "      box-shadow: 0px 1px 3px 1px rgba(0, 0, 0, 0.15);\n",
              "      filter: drop-shadow(0px 1px 2px rgba(0, 0, 0, 0.3));\n",
              "      fill: #FFFFFF;\n",
              "    }\n",
              "  </style>\n",
              "\n",
              "      <script>\n",
              "        const buttonEl =\n",
              "          document.querySelector('#df-0157f3ec-3909-4c14-8d58-aadadd9f10e2 button.colab-df-convert');\n",
              "        buttonEl.style.display =\n",
              "          google.colab.kernel.accessAllowed ? 'block' : 'none';\n",
              "\n",
              "        async function convertToInteractive(key) {\n",
              "          const element = document.querySelector('#df-0157f3ec-3909-4c14-8d58-aadadd9f10e2');\n",
              "          const dataTable =\n",
              "            await google.colab.kernel.invokeFunction('convertToInteractive',\n",
              "                                                     [key], {});\n",
              "          if (!dataTable) return;\n",
              "\n",
              "          const docLinkHtml = 'Like what you see? Visit the ' +\n",
              "            '<a target=\"_blank\" href=https://colab.research.google.com/notebooks/data_table.ipynb>data table notebook</a>'\n",
              "            + ' to learn more about interactive tables.';\n",
              "          element.innerHTML = '';\n",
              "          dataTable['output_type'] = 'display_data';\n",
              "          await google.colab.output.renderOutput(dataTable, element);\n",
              "          const docLink = document.createElement('div');\n",
              "          docLink.innerHTML = docLinkHtml;\n",
              "          element.appendChild(docLink);\n",
              "        }\n",
              "      </script>\n",
              "    </div>\n",
              "  </div>\n",
              "  "
            ]
          },
          "metadata": {},
          "execution_count": 39
        }
      ]
    },
    {
      "cell_type": "markdown",
      "source": [
        "**NLP Operatons**"
      ],
      "metadata": {
        "id": "HkRTd-Yxwv9-"
      }
    },
    {
      "cell_type": "code",
      "source": [
        "tokens4 = nlp(''.join(str(df4.Topic.tolist())))\n",
        "tokens4"
      ],
      "metadata": {
        "colab": {
          "base_uri": "https://localhost:8080/"
        },
        "id": "RuttGd5Jw0Db",
        "outputId": "a9d485b5-c29e-45f8-e50b-a5ce64d87767"
      },
      "execution_count": null,
      "outputs": [
        {
          "output_type": "execute_result",
          "data": {
            "text/plain": [
              "['Wakulla County - Professional Engineering Services Elevated Aluminum Platforms for Lift Stations 2, 7, and 11 [RFQ 2023-13]', 'Okaloosa County - Construction Services for Elevation of a Home Using FEMA Flood Mitigation Grant Funding FEMA 4564-DR-FL [ITB GM 27-23]', 'City of Panama City - SRF PS44 Improvements [ITB PC23-028]', 'City of Melbourne - Driving Range Netting and Poles - Harbor City Golf Course - FEMA [ITB Number: B23007A-0-2023/DB]', 'Bay County - Health Department Roof Restoration [ITB 23-20]', 'Charlotte County - Hurricane Ian Permanent Repairs for Mid County - Group 3 [ITB 23-307]', 'Charlotte County - Hurricane Ian Repairs - Oyster Creek Bridge [ITB 23-350]', 'City of Panama City - Professional Services For Harrison Ave Reconstruction Phase II [RFQ NO: PC23-031]', 'Wakulla County - Wakulla Gardens Phase IV Construction [ITB 2023-10]', 'Wakulla County - Professional Engineering Services Elevated Aluminum Platforms for Lift Stations 12, 28 and 30 [RFQ 2023-11]', 'Okaloosa County - Electric Motor, Pump and Rotating Equipment Repair/Service/Replacement for the Water and Sewer Department [ITB WS 29-23]', 'Okaloosa County - Okaloosa County Offshore Artificial Reef Construction Project- Deepwater Large and Small Tetrahedrons [RFP TDD 28-23]', 'Bay County - Magnolia Beach Road Multiuse Path Re-bid [ITB 23-19]', 'Bay County - Sweetwater Branch Road Sediment Reduction Project [ITB 23-18]', 'Florida Department of Environmental Protection - Re-Advertisement for Custom-Built Pontoon Vessel(s) for Edward Ball Wakulla Springs State Park [ I...', 'Santa Rosa County - Dedicated Internet Access and Wide Area Network Transport Service [RFP 23-016]', 'Wakulla County - Professional Engineering Services PFA-2 Phase 5 and 6 (Ameliawood and Ridgeland/Highland Place [RFQ 2023-09]', 'Charlotte County - Hurricane Ian Permanent Repairs - Gillot Boulevard [ITB 23-312]', 'Charlotte County - Hurricane Ian Permanent Repairs for Mid County - Group 3 [ITB 23-307]', 'Orange County Public Schools - RFPs and ITBs']"
            ]
          },
          "metadata": {},
          "execution_count": 40
        }
      ]
    },
    {
      "cell_type": "code",
      "source": [
        "for ent in tokens4.ents:\n",
        "  print(ent.text, \"|\", ent.label_)"
      ],
      "metadata": {
        "colab": {
          "base_uri": "https://localhost:8080/"
        },
        "id": "mDrTcWpkw93t",
        "outputId": "eb948b88-6ec2-4413-b949-bd4f8e5a60d5"
      },
      "execution_count": null,
      "outputs": [
        {
          "output_type": "stream",
          "name": "stdout",
          "text": [
            "7 | DATE\n",
            "11 | CARDINAL\n",
            "RFQ | ORG\n",
            "Okaloosa County - Construction Services for Elevation | GPE\n",
            "Home Using FEMA Flood Mitigation Grant Funding | ORG\n",
            "4564-DR-FL | DATE\n",
            "ITB | ORG\n",
            "GM | ORG\n",
            "27-23 | CARDINAL\n",
            "'City | GPE\n",
            "Panama City - SRF | GPE\n",
            "ITB | ORG\n",
            "028 | CARDINAL\n",
            "Poles | NORP\n",
            "ITB | ORG\n",
            "Bay County - | GPE\n",
            "23-20 | CARDINAL\n",
            "Charlotte County - | GPE\n",
            "Mid County - Group | GPE\n",
            "3 | CARDINAL\n",
            "ITB | ORG\n",
            "23 | CARDINAL\n",
            "Charlotte County - | GPE\n",
            "23-350 | PERCENT\n",
            "'City | GPE\n",
            "Wakulla County - Wakulla Gardens Phase IV Construction | GPE\n",
            "2023-10 | CARDINAL\n",
            "'Wakulla County - Professional Engineering Services Elevated Aluminum Platforms | GPE\n",
            "12 | CARDINAL\n",
            "28 | DATE\n",
            "30 | CARDINAL\n",
            "RFQ | ORG\n",
            "Okaloosa County - Electric Motor | GPE\n",
            "Pump and Rotating Equipment Repair/Service/Replacement | ORG\n",
            "the Water and Sewer Department | ORG\n",
            "ITB | ORG\n",
            "29 | CARDINAL\n",
            "Okaloosa County - Okaloosa County Offshore Artificial Reef Construction | GPE\n",
            "Deepwater Large and Small | ORG\n",
            "28-23 | CARDINAL\n",
            "Bay County - Magnolia | GPE\n",
            "Multiuse Path Re-bid | PERSON\n",
            "ITB | ORG\n",
            "23-19 | CARDINAL\n",
            "Bay County - Sweetwater Branch Road | GPE\n",
            "23-18 | CARDINAL\n",
            "Florida Department of Environmental Protection - Re-Advertisement for Custom-Built Pontoon Vessel(s | ORG\n",
            "Edward Ball Wakulla | PERSON\n",
            "Santa Rosa County - Dedicated Internet Access | GPE\n",
            "Wide Area Network Transport Service | ORG\n",
            "23 | CARDINAL\n",
            "'Wakulla County - Professional Engineering Services PFA-2 | GPE\n",
            "2023-09 | DATE\n",
            "Charlotte County - | GPE\n",
            "23 | CARDINAL\n",
            "Charlotte County - | GPE\n",
            "Mid County - Group | GPE\n",
            "3 | CARDINAL\n",
            "ITB | ORG\n",
            "23 | CARDINAL\n"
          ]
        }
      ]
    },
    {
      "cell_type": "code",
      "source": [
        "from spacy import displacy\n",
        "displacy.render(tokens4, style='ent')"
      ],
      "metadata": {
        "colab": {
          "base_uri": "https://localhost:8080/",
          "height": 140
        },
        "id": "Os68WEs0xCXK",
        "outputId": "f272b604-7600-4b05-d835-8882a7b21db0"
      },
      "execution_count": null,
      "outputs": [
        {
          "output_type": "execute_result",
          "data": {
            "text/plain": [
              "'<div class=\"entities\" style=\"line-height: 2.5; direction: ltr\">[\\'Wakulla County - Professional Engineering Services Elevated Aluminum Platforms for Lift Stations 2, \\n<mark class=\"entity\" style=\"background: #bfe1d9; padding: 0.45em 0.6em; margin: 0 0.25em; line-height: 1; border-radius: 0.35em;\">\\n    7\\n    <span style=\"font-size: 0.8em; font-weight: bold; line-height: 1; border-radius: 0.35em; vertical-align: middle; margin-left: 0.5rem\">DATE</span>\\n</mark>\\n, and \\n<mark class=\"entity\" style=\"background: #e4e7d2; padding: 0.45em 0.6em; margin: 0 0.25em; line-height: 1; border-radius: 0.35em;\">\\n    11\\n    <span style=\"font-size: 0.8em; font-weight: bold; line-height: 1; border-radius: 0.35em; vertical-align: middle; margin-left: 0.5rem\">CARDINAL</span>\\n</mark>\\n [\\n<mark class=\"entity\" style=\"background: #7aecec; padding: 0.45em 0.6em; margin: 0 0.25em; line-height: 1; border-radius: 0.35em;\">\\n    RFQ\\n    <span style=\"font-size: 0.8em; font-weight: bold; line-height: 1; border-radius: 0.35em; vertical-align: middle; margin-left: 0.5rem\">ORG</span>\\n</mark>\\n 2023-13]\\', \\'\\n<mark class=\"entity\" style=\"background: #feca74; padding: 0.45em 0.6em; margin: 0 0.25em; line-height: 1; border-radius: 0.35em;\">\\n    Okaloosa County - Construction Services for Elevation\\n    <span style=\"font-size: 0.8em; font-weight: bold; line-height: 1; border-radius: 0.35em; vertical-align: middle; margin-left: 0.5rem\">GPE</span>\\n</mark>\\n of a \\n<mark class=\"entity\" style=\"background: #7aecec; padding: 0.45em 0.6em; margin: 0 0.25em; line-height: 1; border-radius: 0.35em;\">\\n    Home Using FEMA Flood Mitigation Grant Funding\\n    <span style=\"font-size: 0.8em; font-weight: bold; line-height: 1; border-radius: 0.35em; vertical-align: middle; margin-left: 0.5rem\">ORG</span>\\n</mark>\\n FEMA \\n<mark class=\"entity\" style=\"background: #bfe1d9; padding: 0.45em 0.6em; margin: 0 0.25em; line-height: 1; border-radius: 0.35em;\">\\n    4564-DR-FL\\n    <span style=\"font-size: 0.8em; font-weight: bold; line-height: 1; border-radius: 0.35em; vertical-align: middle; margin-left: 0.5rem\">DATE</span>\\n</mark>\\n [\\n<mark class=\"entity\" style=\"background: #7aecec; padding: 0.45em 0.6em; margin: 0 0.25em; line-height: 1; border-radius: 0.35em;\">\\n    ITB\\n    <span style=\"font-size: 0.8em; font-weight: bold; line-height: 1; border-radius: 0.35em; vertical-align: middle; margin-left: 0.5rem\">ORG</span>\\n</mark>\\n \\n<mark class=\"entity\" style=\"background: #7aecec; padding: 0.45em 0.6em; margin: 0 0.25em; line-height: 1; border-radius: 0.35em;\">\\n    GM\\n    <span style=\"font-size: 0.8em; font-weight: bold; line-height: 1; border-radius: 0.35em; vertical-align: middle; margin-left: 0.5rem\">ORG</span>\\n</mark>\\n \\n<mark class=\"entity\" style=\"background: #e4e7d2; padding: 0.45em 0.6em; margin: 0 0.25em; line-height: 1; border-radius: 0.35em;\">\\n    27-23\\n    <span style=\"font-size: 0.8em; font-weight: bold; line-height: 1; border-radius: 0.35em; vertical-align: middle; margin-left: 0.5rem\">CARDINAL</span>\\n</mark>\\n]\\', \\n<mark class=\"entity\" style=\"background: #feca74; padding: 0.45em 0.6em; margin: 0 0.25em; line-height: 1; border-radius: 0.35em;\">\\n    \\'City\\n    <span style=\"font-size: 0.8em; font-weight: bold; line-height: 1; border-radius: 0.35em; vertical-align: middle; margin-left: 0.5rem\">GPE</span>\\n</mark>\\n of \\n<mark class=\"entity\" style=\"background: #feca74; padding: 0.45em 0.6em; margin: 0 0.25em; line-height: 1; border-radius: 0.35em;\">\\n    Panama City - SRF\\n    <span style=\"font-size: 0.8em; font-weight: bold; line-height: 1; border-radius: 0.35em; vertical-align: middle; margin-left: 0.5rem\">GPE</span>\\n</mark>\\n PS44 Improvements [\\n<mark class=\"entity\" style=\"background: #7aecec; padding: 0.45em 0.6em; margin: 0 0.25em; line-height: 1; border-radius: 0.35em;\">\\n    ITB\\n    <span style=\"font-size: 0.8em; font-weight: bold; line-height: 1; border-radius: 0.35em; vertical-align: middle; margin-left: 0.5rem\">ORG</span>\\n</mark>\\n PC23-\\n<mark class=\"entity\" style=\"background: #e4e7d2; padding: 0.45em 0.6em; margin: 0 0.25em; line-height: 1; border-radius: 0.35em;\">\\n    028\\n    <span style=\"font-size: 0.8em; font-weight: bold; line-height: 1; border-radius: 0.35em; vertical-align: middle; margin-left: 0.5rem\">CARDINAL</span>\\n</mark>\\n]\\', \\'City of Melbourne - Driving Range Netting and \\n<mark class=\"entity\" style=\"background: #c887fb; padding: 0.45em 0.6em; margin: 0 0.25em; line-height: 1; border-radius: 0.35em;\">\\n    Poles\\n    <span style=\"font-size: 0.8em; font-weight: bold; line-height: 1; border-radius: 0.35em; vertical-align: middle; margin-left: 0.5rem\">NORP</span>\\n</mark>\\n - Harbor City Golf Course - FEMA [\\n<mark class=\"entity\" style=\"background: #7aecec; padding: 0.45em 0.6em; margin: 0 0.25em; line-height: 1; border-radius: 0.35em;\">\\n    ITB\\n    <span style=\"font-size: 0.8em; font-weight: bold; line-height: 1; border-radius: 0.35em; vertical-align: middle; margin-left: 0.5rem\">ORG</span>\\n</mark>\\n Number: B23007A-0-2023/DB]\\', \\'\\n<mark class=\"entity\" style=\"background: #feca74; padding: 0.45em 0.6em; margin: 0 0.25em; line-height: 1; border-radius: 0.35em;\">\\n    Bay County -\\n    <span style=\"font-size: 0.8em; font-weight: bold; line-height: 1; border-radius: 0.35em; vertical-align: middle; margin-left: 0.5rem\">GPE</span>\\n</mark>\\n Health Department Roof Restoration [ITB \\n<mark class=\"entity\" style=\"background: #e4e7d2; padding: 0.45em 0.6em; margin: 0 0.25em; line-height: 1; border-radius: 0.35em;\">\\n    23-20\\n    <span style=\"font-size: 0.8em; font-weight: bold; line-height: 1; border-radius: 0.35em; vertical-align: middle; margin-left: 0.5rem\">CARDINAL</span>\\n</mark>\\n]\\', \\'\\n<mark class=\"entity\" style=\"background: #feca74; padding: 0.45em 0.6em; margin: 0 0.25em; line-height: 1; border-radius: 0.35em;\">\\n    Charlotte County -\\n    <span style=\"font-size: 0.8em; font-weight: bold; line-height: 1; border-radius: 0.35em; vertical-align: middle; margin-left: 0.5rem\">GPE</span>\\n</mark>\\n Hurricane Ian Permanent Repairs for \\n<mark class=\"entity\" style=\"background: #feca74; padding: 0.45em 0.6em; margin: 0 0.25em; line-height: 1; border-radius: 0.35em;\">\\n    Mid County - Group\\n    <span style=\"font-size: 0.8em; font-weight: bold; line-height: 1; border-radius: 0.35em; vertical-align: middle; margin-left: 0.5rem\">GPE</span>\\n</mark>\\n \\n<mark class=\"entity\" style=\"background: #e4e7d2; padding: 0.45em 0.6em; margin: 0 0.25em; line-height: 1; border-radius: 0.35em;\">\\n    3\\n    <span style=\"font-size: 0.8em; font-weight: bold; line-height: 1; border-radius: 0.35em; vertical-align: middle; margin-left: 0.5rem\">CARDINAL</span>\\n</mark>\\n [\\n<mark class=\"entity\" style=\"background: #7aecec; padding: 0.45em 0.6em; margin: 0 0.25em; line-height: 1; border-radius: 0.35em;\">\\n    ITB\\n    <span style=\"font-size: 0.8em; font-weight: bold; line-height: 1; border-radius: 0.35em; vertical-align: middle; margin-left: 0.5rem\">ORG</span>\\n</mark>\\n \\n<mark class=\"entity\" style=\"background: #e4e7d2; padding: 0.45em 0.6em; margin: 0 0.25em; line-height: 1; border-radius: 0.35em;\">\\n    23\\n    <span style=\"font-size: 0.8em; font-weight: bold; line-height: 1; border-radius: 0.35em; vertical-align: middle; margin-left: 0.5rem\">CARDINAL</span>\\n</mark>\\n-307]\\', \\'\\n<mark class=\"entity\" style=\"background: #feca74; padding: 0.45em 0.6em; margin: 0 0.25em; line-height: 1; border-radius: 0.35em;\">\\n    Charlotte County -\\n    <span style=\"font-size: 0.8em; font-weight: bold; line-height: 1; border-radius: 0.35em; vertical-align: middle; margin-left: 0.5rem\">GPE</span>\\n</mark>\\n Hurricane Ian Repairs - Oyster Creek Bridge [ITB \\n<mark class=\"entity\" style=\"background: #e4e7d2; padding: 0.45em 0.6em; margin: 0 0.25em; line-height: 1; border-radius: 0.35em;\">\\n    23-350\\n    <span style=\"font-size: 0.8em; font-weight: bold; line-height: 1; border-radius: 0.35em; vertical-align: middle; margin-left: 0.5rem\">PERCENT</span>\\n</mark>\\n]\\', \\n<mark class=\"entity\" style=\"background: #feca74; padding: 0.45em 0.6em; margin: 0 0.25em; line-height: 1; border-radius: 0.35em;\">\\n    \\'City\\n    <span style=\"font-size: 0.8em; font-weight: bold; line-height: 1; border-radius: 0.35em; vertical-align: middle; margin-left: 0.5rem\">GPE</span>\\n</mark>\\n of Panama City - Professional Services For Harrison Ave Reconstruction Phase II [RFQ NO: PC23-031]\\', \\'\\n<mark class=\"entity\" style=\"background: #feca74; padding: 0.45em 0.6em; margin: 0 0.25em; line-height: 1; border-radius: 0.35em;\">\\n    Wakulla County - Wakulla Gardens Phase IV Construction\\n    <span style=\"font-size: 0.8em; font-weight: bold; line-height: 1; border-radius: 0.35em; vertical-align: middle; margin-left: 0.5rem\">GPE</span>\\n</mark>\\n [ITB \\n<mark class=\"entity\" style=\"background: #e4e7d2; padding: 0.45em 0.6em; margin: 0 0.25em; line-height: 1; border-radius: 0.35em;\">\\n    2023-10\\n    <span style=\"font-size: 0.8em; font-weight: bold; line-height: 1; border-radius: 0.35em; vertical-align: middle; margin-left: 0.5rem\">CARDINAL</span>\\n</mark>\\n]\\', \\n<mark class=\"entity\" style=\"background: #feca74; padding: 0.45em 0.6em; margin: 0 0.25em; line-height: 1; border-radius: 0.35em;\">\\n    \\'Wakulla County - Professional Engineering Services Elevated Aluminum Platforms\\n    <span style=\"font-size: 0.8em; font-weight: bold; line-height: 1; border-radius: 0.35em; vertical-align: middle; margin-left: 0.5rem\">GPE</span>\\n</mark>\\n for Lift Stations \\n<mark class=\"entity\" style=\"background: #e4e7d2; padding: 0.45em 0.6em; margin: 0 0.25em; line-height: 1; border-radius: 0.35em;\">\\n    12\\n    <span style=\"font-size: 0.8em; font-weight: bold; line-height: 1; border-radius: 0.35em; vertical-align: middle; margin-left: 0.5rem\">CARDINAL</span>\\n</mark>\\n, \\n<mark class=\"entity\" style=\"background: #bfe1d9; padding: 0.45em 0.6em; margin: 0 0.25em; line-height: 1; border-radius: 0.35em;\">\\n    28\\n    <span style=\"font-size: 0.8em; font-weight: bold; line-height: 1; border-radius: 0.35em; vertical-align: middle; margin-left: 0.5rem\">DATE</span>\\n</mark>\\n and \\n<mark class=\"entity\" style=\"background: #e4e7d2; padding: 0.45em 0.6em; margin: 0 0.25em; line-height: 1; border-radius: 0.35em;\">\\n    30\\n    <span style=\"font-size: 0.8em; font-weight: bold; line-height: 1; border-radius: 0.35em; vertical-align: middle; margin-left: 0.5rem\">CARDINAL</span>\\n</mark>\\n [\\n<mark class=\"entity\" style=\"background: #7aecec; padding: 0.45em 0.6em; margin: 0 0.25em; line-height: 1; border-radius: 0.35em;\">\\n    RFQ\\n    <span style=\"font-size: 0.8em; font-weight: bold; line-height: 1; border-radius: 0.35em; vertical-align: middle; margin-left: 0.5rem\">ORG</span>\\n</mark>\\n 2023-11]\\', \\'\\n<mark class=\"entity\" style=\"background: #feca74; padding: 0.45em 0.6em; margin: 0 0.25em; line-height: 1; border-radius: 0.35em;\">\\n    Okaloosa County - Electric Motor\\n    <span style=\"font-size: 0.8em; font-weight: bold; line-height: 1; border-radius: 0.35em; vertical-align: middle; margin-left: 0.5rem\">GPE</span>\\n</mark>\\n, \\n<mark class=\"entity\" style=\"background: #7aecec; padding: 0.45em 0.6em; margin: 0 0.25em; line-height: 1; border-radius: 0.35em;\">\\n    Pump and Rotating Equipment Repair/Service/Replacement\\n    <span style=\"font-size: 0.8em; font-weight: bold; line-height: 1; border-radius: 0.35em; vertical-align: middle; margin-left: 0.5rem\">ORG</span>\\n</mark>\\n for \\n<mark class=\"entity\" style=\"background: #7aecec; padding: 0.45em 0.6em; margin: 0 0.25em; line-height: 1; border-radius: 0.35em;\">\\n    the Water and Sewer Department\\n    <span style=\"font-size: 0.8em; font-weight: bold; line-height: 1; border-radius: 0.35em; vertical-align: middle; margin-left: 0.5rem\">ORG</span>\\n</mark>\\n [\\n<mark class=\"entity\" style=\"background: #7aecec; padding: 0.45em 0.6em; margin: 0 0.25em; line-height: 1; border-radius: 0.35em;\">\\n    ITB\\n    <span style=\"font-size: 0.8em; font-weight: bold; line-height: 1; border-radius: 0.35em; vertical-align: middle; margin-left: 0.5rem\">ORG</span>\\n</mark>\\n WS \\n<mark class=\"entity\" style=\"background: #e4e7d2; padding: 0.45em 0.6em; margin: 0 0.25em; line-height: 1; border-radius: 0.35em;\">\\n    29\\n    <span style=\"font-size: 0.8em; font-weight: bold; line-height: 1; border-radius: 0.35em; vertical-align: middle; margin-left: 0.5rem\">CARDINAL</span>\\n</mark>\\n-23]\\', \\'\\n<mark class=\"entity\" style=\"background: #feca74; padding: 0.45em 0.6em; margin: 0 0.25em; line-height: 1; border-radius: 0.35em;\">\\n    Okaloosa County - Okaloosa County Offshore Artificial Reef Construction\\n    <span style=\"font-size: 0.8em; font-weight: bold; line-height: 1; border-radius: 0.35em; vertical-align: middle; margin-left: 0.5rem\">GPE</span>\\n</mark>\\n Project- \\n<mark class=\"entity\" style=\"background: #7aecec; padding: 0.45em 0.6em; margin: 0 0.25em; line-height: 1; border-radius: 0.35em;\">\\n    Deepwater Large and Small\\n    <span style=\"font-size: 0.8em; font-weight: bold; line-height: 1; border-radius: 0.35em; vertical-align: middle; margin-left: 0.5rem\">ORG</span>\\n</mark>\\n Tetrahedrons [RFP TDD \\n<mark class=\"entity\" style=\"background: #e4e7d2; padding: 0.45em 0.6em; margin: 0 0.25em; line-height: 1; border-radius: 0.35em;\">\\n    28-23\\n    <span style=\"font-size: 0.8em; font-weight: bold; line-height: 1; border-radius: 0.35em; vertical-align: middle; margin-left: 0.5rem\">CARDINAL</span>\\n</mark>\\n]\\', \\'\\n<mark class=\"entity\" style=\"background: #feca74; padding: 0.45em 0.6em; margin: 0 0.25em; line-height: 1; border-radius: 0.35em;\">\\n    Bay County - Magnolia\\n    <span style=\"font-size: 0.8em; font-weight: bold; line-height: 1; border-radius: 0.35em; vertical-align: middle; margin-left: 0.5rem\">GPE</span>\\n</mark>\\n Beach Road \\n<mark class=\"entity\" style=\"background: #aa9cfc; padding: 0.45em 0.6em; margin: 0 0.25em; line-height: 1; border-radius: 0.35em;\">\\n    Multiuse Path Re-bid\\n    <span style=\"font-size: 0.8em; font-weight: bold; line-height: 1; border-radius: 0.35em; vertical-align: middle; margin-left: 0.5rem\">PERSON</span>\\n</mark>\\n [\\n<mark class=\"entity\" style=\"background: #7aecec; padding: 0.45em 0.6em; margin: 0 0.25em; line-height: 1; border-radius: 0.35em;\">\\n    ITB\\n    <span style=\"font-size: 0.8em; font-weight: bold; line-height: 1; border-radius: 0.35em; vertical-align: middle; margin-left: 0.5rem\">ORG</span>\\n</mark>\\n \\n<mark class=\"entity\" style=\"background: #e4e7d2; padding: 0.45em 0.6em; margin: 0 0.25em; line-height: 1; border-radius: 0.35em;\">\\n    23-19\\n    <span style=\"font-size: 0.8em; font-weight: bold; line-height: 1; border-radius: 0.35em; vertical-align: middle; margin-left: 0.5rem\">CARDINAL</span>\\n</mark>\\n]\\', \\'\\n<mark class=\"entity\" style=\"background: #feca74; padding: 0.45em 0.6em; margin: 0 0.25em; line-height: 1; border-radius: 0.35em;\">\\n    Bay County - Sweetwater Branch Road\\n    <span style=\"font-size: 0.8em; font-weight: bold; line-height: 1; border-radius: 0.35em; vertical-align: middle; margin-left: 0.5rem\">GPE</span>\\n</mark>\\n Sediment Reduction Project [ITB \\n<mark class=\"entity\" style=\"background: #e4e7d2; padding: 0.45em 0.6em; margin: 0 0.25em; line-height: 1; border-radius: 0.35em;\">\\n    23-18\\n    <span style=\"font-size: 0.8em; font-weight: bold; line-height: 1; border-radius: 0.35em; vertical-align: middle; margin-left: 0.5rem\">CARDINAL</span>\\n</mark>\\n]\\', \\'\\n<mark class=\"entity\" style=\"background: #7aecec; padding: 0.45em 0.6em; margin: 0 0.25em; line-height: 1; border-radius: 0.35em;\">\\n    Florida Department of Environmental Protection - Re-Advertisement for Custom-Built Pontoon Vessel(s\\n    <span style=\"font-size: 0.8em; font-weight: bold; line-height: 1; border-radius: 0.35em; vertical-align: middle; margin-left: 0.5rem\">ORG</span>\\n</mark>\\n) for \\n<mark class=\"entity\" style=\"background: #aa9cfc; padding: 0.45em 0.6em; margin: 0 0.25em; line-height: 1; border-radius: 0.35em;\">\\n    Edward Ball Wakulla\\n    <span style=\"font-size: 0.8em; font-weight: bold; line-height: 1; border-radius: 0.35em; vertical-align: middle; margin-left: 0.5rem\">PERSON</span>\\n</mark>\\n Springs State Park [ I...\\', \\'\\n<mark class=\"entity\" style=\"background: #feca74; padding: 0.45em 0.6em; margin: 0 0.25em; line-height: 1; border-radius: 0.35em;\">\\n    Santa Rosa County - Dedicated Internet Access\\n    <span style=\"font-size: 0.8em; font-weight: bold; line-height: 1; border-radius: 0.35em; vertical-align: middle; margin-left: 0.5rem\">GPE</span>\\n</mark>\\n and \\n<mark class=\"entity\" style=\"background: #7aecec; padding: 0.45em 0.6em; margin: 0 0.25em; line-height: 1; border-radius: 0.35em;\">\\n    Wide Area Network Transport Service\\n    <span style=\"font-size: 0.8em; font-weight: bold; line-height: 1; border-radius: 0.35em; vertical-align: middle; margin-left: 0.5rem\">ORG</span>\\n</mark>\\n [RFP \\n<mark class=\"entity\" style=\"background: #e4e7d2; padding: 0.45em 0.6em; margin: 0 0.25em; line-height: 1; border-radius: 0.35em;\">\\n    23\\n    <span style=\"font-size: 0.8em; font-weight: bold; line-height: 1; border-radius: 0.35em; vertical-align: middle; margin-left: 0.5rem\">CARDINAL</span>\\n</mark>\\n-016]\\', \\n<mark class=\"entity\" style=\"background: #feca74; padding: 0.45em 0.6em; margin: 0 0.25em; line-height: 1; border-radius: 0.35em;\">\\n    \\'Wakulla County - Professional Engineering Services PFA-2\\n    <span style=\"font-size: 0.8em; font-weight: bold; line-height: 1; border-radius: 0.35em; vertical-align: middle; margin-left: 0.5rem\">GPE</span>\\n</mark>\\n Phase 5 and 6 (Ameliawood and Ridgeland/Highland Place [RFQ \\n<mark class=\"entity\" style=\"background: #bfe1d9; padding: 0.45em 0.6em; margin: 0 0.25em; line-height: 1; border-radius: 0.35em;\">\\n    2023-09\\n    <span style=\"font-size: 0.8em; font-weight: bold; line-height: 1; border-radius: 0.35em; vertical-align: middle; margin-left: 0.5rem\">DATE</span>\\n</mark>\\n]\\', \\'\\n<mark class=\"entity\" style=\"background: #feca74; padding: 0.45em 0.6em; margin: 0 0.25em; line-height: 1; border-radius: 0.35em;\">\\n    Charlotte County -\\n    <span style=\"font-size: 0.8em; font-weight: bold; line-height: 1; border-radius: 0.35em; vertical-align: middle; margin-left: 0.5rem\">GPE</span>\\n</mark>\\n Hurricane Ian Permanent Repairs - Gillot Boulevard [ITB \\n<mark class=\"entity\" style=\"background: #e4e7d2; padding: 0.45em 0.6em; margin: 0 0.25em; line-height: 1; border-radius: 0.35em;\">\\n    23\\n    <span style=\"font-size: 0.8em; font-weight: bold; line-height: 1; border-radius: 0.35em; vertical-align: middle; margin-left: 0.5rem\">CARDINAL</span>\\n</mark>\\n-312]\\', \\'\\n<mark class=\"entity\" style=\"background: #feca74; padding: 0.45em 0.6em; margin: 0 0.25em; line-height: 1; border-radius: 0.35em;\">\\n    Charlotte County -\\n    <span style=\"font-size: 0.8em; font-weight: bold; line-height: 1; border-radius: 0.35em; vertical-align: middle; margin-left: 0.5rem\">GPE</span>\\n</mark>\\n Hurricane Ian Permanent Repairs for \\n<mark class=\"entity\" style=\"background: #feca74; padding: 0.45em 0.6em; margin: 0 0.25em; line-height: 1; border-radius: 0.35em;\">\\n    Mid County - Group\\n    <span style=\"font-size: 0.8em; font-weight: bold; line-height: 1; border-radius: 0.35em; vertical-align: middle; margin-left: 0.5rem\">GPE</span>\\n</mark>\\n \\n<mark class=\"entity\" style=\"background: #e4e7d2; padding: 0.45em 0.6em; margin: 0 0.25em; line-height: 1; border-radius: 0.35em;\">\\n    3\\n    <span style=\"font-size: 0.8em; font-weight: bold; line-height: 1; border-radius: 0.35em; vertical-align: middle; margin-left: 0.5rem\">CARDINAL</span>\\n</mark>\\n [\\n<mark class=\"entity\" style=\"background: #7aecec; padding: 0.45em 0.6em; margin: 0 0.25em; line-height: 1; border-radius: 0.35em;\">\\n    ITB\\n    <span style=\"font-size: 0.8em; font-weight: bold; line-height: 1; border-radius: 0.35em; vertical-align: middle; margin-left: 0.5rem\">ORG</span>\\n</mark>\\n \\n<mark class=\"entity\" style=\"background: #e4e7d2; padding: 0.45em 0.6em; margin: 0 0.25em; line-height: 1; border-radius: 0.35em;\">\\n    23\\n    <span style=\"font-size: 0.8em; font-weight: bold; line-height: 1; border-radius: 0.35em; vertical-align: middle; margin-left: 0.5rem\">CARDINAL</span>\\n</mark>\\n-307]\\', \\'Orange County Public Schools - RFPs and ITBs\\']</div>'"
            ],
            "application/vnd.google.colaboratory.intrinsic+json": {
              "type": "string"
            }
          },
          "metadata": {},
          "execution_count": 42
        }
      ]
    },
    {
      "cell_type": "markdown",
      "source": [
        "**Analysis : Above data gives information of florida bid advertisments with start date and expiry date**"
      ],
      "metadata": {
        "id": "PvOC51eoxMqU"
      }
    },
    {
      "cell_type": "markdown",
      "source": [
        "*Finish....*"
      ],
      "metadata": {
        "id": "l6BXrp_PxUoP"
      }
    },
    {
      "cell_type": "markdown",
      "source": [
        "**5.Data from Opentender Portal**"
      ],
      "metadata": {
        "id": "pwK7qPOoxYKb"
      }
    },
    {
      "cell_type": "code",
      "source": [
        "df5=pd.read_csv(\"/content/dataset5.csv\")\n",
        "df5=df5.drop(['Unnamed: 2'],axis=1)\n",
        "df5.head()"
      ],
      "metadata": {
        "colab": {
          "base_uri": "https://localhost:8080/",
          "height": 206
        },
        "id": "IaBw3K6LxhEl",
        "outputId": "439dd01f-078b-4b05-ab05-748a4f44edd0"
      },
      "execution_count": null,
      "outputs": [
        {
          "output_type": "execute_result",
          "data": {
            "text/plain": [
              "    Country Nr of Tendors\n",
              "0   Austria        81,284\n",
              "1   Belgium        64,112\n",
              "2  Bulgaria       119,165\n",
              "3   Croatia       141,847\n",
              "4    Cyprus         6,069"
            ],
            "text/html": [
              "\n",
              "  <div id=\"df-30b137e7-2e1b-45d0-84db-3d8a4bc43255\">\n",
              "    <div class=\"colab-df-container\">\n",
              "      <div>\n",
              "<style scoped>\n",
              "    .dataframe tbody tr th:only-of-type {\n",
              "        vertical-align: middle;\n",
              "    }\n",
              "\n",
              "    .dataframe tbody tr th {\n",
              "        vertical-align: top;\n",
              "    }\n",
              "\n",
              "    .dataframe thead th {\n",
              "        text-align: right;\n",
              "    }\n",
              "</style>\n",
              "<table border=\"1\" class=\"dataframe\">\n",
              "  <thead>\n",
              "    <tr style=\"text-align: right;\">\n",
              "      <th></th>\n",
              "      <th>Country</th>\n",
              "      <th>Nr of Tendors</th>\n",
              "    </tr>\n",
              "  </thead>\n",
              "  <tbody>\n",
              "    <tr>\n",
              "      <th>0</th>\n",
              "      <td>Austria</td>\n",
              "      <td>81,284</td>\n",
              "    </tr>\n",
              "    <tr>\n",
              "      <th>1</th>\n",
              "      <td>Belgium</td>\n",
              "      <td>64,112</td>\n",
              "    </tr>\n",
              "    <tr>\n",
              "      <th>2</th>\n",
              "      <td>Bulgaria</td>\n",
              "      <td>119,165</td>\n",
              "    </tr>\n",
              "    <tr>\n",
              "      <th>3</th>\n",
              "      <td>Croatia</td>\n",
              "      <td>141,847</td>\n",
              "    </tr>\n",
              "    <tr>\n",
              "      <th>4</th>\n",
              "      <td>Cyprus</td>\n",
              "      <td>6,069</td>\n",
              "    </tr>\n",
              "  </tbody>\n",
              "</table>\n",
              "</div>\n",
              "      <button class=\"colab-df-convert\" onclick=\"convertToInteractive('df-30b137e7-2e1b-45d0-84db-3d8a4bc43255')\"\n",
              "              title=\"Convert this dataframe to an interactive table.\"\n",
              "              style=\"display:none;\">\n",
              "        \n",
              "  <svg xmlns=\"http://www.w3.org/2000/svg\" height=\"24px\"viewBox=\"0 0 24 24\"\n",
              "       width=\"24px\">\n",
              "    <path d=\"M0 0h24v24H0V0z\" fill=\"none\"/>\n",
              "    <path d=\"M18.56 5.44l.94 2.06.94-2.06 2.06-.94-2.06-.94-.94-2.06-.94 2.06-2.06.94zm-11 1L8.5 8.5l.94-2.06 2.06-.94-2.06-.94L8.5 2.5l-.94 2.06-2.06.94zm10 10l.94 2.06.94-2.06 2.06-.94-2.06-.94-.94-2.06-.94 2.06-2.06.94z\"/><path d=\"M17.41 7.96l-1.37-1.37c-.4-.4-.92-.59-1.43-.59-.52 0-1.04.2-1.43.59L10.3 9.45l-7.72 7.72c-.78.78-.78 2.05 0 2.83L4 21.41c.39.39.9.59 1.41.59.51 0 1.02-.2 1.41-.59l7.78-7.78 2.81-2.81c.8-.78.8-2.07 0-2.86zM5.41 20L4 18.59l7.72-7.72 1.47 1.35L5.41 20z\"/>\n",
              "  </svg>\n",
              "      </button>\n",
              "      \n",
              "  <style>\n",
              "    .colab-df-container {\n",
              "      display:flex;\n",
              "      flex-wrap:wrap;\n",
              "      gap: 12px;\n",
              "    }\n",
              "\n",
              "    .colab-df-convert {\n",
              "      background-color: #E8F0FE;\n",
              "      border: none;\n",
              "      border-radius: 50%;\n",
              "      cursor: pointer;\n",
              "      display: none;\n",
              "      fill: #1967D2;\n",
              "      height: 32px;\n",
              "      padding: 0 0 0 0;\n",
              "      width: 32px;\n",
              "    }\n",
              "\n",
              "    .colab-df-convert:hover {\n",
              "      background-color: #E2EBFA;\n",
              "      box-shadow: 0px 1px 2px rgba(60, 64, 67, 0.3), 0px 1px 3px 1px rgba(60, 64, 67, 0.15);\n",
              "      fill: #174EA6;\n",
              "    }\n",
              "\n",
              "    [theme=dark] .colab-df-convert {\n",
              "      background-color: #3B4455;\n",
              "      fill: #D2E3FC;\n",
              "    }\n",
              "\n",
              "    [theme=dark] .colab-df-convert:hover {\n",
              "      background-color: #434B5C;\n",
              "      box-shadow: 0px 1px 3px 1px rgba(0, 0, 0, 0.15);\n",
              "      filter: drop-shadow(0px 1px 2px rgba(0, 0, 0, 0.3));\n",
              "      fill: #FFFFFF;\n",
              "    }\n",
              "  </style>\n",
              "\n",
              "      <script>\n",
              "        const buttonEl =\n",
              "          document.querySelector('#df-30b137e7-2e1b-45d0-84db-3d8a4bc43255 button.colab-df-convert');\n",
              "        buttonEl.style.display =\n",
              "          google.colab.kernel.accessAllowed ? 'block' : 'none';\n",
              "\n",
              "        async function convertToInteractive(key) {\n",
              "          const element = document.querySelector('#df-30b137e7-2e1b-45d0-84db-3d8a4bc43255');\n",
              "          const dataTable =\n",
              "            await google.colab.kernel.invokeFunction('convertToInteractive',\n",
              "                                                     [key], {});\n",
              "          if (!dataTable) return;\n",
              "\n",
              "          const docLinkHtml = 'Like what you see? Visit the ' +\n",
              "            '<a target=\"_blank\" href=https://colab.research.google.com/notebooks/data_table.ipynb>data table notebook</a>'\n",
              "            + ' to learn more about interactive tables.';\n",
              "          element.innerHTML = '';\n",
              "          dataTable['output_type'] = 'display_data';\n",
              "          await google.colab.output.renderOutput(dataTable, element);\n",
              "          const docLink = document.createElement('div');\n",
              "          docLink.innerHTML = docLinkHtml;\n",
              "          element.appendChild(docLink);\n",
              "        }\n",
              "      </script>\n",
              "    </div>\n",
              "  </div>\n",
              "  "
            ]
          },
          "metadata": {},
          "execution_count": 44
        }
      ]
    },
    {
      "cell_type": "code",
      "source": [
        "df.info"
      ],
      "metadata": {
        "colab": {
          "base_uri": "https://localhost:8080/"
        },
        "id": "WEaZlcWDxy8m",
        "outputId": "fa365e58-f4a2-4b8e-e72f-b6c2394b0014"
      },
      "execution_count": null,
      "outputs": [
        {
          "output_type": "execute_result",
          "data": {
            "text/plain": [
              "<bound method DataFrame.info of                                        Project Title  Unnamed: 1  \\\n",
              "0  Technology for Youth and Jobs Additional Finan...         NaN   \n",
              "1  Cabo Verde Resilient Tourism and Blue Economy ...         NaN   \n",
              "2  Improving public financial management for the ...         NaN   \n",
              "3  Zambia Education Enhancement Project Second Ad...         NaN   \n",
              "4  First Serbia Green Transition Programmatic Dev...         NaN   \n",
              "5  West Bank and Gaza Resilient Municipal Service...         NaN   \n",
              "\n",
              "                  Country Approval Date  \n",
              "0      West Bank and Gaza     10-Mar-23  \n",
              "1  Republic of Cabo Verde     10-Mar-23  \n",
              "2      Republic of Serbia      9-Mar-23  \n",
              "3      Republic of Zambia      9-Mar-23  \n",
              "4      Republic of Serbia      9-Mar-23  \n",
              "5      West Bank and Gaza     28-Feb-23  >"
            ]
          },
          "metadata": {},
          "execution_count": 45
        }
      ]
    },
    {
      "cell_type": "code",
      "source": [
        "df['Country']"
      ],
      "metadata": {
        "colab": {
          "base_uri": "https://localhost:8080/"
        },
        "id": "NpmkP6hPx65V",
        "outputId": "5bc7ad57-85e6-4f62-e065-a72cc3e5e0c1"
      },
      "execution_count": null,
      "outputs": [
        {
          "output_type": "execute_result",
          "data": {
            "text/plain": [
              "0        West Bank and Gaza\n",
              "1    Republic of Cabo Verde\n",
              "2        Republic of Serbia\n",
              "3        Republic of Zambia\n",
              "4        Republic of Serbia\n",
              "5        West Bank and Gaza\n",
              "Name: Country, dtype: object"
            ]
          },
          "metadata": {},
          "execution_count": 46
        }
      ]
    },
    {
      "cell_type": "markdown",
      "source": [
        "**Visualization**"
      ],
      "metadata": {
        "id": "ilLRCMIMyCfx"
      }
    },
    {
      "cell_type": "code",
      "source": [
        "sns.scatterplot(data=df5,x=\"Country\",y=\"Nr of Tendors\",hue=\"Nr of Tendors\")"
      ],
      "metadata": {
        "colab": {
          "base_uri": "https://localhost:8080/",
          "height": 566
        },
        "id": "3e5tuoZ6yIGa",
        "outputId": "4e2de753-89d8-485f-d4bd-c0d5f7354cdb"
      },
      "execution_count": null,
      "outputs": [
        {
          "output_type": "execute_result",
          "data": {
            "text/plain": [
              "<AxesSubplot:xlabel='Country', ylabel='Nr of Tendors'>"
            ]
          },
          "metadata": {},
          "execution_count": 47
        },
        {
          "output_type": "display_data",
          "data": {
            "text/plain": [
              "<Figure size 432x288 with 1 Axes>"
            ],
            "image/png": "[encoded data removed]"
          },
          "metadata": {}
        }
      ]
    },
    {
      "cell_type": "markdown",
      "source": [
        "**Above Visualization shows the tendor count of different countries**"
      ],
      "metadata": {
        "id": "_hAsbQ1WyPnD"
      }
    },
    {
      "cell_type": "markdown",
      "source": [
        "*Finish....*"
      ],
      "metadata": {
        "id": "tBZOSOzryYjY"
      }
    },
    {
      "cell_type": "markdown",
      "source": [
        "**Bonus question: Find data sources for road projects and tenders in the state of California.**"
      ],
      "metadata": {
        "id": "X56EELZAz3TO"
      }
    },
    {
      "cell_type": "markdown",
      "source": [
        "**Following are the data sources :-**"
      ],
      "metadata": {
        "id": "deXL82Je1YFb"
      }
    },
    {
      "cell_type": "markdown",
      "source": [
        "1. https://www.bidnet.com/closed-government-contracts/california/construction/road---highway-materials-Bids"
      ],
      "metadata": {
        "id": "XgTioN_ez64x"
      }
    },
    {
      "cell_type": "markdown",
      "source": [
        "2. https://highways.dot.gov/federal-lands/projects/ca"
      ],
      "metadata": {
        "id": "lGwu-sQX0SpL"
      }
    },
    {
      "cell_type": "markdown",
      "source": [
        "3. https://www.bidnetdirect.com/california"
      ],
      "metadata": {
        "id": "gslM7o9J00dl"
      }
    },
    {
      "cell_type": "markdown",
      "source": [
        "4. https://www.findrfp.com/State-RFP-Bid/Government-RFPS-bids-California-CA.aspx"
      ],
      "metadata": {
        "id": "sD4VQXKg0986"
      }
    },
    {
      "cell_type": "markdown",
      "source": [
        "5. https://www.governmentbids.com/california-government-bids.jsa"
      ],
      "metadata": {
        "id": "L8jJ1O9M1VN9"
      }
    },
    {
      "cell_type": "markdown",
      "source": [
        "6. https://www.tendernews.com/tenders/latest-tender/california.html"
      ],
      "metadata": {
        "id": "jRFuKqXr1vpN"
      }
    },
    {
      "cell_type": "markdown",
      "source": [
        "7. https://www.globaltenders.com/latest-tenders?maj_org%5B%5D=US03986"
      ],
      "metadata": {
        "id": "gc2oZlc-12Q3"
      }
    }
  ]
}